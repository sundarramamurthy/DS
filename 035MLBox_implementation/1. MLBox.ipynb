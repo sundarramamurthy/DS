{
 "cells": [
  {
   "cell_type": "markdown",
   "metadata": {
    "collapsed": true
   },
   "source": [
    "## Load the Libraries"
   ]
  },
  {
   "cell_type": "code",
   "execution_count": 1,
   "metadata": {},
   "outputs": [
    {
     "name": "stderr",
     "output_type": "stream",
     "text": [
      "Using TensorFlow backend.\n",
      "C:\\Users\\sundar\\Anaconda3\\lib\\site-packages\\tensorflow\\python\\framework\\dtypes.py:516: FutureWarning: Passing (type, 1) or '1type' as a synonym of type is deprecated; in a future version of numpy, it will be understood as (type, (1,)) / '(1,)type'.\n",
      "  _np_qint8 = np.dtype([(\"qint8\", np.int8, 1)])\n",
      "C:\\Users\\sundar\\Anaconda3\\lib\\site-packages\\tensorflow\\python\\framework\\dtypes.py:517: FutureWarning: Passing (type, 1) or '1type' as a synonym of type is deprecated; in a future version of numpy, it will be understood as (type, (1,)) / '(1,)type'.\n",
      "  _np_quint8 = np.dtype([(\"quint8\", np.uint8, 1)])\n",
      "C:\\Users\\sundar\\Anaconda3\\lib\\site-packages\\tensorflow\\python\\framework\\dtypes.py:518: FutureWarning: Passing (type, 1) or '1type' as a synonym of type is deprecated; in a future version of numpy, it will be understood as (type, (1,)) / '(1,)type'.\n",
      "  _np_qint16 = np.dtype([(\"qint16\", np.int16, 1)])\n",
      "C:\\Users\\sundar\\Anaconda3\\lib\\site-packages\\tensorflow\\python\\framework\\dtypes.py:519: FutureWarning: Passing (type, 1) or '1type' as a synonym of type is deprecated; in a future version of numpy, it will be understood as (type, (1,)) / '(1,)type'.\n",
      "  _np_quint16 = np.dtype([(\"quint16\", np.uint16, 1)])\n",
      "C:\\Users\\sundar\\Anaconda3\\lib\\site-packages\\tensorflow\\python\\framework\\dtypes.py:520: FutureWarning: Passing (type, 1) or '1type' as a synonym of type is deprecated; in a future version of numpy, it will be understood as (type, (1,)) / '(1,)type'.\n",
      "  _np_qint32 = np.dtype([(\"qint32\", np.int32, 1)])\n",
      "C:\\Users\\sundar\\Anaconda3\\lib\\site-packages\\tensorflow\\python\\framework\\dtypes.py:525: FutureWarning: Passing (type, 1) or '1type' as a synonym of type is deprecated; in a future version of numpy, it will be understood as (type, (1,)) / '(1,)type'.\n",
      "  np_resource = np.dtype([(\"resource\", np.ubyte, 1)])\n",
      "C:\\Users\\sundar\\Anaconda3\\lib\\site-packages\\tensorboard\\compat\\tensorflow_stub\\dtypes.py:541: FutureWarning: Passing (type, 1) or '1type' as a synonym of type is deprecated; in a future version of numpy, it will be understood as (type, (1,)) / '(1,)type'.\n",
      "  _np_qint8 = np.dtype([(\"qint8\", np.int8, 1)])\n",
      "C:\\Users\\sundar\\Anaconda3\\lib\\site-packages\\tensorboard\\compat\\tensorflow_stub\\dtypes.py:542: FutureWarning: Passing (type, 1) or '1type' as a synonym of type is deprecated; in a future version of numpy, it will be understood as (type, (1,)) / '(1,)type'.\n",
      "  _np_quint8 = np.dtype([(\"quint8\", np.uint8, 1)])\n",
      "C:\\Users\\sundar\\Anaconda3\\lib\\site-packages\\tensorboard\\compat\\tensorflow_stub\\dtypes.py:543: FutureWarning: Passing (type, 1) or '1type' as a synonym of type is deprecated; in a future version of numpy, it will be understood as (type, (1,)) / '(1,)type'.\n",
      "  _np_qint16 = np.dtype([(\"qint16\", np.int16, 1)])\n",
      "C:\\Users\\sundar\\Anaconda3\\lib\\site-packages\\tensorboard\\compat\\tensorflow_stub\\dtypes.py:544: FutureWarning: Passing (type, 1) or '1type' as a synonym of type is deprecated; in a future version of numpy, it will be understood as (type, (1,)) / '(1,)type'.\n",
      "  _np_quint16 = np.dtype([(\"quint16\", np.uint16, 1)])\n",
      "C:\\Users\\sundar\\Anaconda3\\lib\\site-packages\\tensorboard\\compat\\tensorflow_stub\\dtypes.py:545: FutureWarning: Passing (type, 1) or '1type' as a synonym of type is deprecated; in a future version of numpy, it will be understood as (type, (1,)) / '(1,)type'.\n",
      "  _np_qint32 = np.dtype([(\"qint32\", np.int32, 1)])\n",
      "C:\\Users\\sundar\\Anaconda3\\lib\\site-packages\\tensorboard\\compat\\tensorflow_stub\\dtypes.py:550: FutureWarning: Passing (type, 1) or '1type' as a synonym of type is deprecated; in a future version of numpy, it will be understood as (type, (1,)) / '(1,)type'.\n",
      "  np_resource = np.dtype([(\"resource\", np.ubyte, 1)])\n"
     ]
    }
   ],
   "source": [
    "# importing the required libraries\n",
    "from mlbox.preprocessing import *\n",
    "from mlbox.optimisation import *\n",
    "from mlbox.prediction import *\n",
    "\n",
    "import warnings\n",
    "warnings.filterwarnings(\"ignore\")"
   ]
  },
  {
   "cell_type": "markdown",
   "metadata": {},
   "source": [
    "## Preprocessing"
   ]
  },
  {
   "cell_type": "code",
   "execution_count": 2,
   "metadata": {
    "scrolled": true
   },
   "outputs": [
    {
     "name": "stdout",
     "output_type": "stream",
     "text": [
      "\n",
      "reading csv : train_bm.csv ...\n",
      "cleaning data ...\n",
      "CPU time: 0.39519381523132324 seconds\n",
      "\n",
      "reading csv : test_bm.csv ...\n",
      "cleaning data ...\n",
      "CPU time: 0.1332106590270996 seconds\n",
      "\n",
      "> Number of common features : 11\n",
      "\n",
      "gathering and crunching for train and test datasets ...\n",
      "reindexing for train and test datasets ...\n",
      "dropping training duplicates ...\n",
      "dropping constant variables on training set ...\n",
      "\n",
      "> Number of categorical features: 7\n",
      "> Number of numerical features: 4\n",
      "> Number of training samples : 8523\n",
      "> Number of test samples : 5681\n",
      "\n",
      "> Top sparse features (% missing values on train set):\n",
      "Outlet_Size    28.3\n",
      "Item_Weight    17.2\n",
      "dtype: float64\n",
      "\n",
      "> Task : regression\n",
      "count     8523.000000\n",
      "mean      2181.288914\n",
      "std       1706.499616\n",
      "min         33.290000\n",
      "25%        834.247400\n",
      "50%       1794.331000\n",
      "75%       3101.296400\n",
      "max      13086.964800\n",
      "Name: Item_Outlet_Sales, dtype: float64\n"
     ]
    }
   ],
   "source": [
    "# reading and cleaning the train and test files\n",
    "df=Reader(sep=\",\").train_test_split(['train_bm.csv', 'test_bm.csv'],'Item_Outlet_Sales')"
   ]
  },
  {
   "cell_type": "code",
   "execution_count": 3,
   "metadata": {},
   "outputs": [
    {
     "data": {
      "text/plain": [
       "dict"
      ]
     },
     "execution_count": 3,
     "metadata": {},
     "output_type": "execute_result"
    }
   ],
   "source": [
    "type(df)"
   ]
  },
  {
   "cell_type": "code",
   "execution_count": 4,
   "metadata": {},
   "outputs": [
    {
     "data": {
      "text/plain": [
       "dict_keys(['train', 'test', 'target'])"
      ]
     },
     "execution_count": 4,
     "metadata": {},
     "output_type": "execute_result"
    }
   ],
   "source": [
    "df.keys()"
   ]
  },
  {
   "cell_type": "code",
   "execution_count": 5,
   "metadata": {},
   "outputs": [
    {
     "data": {
      "text/html": [
       "<div>\n",
       "<style scoped>\n",
       "    .dataframe tbody tr th:only-of-type {\n",
       "        vertical-align: middle;\n",
       "    }\n",
       "\n",
       "    .dataframe tbody tr th {\n",
       "        vertical-align: top;\n",
       "    }\n",
       "\n",
       "    .dataframe thead th {\n",
       "        text-align: right;\n",
       "    }\n",
       "</style>\n",
       "<table border=\"1\" class=\"dataframe\">\n",
       "  <thead>\n",
       "    <tr style=\"text-align: right;\">\n",
       "      <th></th>\n",
       "      <th>Item_Fat_Content</th>\n",
       "      <th>Item_Identifier</th>\n",
       "      <th>Item_MRP</th>\n",
       "      <th>Item_Type</th>\n",
       "      <th>Item_Visibility</th>\n",
       "      <th>Item_Weight</th>\n",
       "      <th>Outlet_Establishment_Year</th>\n",
       "      <th>Outlet_Identifier</th>\n",
       "      <th>Outlet_Location_Type</th>\n",
       "      <th>Outlet_Size</th>\n",
       "      <th>Outlet_Type</th>\n",
       "    </tr>\n",
       "  </thead>\n",
       "  <tbody>\n",
       "    <tr>\n",
       "      <th>0</th>\n",
       "      <td>Low Fat</td>\n",
       "      <td>FDA15</td>\n",
       "      <td>249.8092</td>\n",
       "      <td>Dairy</td>\n",
       "      <td>0.016047</td>\n",
       "      <td>9.30</td>\n",
       "      <td>1999.0</td>\n",
       "      <td>OUT049</td>\n",
       "      <td>Tier 1</td>\n",
       "      <td>Medium</td>\n",
       "      <td>Supermarket Type1</td>\n",
       "    </tr>\n",
       "    <tr>\n",
       "      <th>1</th>\n",
       "      <td>Regular</td>\n",
       "      <td>DRC01</td>\n",
       "      <td>48.2692</td>\n",
       "      <td>Soft Drinks</td>\n",
       "      <td>0.019278</td>\n",
       "      <td>5.92</td>\n",
       "      <td>2009.0</td>\n",
       "      <td>OUT018</td>\n",
       "      <td>Tier 3</td>\n",
       "      <td>Medium</td>\n",
       "      <td>Supermarket Type2</td>\n",
       "    </tr>\n",
       "    <tr>\n",
       "      <th>2</th>\n",
       "      <td>Low Fat</td>\n",
       "      <td>FDN15</td>\n",
       "      <td>141.6180</td>\n",
       "      <td>Meat</td>\n",
       "      <td>0.016760</td>\n",
       "      <td>17.50</td>\n",
       "      <td>1999.0</td>\n",
       "      <td>OUT049</td>\n",
       "      <td>Tier 1</td>\n",
       "      <td>Medium</td>\n",
       "      <td>Supermarket Type1</td>\n",
       "    </tr>\n",
       "    <tr>\n",
       "      <th>3</th>\n",
       "      <td>Regular</td>\n",
       "      <td>FDX07</td>\n",
       "      <td>182.0950</td>\n",
       "      <td>Fruits and Vegetables</td>\n",
       "      <td>0.000000</td>\n",
       "      <td>19.20</td>\n",
       "      <td>1998.0</td>\n",
       "      <td>OUT010</td>\n",
       "      <td>Tier 3</td>\n",
       "      <td>NaN</td>\n",
       "      <td>Grocery Store</td>\n",
       "    </tr>\n",
       "    <tr>\n",
       "      <th>4</th>\n",
       "      <td>Low Fat</td>\n",
       "      <td>NCD19</td>\n",
       "      <td>53.8614</td>\n",
       "      <td>Household</td>\n",
       "      <td>0.000000</td>\n",
       "      <td>8.93</td>\n",
       "      <td>1987.0</td>\n",
       "      <td>OUT013</td>\n",
       "      <td>Tier 3</td>\n",
       "      <td>High</td>\n",
       "      <td>Supermarket Type1</td>\n",
       "    </tr>\n",
       "  </tbody>\n",
       "</table>\n",
       "</div>"
      ],
      "text/plain": [
       "  Item_Fat_Content Item_Identifier  Item_MRP              Item_Type  \\\n",
       "0          Low Fat           FDA15  249.8092                  Dairy   \n",
       "1          Regular           DRC01   48.2692            Soft Drinks   \n",
       "2          Low Fat           FDN15  141.6180                   Meat   \n",
       "3          Regular           FDX07  182.0950  Fruits and Vegetables   \n",
       "4          Low Fat           NCD19   53.8614              Household   \n",
       "\n",
       "   Item_Visibility  Item_Weight  Outlet_Establishment_Year Outlet_Identifier  \\\n",
       "0         0.016047         9.30                     1999.0            OUT049   \n",
       "1         0.019278         5.92                     2009.0            OUT018   \n",
       "2         0.016760        17.50                     1999.0            OUT049   \n",
       "3         0.000000        19.20                     1998.0            OUT010   \n",
       "4         0.000000         8.93                     1987.0            OUT013   \n",
       "\n",
       "  Outlet_Location_Type Outlet_Size        Outlet_Type  \n",
       "0               Tier 1      Medium  Supermarket Type1  \n",
       "1               Tier 3      Medium  Supermarket Type2  \n",
       "2               Tier 1      Medium  Supermarket Type1  \n",
       "3               Tier 3         NaN      Grocery Store  \n",
       "4               Tier 3        High  Supermarket Type1  "
      ]
     },
     "execution_count": 5,
     "metadata": {},
     "output_type": "execute_result"
    }
   ],
   "source": [
    "df['train'].head()"
   ]
  },
  {
   "cell_type": "code",
   "execution_count": 6,
   "metadata": {},
   "outputs": [
    {
     "data": {
      "text/plain": [
       "Item_Fat_Content                0\n",
       "Item_Identifier                 0\n",
       "Item_MRP                        0\n",
       "Item_Type                       0\n",
       "Item_Visibility                 0\n",
       "Item_Weight                  1463\n",
       "Outlet_Establishment_Year       0\n",
       "Outlet_Identifier               0\n",
       "Outlet_Location_Type            0\n",
       "Outlet_Size                  2410\n",
       "Outlet_Type                     0\n",
       "dtype: int64"
      ]
     },
     "execution_count": 6,
     "metadata": {},
     "output_type": "execute_result"
    }
   ],
   "source": [
    "df['train'].isnull().sum()"
   ]
  },
  {
   "cell_type": "markdown",
   "metadata": {},
   "source": [
    "## Optimisation"
   ]
  },
  {
   "cell_type": "code",
   "execution_count": 7,
   "metadata": {},
   "outputs": [],
   "source": [
    "# setting the hyperparameter space\n",
    "space={'ne__numerical_strategy':{\"space\":['median']},\n",
    "'ne__categorical_strategy':{\"space\":['mode']},\n",
    "       \n",
    "'ce__strategy':{\"search\":\"choice\",\"space\":['label_encoding','entity_embedding']},\n",
    "'fs__strategy':{\"search\":\"choice\",\"space\":['variance','rf_feature_importance']},\n",
    "'fs__threshold':{\"search\":\"uniform\",\"space\":[0.01, 0.3]},\n",
    "       \n",
    "'est__strategy' : {\"space\" : [\"RandomForest\"]},\n",
    "'est__max_depth':{\"search\":\"choice\",\"space\":[3,5,7,9]},\n",
    "'est__n_estimators':{\"search\":\"choice\",\"space\":[250,500,700,1000]}}"
   ]
  },
  {
   "cell_type": "code",
   "execution_count": 8,
   "metadata": {
    "scrolled": true
   },
   "outputs": [
    {
     "name": "stdout",
     "output_type": "stream",
     "text": [
      "##################################################### testing hyper-parameters... #####################################################\n",
      ">>> NA ENCODER :{'numerical_strategy': 'median', 'categorical_strategy': 'mode'}\n",
      ">>> CA ENCODER :{'strategy': 'entity_embedding'}                               \n",
      ">>> FEATURE SELECTOR :{'strategy': 'variance', 'threshold': 0.057413996965743154}\n",
      ">>> ESTIMATOR :{'strategy': 'RandomForest', 'max_depth': 5, 'n_estimators': 250, 'bootstrap': True, 'criterion': 'mse', 'max_features': 'sqrt', 'max_leaf_nodes': None, 'min_impurity_decrease': 0.0, 'min_impurity_split': None, 'min_samples_leaf': 1, 'min_samples_split': 2, 'min_weight_fraction_leaf': 0.0, 'n_jobs': -1, 'oob_score': False, 'random_state': 0, 'verbose': 0, 'warm_start': False}\n",
      "  0%|                                     | 0/10 [00:00<?, ?it/s, best loss: ?]WARNING:tensorflow:From C:\\Users\\sundar\\Anaconda3\\lib\\site-packages\\keras\\backend\\tensorflow_backend.py:74: The name tf.get_default_graph is deprecated. Please use tf.compat.v1.get_default_graph instead.\n",
      "\n",
      "WARNING:tensorflow:From C:\\Users\\sundar\\Anaconda3\\lib\\site-packages\\keras\\backend\\tensorflow_backend.py:517: The name tf.placeholder is deprecated. Please use tf.compat.v1.placeholder instead.\n",
      "\n",
      "WARNING:tensorflow:From C:\\Users\\sundar\\Anaconda3\\lib\\site-packages\\keras\\backend\\tensorflow_backend.py:4138: The name tf.random_uniform is deprecated. Please use tf.random.uniform instead.\n",
      "\n",
      "WARNING:tensorflow:From C:\\Users\\sundar\\Anaconda3\\lib\\site-packages\\keras\\backend\\tensorflow_backend.py:133: The name tf.placeholder_with_default is deprecated. Please use tf.compat.v1.placeholder_with_default instead.\n",
      "\n",
      "WARNING:tensorflow:From C:\\Users\\sundar\\Anaconda3\\lib\\site-packages\\keras\\backend\\tensorflow_backend.py:3445: calling dropout (from tensorflow.python.ops.nn_ops) with keep_prob is deprecated and will be removed in a future version.\n",
      "Instructions for updating:\n",
      "Please use `rate` instead of `keep_prob`. Rate should be set to `rate = 1 - keep_prob`.\n",
      "WARNING:tensorflow:From C:\\Users\\sundar\\Anaconda3\\lib\\site-packages\\keras\\backend\\tensorflow_backend.py:4115: The name tf.random_normal is deprecated. Please use tf.random.normal instead.\n",
      "\n",
      "WARNING:tensorflow:From C:\\Users\\sundar\\Anaconda3\\lib\\site-packages\\keras\\optimizers.py:790: The name tf.train.Optimizer is deprecated. Please use tf.compat.v1.train.Optimizer instead.\n",
      "\n",
      "MEAN SCORE : r2 = 0.4959252502798286                                           \n",
      "VARIANCE : 0.011949435225678168 (fold 1 = 0.4965271223558727, fold 2 = 0.4931927178384443, fold 3 = 0.49278868301685275, fold 4 = 0.5170305468798732, fold 5 = 0.48008718130810013)\n",
      "CPU time: 45.30625605583191 seconds                                            \n",
      "##################################################### testing hyper-parameters... #####################################################\n",
      ">>> NA ENCODER :{'numerical_strategy': 'median', 'categorical_strategy': 'mode'}\n",
      ">>> CA ENCODER :{'strategy': 'entity_embedding'}                               \n",
      ">>> FEATURE SELECTOR :{'strategy': 'variance', 'threshold': 0.1414896608773462}\n",
      ">>> ESTIMATOR :{'strategy': 'RandomForest', 'max_depth': 9, 'n_estimators': 1000, 'bootstrap': True, 'criterion': 'mse', 'max_features': 'sqrt', 'max_leaf_nodes': None, 'min_impurity_decrease': 0.0, 'min_impurity_split': None, 'min_samples_leaf': 1, 'min_samples_split': 2, 'min_weight_fraction_leaf': 0.0, 'n_jobs': -1, 'oob_score': False, 'random_state': 0, 'verbose': 0, 'warm_start': False}\n",
      "MEAN SCORE : r2 = 0.5010204620330682                                           \n",
      "VARIANCE : 0.009862125848959836 (fold 1 = 0.4951236846901911, fold 2 = 0.49806583179739616, fold 3 = 0.5009305445836316, fold 4 = 0.519683095457876, fold 5 = 0.4912991536362461)\n",
      "CPU time: 24.528541088104248 seconds                                           \n",
      "##################################################### testing hyper-parameters... #####################################################\n",
      ">>> NA ENCODER :{'numerical_strategy': 'median', 'categorical_strategy': 'mode'}\n",
      ">>> CA ENCODER :{'strategy': 'label_encoding'}                                 \n",
      ">>> FEATURE SELECTOR :{'strategy': 'variance', 'threshold': 0.1222011746529339}\n",
      ">>> ESTIMATOR :{'strategy': 'RandomForest', 'max_depth': 3, 'n_estimators': 1000, 'bootstrap': True, 'criterion': 'mse', 'max_features': 'sqrt', 'max_leaf_nodes': None, 'min_impurity_decrease': 0.0, 'min_impurity_split': None, 'min_samples_leaf': 1, 'min_samples_split': 2, 'min_weight_fraction_leaf': 0.0, 'n_jobs': -1, 'oob_score': False, 'random_state': 0, 'verbose': 0, 'warm_start': False}\n",
      "MEAN SCORE : r2 = 0.4871176144266528                                           \n",
      "VARIANCE : 0.01142785517982012 (fold 1 = 0.49448823643000317, fold 2 = 0.48133975008434016, fold 3 = 0.4860460395526123, fold 4 = 0.5036496627381092, fold 5 = 0.4700643833281992)\n",
      "CPU time: 10.137102842330933 seconds                                           \n",
      "##################################################### testing hyper-parameters... #####################################################\n",
      ">>> NA ENCODER :{'numerical_strategy': 'median', 'categorical_strategy': 'mode'}\n",
      ">>> CA ENCODER :{'strategy': 'entity_embedding'}                               \n",
      ">>> FEATURE SELECTOR :{'strategy': 'variance', 'threshold': 0.06145777996528757}\n",
      ">>> ESTIMATOR :{'strategy': 'RandomForest', 'max_depth': 9, 'n_estimators': 250, 'bootstrap': True, 'criterion': 'mse', 'max_features': 'sqrt', 'max_leaf_nodes': None, 'min_impurity_decrease': 0.0, 'min_impurity_split': None, 'min_samples_leaf': 1, 'min_samples_split': 2, 'min_weight_fraction_leaf': 0.0, 'n_jobs': -1, 'oob_score': False, 'random_state': 0, 'verbose': 0, 'warm_start': False}\n",
      "MEAN SCORE : r2 = 0.500331994147672                                            \n",
      "VARIANCE : 0.01023067732186212 (fold 1 = 0.49380933181609676, fold 2 = 0.496954846254107, fold 3 = 0.5016584881616464, fold 4 = 0.5192964088723051, fold 5 = 0.4899408956342054)\n",
      "CPU time: 9.341123342514038 seconds                                            \n",
      "##################################################### testing hyper-parameters... #####################################################\n",
      ">>> NA ENCODER :{'numerical_strategy': 'median', 'categorical_strategy': 'mode'}\n",
      ">>> CA ENCODER :{'strategy': 'entity_embedding'}                               \n",
      ">>> FEATURE SELECTOR :{'strategy': 'variance', 'threshold': 0.07675338217248852}\n",
      ">>> ESTIMATOR :{'strategy': 'RandomForest', 'max_depth': 3, 'n_estimators': 1000, 'bootstrap': True, 'criterion': 'mse', 'max_features': 'sqrt', 'max_leaf_nodes': None, 'min_impurity_decrease': 0.0, 'min_impurity_split': None, 'min_samples_leaf': 1, 'min_samples_split': 2, 'min_weight_fraction_leaf': 0.0, 'n_jobs': -1, 'oob_score': False, 'random_state': 0, 'verbose': 0, 'warm_start': False}\n",
      "MEAN SCORE : r2 = 0.4417005705517189                                           \n",
      "VARIANCE : 0.01623382636590796 (fold 1 = 0.45204016198426433, fold 2 = 0.4374392287206246, fold 3 = 0.4283969744652114, fold 4 = 0.4675565677640515, fold 5 = 0.42306991982444286)\n",
      "CPU time: 14.442719221115112 seconds                                           \n",
      "##################################################### testing hyper-parameters... #####################################################\n",
      ">>> NA ENCODER :{'numerical_strategy': 'median', 'categorical_strategy': 'mode'}\n",
      ">>> CA ENCODER :{'strategy': 'label_encoding'}                                 \n",
      ">>> FEATURE SELECTOR :{'strategy': 'variance', 'threshold': 0.11804877931073272}\n",
      ">>> ESTIMATOR :{'strategy': 'RandomForest', 'max_depth': 3, 'n_estimators': 500, 'bootstrap': True, 'criterion': 'mse', 'max_features': 'sqrt', 'max_leaf_nodes': None, 'min_impurity_decrease': 0.0, 'min_impurity_split': None, 'min_samples_leaf': 1, 'min_samples_split': 2, 'min_weight_fraction_leaf': 0.0, 'n_jobs': -1, 'oob_score': False, 'random_state': 0, 'verbose': 0, 'warm_start': False}\n",
      "MEAN SCORE : r2 = 0.4880750266065289                                           \n"
     ]
    },
    {
     "name": "stdout",
     "output_type": "stream",
     "text": [
      "VARIANCE : 0.011352049394388745 (fold 1 = 0.4941184201454283, fold 2 = 0.48258843303806576, fold 3 = 0.4879805769481118, fold 4 = 0.5048380270434719, fold 5 = 0.47084967585756676)\n",
      "CPU time: 5.41963267326355 seconds                                             \n",
      "##################################################### testing hyper-parameters... #####################################################\n",
      ">>> NA ENCODER :{'numerical_strategy': 'median', 'categorical_strategy': 'mode'}\n",
      ">>> CA ENCODER :{'strategy': 'entity_embedding'}                               \n",
      ">>> FEATURE SELECTOR :{'strategy': 'rf_feature_importance', 'threshold': 0.013096644987007706}\n",
      ">>> ESTIMATOR :{'strategy': 'RandomForest', 'max_depth': 9, 'n_estimators': 250, 'bootstrap': True, 'criterion': 'mse', 'max_features': 'sqrt', 'max_leaf_nodes': None, 'min_impurity_decrease': 0.0, 'min_impurity_split': None, 'min_samples_leaf': 1, 'min_samples_split': 2, 'min_weight_fraction_leaf': 0.0, 'n_jobs': -1, 'oob_score': False, 'random_state': 0, 'verbose': 0, 'warm_start': False}\n",
      "MEAN SCORE : r2 = 0.5007858197224516                                           \n",
      "VARIANCE : 0.01036198191438265 (fold 1 = 0.4951946820827007, fold 2 = 0.4973449405361877, fold 3 = 0.5012133327389799, fold 4 = 0.5201968665163617, fold 5 = 0.489979276738028)\n",
      "CPU time: 16.745161771774292 seconds                                           \n",
      "##################################################### testing hyper-parameters... #####################################################\n",
      ">>> NA ENCODER :{'numerical_strategy': 'median', 'categorical_strategy': 'mode'}\n",
      ">>> CA ENCODER :{'strategy': 'entity_embedding'}                               \n",
      ">>> FEATURE SELECTOR :{'strategy': 'variance', 'threshold': 0.27286668872142256}\n",
      ">>> ESTIMATOR :{'strategy': 'RandomForest', 'max_depth': 5, 'n_estimators': 500, 'bootstrap': True, 'criterion': 'mse', 'max_features': 'sqrt', 'max_leaf_nodes': None, 'min_impurity_decrease': 0.0, 'min_impurity_split': None, 'min_samples_leaf': 1, 'min_samples_split': 2, 'min_weight_fraction_leaf': 0.0, 'n_jobs': -1, 'oob_score': False, 'random_state': 0, 'verbose': 0, 'warm_start': False}\n",
      "MEAN SCORE : r2 = 0.4950667198362633                                           \n",
      "VARIANCE : 0.011601823113493528 (fold 1 = 0.49605959874726846, fold 2 = 0.492883944653424, fold 3 = 0.49230322513944147, fold 4 = 0.5150962492911669, fold 5 = 0.4789905813500157)\n",
      "CPU time: 9.82505178451538 seconds                                             \n",
      "##################################################### testing hyper-parameters... #####################################################\n",
      ">>> NA ENCODER :{'numerical_strategy': 'median', 'categorical_strategy': 'mode'}\n",
      ">>> CA ENCODER :{'strategy': 'entity_embedding'}                               \n",
      ">>> FEATURE SELECTOR :{'strategy': 'variance', 'threshold': 0.2744456353187305}\n",
      ">>> ESTIMATOR :{'strategy': 'RandomForest', 'max_depth': 9, 'n_estimators': 1000, 'bootstrap': True, 'criterion': 'mse', 'max_features': 'sqrt', 'max_leaf_nodes': None, 'min_impurity_decrease': 0.0, 'min_impurity_split': None, 'min_samples_leaf': 1, 'min_samples_split': 2, 'min_weight_fraction_leaf': 0.0, 'n_jobs': -1, 'oob_score': False, 'random_state': 0, 'verbose': 0, 'warm_start': False}\n",
      "MEAN SCORE : r2 = 0.5008753858989117                                           \n",
      "VARIANCE : 0.009897839363422142 (fold 1 = 0.49533523957680425, fold 2 = 0.49544996416960996, fold 3 = 0.5039213474259657, fold 4 = 0.5187827648058887, fold 5 = 0.49088761351628973)\n",
      "CPU time: 23.433544874191284 seconds                                           \n",
      "##################################################### testing hyper-parameters... #####################################################\n",
      ">>> NA ENCODER :{'numerical_strategy': 'median', 'categorical_strategy': 'mode'}\n",
      ">>> CA ENCODER :{'strategy': 'label_encoding'}                                 \n",
      ">>> FEATURE SELECTOR :{'strategy': 'rf_feature_importance', 'threshold': 0.23006026541623578}\n",
      ">>> ESTIMATOR :{'strategy': 'RandomForest', 'max_depth': 7, 'n_estimators': 700, 'bootstrap': True, 'criterion': 'mse', 'max_features': 'sqrt', 'max_leaf_nodes': None, 'min_impurity_decrease': 0.0, 'min_impurity_split': None, 'min_samples_leaf': 1, 'min_samples_split': 2, 'min_weight_fraction_leaf': 0.0, 'n_jobs': -1, 'oob_score': False, 'random_state': 0, 'verbose': 0, 'warm_start': False}\n",
      "MEAN SCORE : r2 = 0.5728070724330033                                           \n",
      "VARIANCE : 0.01421697907233443 (fold 1 = 0.57205404587431, fold 2 = 0.5617656294199915, fold 3 = 0.5736064761195445, fold 4 = 0.5986398847410708, fold 5 = 0.5579693260100995)\n",
      "CPU time: 18.776821851730347 seconds                                           \n",
      "100%|██████████| 10/10 [02:58<00:00, 17.70s/it, best loss: -0.5728070724330033]\n",
      "\n",
      "\n",
      "~~~~~~~~~~~~~~~~~~~~~~~~~~~~~~~~~~~~~~~~~~~~~~~~~~~~~~~~~~~~~~~~~~~~~~~~~~~~~~~~~~~~~~~~~~~~~~~~~~~~~~~~~~~~~~~~~~~~~~~~~~~~~~~~~~~~~~~~~\n",
      "~~~~~~~~~~~~~~~~~~~~~~~~~~~~~~~~~~~~~~~~~~~~~~~~~~~~~~~~~ BEST HYPER-PARAMETERS ~~~~~~~~~~~~~~~~~~~~~~~~~~~~~~~~~~~~~~~~~~~~~~~~~~~~~~~~~\n",
      "~~~~~~~~~~~~~~~~~~~~~~~~~~~~~~~~~~~~~~~~~~~~~~~~~~~~~~~~~~~~~~~~~~~~~~~~~~~~~~~~~~~~~~~~~~~~~~~~~~~~~~~~~~~~~~~~~~~~~~~~~~~~~~~~~~~~~~~~~\n",
      "\n",
      "{'ce__strategy': 'label_encoding', 'est__max_depth': 7, 'est__n_estimators': 700, 'est__strategy': 'RandomForest', 'fs__strategy': 'rf_feature_importance', 'fs__threshold': 0.23006026541623578, 'ne__categorical_strategy': 'mode', 'ne__numerical_strategy': 'median'}\n"
     ]
    }
   ],
   "source": [
    "# calculating the best hyper-parameter\n",
    "best=Optimiser(scoring=\"r2\",n_folds=5).optimise(space,df,10)"
   ]
  },
  {
   "cell_type": "code",
   "execution_count": 10,
   "metadata": {},
   "outputs": [
    {
     "data": {
      "text/plain": [
       "{'ce__strategy': 'label_encoding',\n",
       " 'est__max_depth': 7,\n",
       " 'est__n_estimators': 700,\n",
       " 'est__strategy': 'RandomForest',\n",
       " 'fs__strategy': 'rf_feature_importance',\n",
       " 'fs__threshold': 0.23006026541623578,\n",
       " 'ne__categorical_strategy': 'mode',\n",
       " 'ne__numerical_strategy': 'median'}"
      ]
     },
     "execution_count": 10,
     "metadata": {},
     "output_type": "execute_result"
    }
   ],
   "source": [
    "best"
   ]
  },
  {
   "cell_type": "markdown",
   "metadata": {},
   "source": [
    "## Predictions"
   ]
  },
  {
   "cell_type": "code",
   "execution_count": 11,
   "metadata": {
    "scrolled": false
   },
   "outputs": [
    {
     "name": "stdout",
     "output_type": "stream",
     "text": [
      "\n",
      "fitting the pipeline ...\n",
      "CPU time: 4.8787150382995605 seconds\n",
      "\n",
      "predicting...\n",
      "CPU time: 0.59377121925354 seconds\n",
      "\n",
      "> Overview on predictions : \n",
      "\n",
      "   Item_Outlet_Sales_predicted\n",
      "0                  1755.048998\n",
      "1                  1542.491869\n",
      "2                   595.397670\n",
      "3                  2655.001251\n",
      "4                  5371.522827\n",
      "5                  1814.930857\n",
      "6                  1044.839319\n",
      "7                  2314.797057\n",
      "8                  1668.260330\n",
      "9                  2937.634611\n",
      "\n",
      "dumping predictions into directory : save ...\n"
     ]
    },
    {
     "data": {
      "text/plain": [
       "<mlbox.prediction.predictor.Predictor at 0x1e14478f198>"
      ]
     },
     "execution_count": 11,
     "metadata": {},
     "output_type": "execute_result"
    }
   ],
   "source": [
    "# predicting on the test dataset\n",
    "Predictor().fit_predict(best,df)"
   ]
  },
  {
   "cell_type": "code",
   "execution_count": null,
   "metadata": {
    "collapsed": true
   },
   "outputs": [],
   "source": []
  },
  {
   "cell_type": "code",
   "execution_count": null,
   "metadata": {
    "collapsed": true
   },
   "outputs": [],
   "source": []
  },
  {
   "cell_type": "code",
   "execution_count": null,
   "metadata": {
    "collapsed": true
   },
   "outputs": [],
   "source": []
  },
  {
   "cell_type": "code",
   "execution_count": null,
   "metadata": {
    "collapsed": true
   },
   "outputs": [],
   "source": []
  },
  {
   "cell_type": "code",
   "execution_count": null,
   "metadata": {
    "collapsed": true
   },
   "outputs": [],
   "source": []
  }
 ],
 "metadata": {
  "kernelspec": {
   "display_name": "Python 3",
   "language": "python",
   "name": "python3"
  },
  "language_info": {
   "codemirror_mode": {
    "name": "ipython",
    "version": 3
   },
   "file_extension": ".py",
   "mimetype": "text/x-python",
   "name": "python",
   "nbconvert_exporter": "python",
   "pygments_lexer": "ipython3",
   "version": "3.7.3"
  }
 },
 "nbformat": 4,
 "nbformat_minor": 2
}
