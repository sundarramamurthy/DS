{
  "nbformat": 4,
  "nbformat_minor": 0,
  "metadata": {
    "colab": {
      "name": "Data Preprocessing Using Pandas & Spark DataFrame, .ipynb",
      "provenance": [],
      "collapsed_sections": [],
      "authorship_tag": "ABX9TyOuROWTRAn+uJo85DXavjUr",
      "include_colab_link": true
    },
    "kernelspec": {
      "name": "python3",
      "display_name": "Python 3"
    },
    "language_info": {
      "name": "python"
    }
  },
  "cells": [
    {
      "cell_type": "markdown",
      "metadata": {
        "id": "view-in-github",
        "colab_type": "text"
      },
      "source": [
        "<a href=\"https://colab.research.google.com/github/sundarramamurthy/DS/blob/master/Data_Preprocessing_Using_Pandas_%26_Spark_DataFrame%2C_.ipynb\" target=\"_parent\"><img src=\"https://colab.research.google.com/assets/colab-badge.svg\" alt=\"Open In Colab\"/></a>"
      ]
    },
    {
      "cell_type": "markdown",
      "metadata": {
        "id": "ftIkQgAMG34W"
      },
      "source": [
        "# Connecting Drive to Colab"
      ]
    },
    {
      "cell_type": "code",
      "metadata": {
        "colab": {
          "base_uri": "https://localhost:8080/"
        },
        "id": "FPfqf505Gp_p",
        "outputId": "dd95b074-3c9e-4114-c56e-36ac8904a952"
      },
      "source": [
        "from google.colab import drive\n",
        "drive.mount('/content/drive/')"
      ],
      "execution_count": null,
      "outputs": [
        {
          "output_type": "stream",
          "text": [
            "Mounted at /content/drive/\n"
          ],
          "name": "stdout"
        }
      ]
    },
    {
      "cell_type": "markdown",
      "metadata": {
        "id": "qOlX8fInTSJd"
      },
      "source": [
        "# Setting up PySpark in Colab"
      ]
    },
    {
      "cell_type": "markdown",
      "metadata": {
        "id": "8dSGNGOrTdzq"
      },
      "source": [
        "## Install Pyspark"
      ]
    },
    {
      "cell_type": "code",
      "metadata": {
        "colab": {
          "base_uri": "https://localhost:8080/"
        },
        "id": "4Pk3uEdrdIqJ",
        "outputId": "31ac1560-4c09-41a4-bfd1-1ac247c023ae"
      },
      "source": [
        "#Install Pyspark for python\n",
        "!pip install Pyspark"
      ],
      "execution_count": null,
      "outputs": [
        {
          "output_type": "stream",
          "text": [
            "Collecting Pyspark\n",
            "\u001b[?25l  Downloading https://files.pythonhosted.org/packages/89/db/e18cfd78e408de957821ec5ca56de1250645b05f8523d169803d8df35a64/pyspark-3.1.2.tar.gz (212.4MB)\n",
            "\u001b[K     |████████████████████████████████| 212.4MB 64kB/s \n",
            "\u001b[?25hCollecting py4j==0.10.9\n",
            "\u001b[?25l  Downloading https://files.pythonhosted.org/packages/9e/b6/6a4fb90cd235dc8e265a6a2067f2a2c99f0d91787f06aca4bcf7c23f3f80/py4j-0.10.9-py2.py3-none-any.whl (198kB)\n",
            "\u001b[K     |████████████████████████████████| 204kB 35.4MB/s \n",
            "\u001b[?25hBuilding wheels for collected packages: Pyspark\n",
            "  Building wheel for Pyspark (setup.py) ... \u001b[?25l\u001b[?25hdone\n",
            "  Created wheel for Pyspark: filename=pyspark-3.1.2-py2.py3-none-any.whl size=212880768 sha256=81a8ad69c47aa4b1423c8cef7e27d78ca183de5a805ca95e3c784a9f7b88299e\n",
            "  Stored in directory: /root/.cache/pip/wheels/40/1b/2c/30f43be2627857ab80062bef1527c0128f7b4070b6b2d02139\n",
            "Successfully built Pyspark\n",
            "Installing collected packages: py4j, Pyspark\n",
            "Successfully installed Pyspark-3.1.2 py4j-0.10.9\n"
          ],
          "name": "stdout"
        }
      ]
    },
    {
      "cell_type": "markdown",
      "metadata": {
        "id": "Wi5YkRnzNrvU"
      },
      "source": [
        "# Local spark session to test our installation:"
      ]
    },
    {
      "cell_type": "code",
      "metadata": {
        "colab": {
          "base_uri": "https://localhost:8080/"
        },
        "id": "etkbr4NLkq-n",
        "outputId": "c2aa0948-b65e-4134-d3a6-21ce9e5850c4"
      },
      "source": [
        "import numpy as np\n",
        "import pandas as pd\n",
        "import matplotlib.pyplot as plt\n",
        "%matplotlib inline\n",
        "from pyspark import SparkContext\n",
        "try:\n",
        "    sc = SparkContext('local', 'my spark context')\n",
        "except ValueError:\n",
        "    print('SparkContext already exists!')\n",
        "from pyspark.sql import SparkSession\n",
        "try:\n",
        "    spark = SparkSession.builder.appName('spark_session_2').getOrCreate()\n",
        "except ValueError:\n",
        "    print('SparkSession already exists!')"
      ],
      "execution_count": null,
      "outputs": [
        {
          "output_type": "stream",
          "text": [
            "SparkContext already exists!\n"
          ],
          "name": "stdout"
        }
      ]
    },
    {
      "cell_type": "markdown",
      "metadata": {
        "id": "tp7913ZmRjmG"
      },
      "source": [
        "# Loading 2.5 GB data into PySpark"
      ]
    },
    {
      "cell_type": "code",
      "metadata": {
        "id": "Fb_al-b1RgNR",
        "colab": {
          "base_uri": "https://localhost:8080/"
        },
        "outputId": "2548bb8e-9300-4131-a4a7-d5e20b15daa1"
      },
      "source": [
        "%%time \n",
        "df_spark = spark.read.csv(\"/content/drive/MyDrive/Data/title.akas.tsv.gz\", sep=r'\\t',header=True, inferSchema=True)"
      ],
      "execution_count": null,
      "outputs": [
        {
          "output_type": "stream",
          "text": [
            "CPU times: user 229 ms, sys: 26 ms, total: 255 ms\n",
            "Wall time: 46.6 s\n"
          ],
          "name": "stdout"
        }
      ]
    },
    {
      "cell_type": "markdown",
      "metadata": {
        "id": "BIBLwvFMTnNd"
      },
      "source": [
        "Data Exploration"
      ]
    },
    {
      "cell_type": "code",
      "metadata": {
        "colab": {
          "base_uri": "https://localhost:8080/"
        },
        "id": "AFwB0oLCTjRR",
        "outputId": "4b1b897d-e289-4d0e-d97c-7a5c147404aa"
      },
      "source": [
        "df_spark.printSchema()"
      ],
      "execution_count": null,
      "outputs": [
        {
          "output_type": "stream",
          "text": [
            "root\n",
            " |-- titleId: string (nullable = true)\n",
            " |-- ordering: integer (nullable = true)\n",
            " |-- title: string (nullable = true)\n",
            " |-- region: string (nullable = true)\n",
            " |-- language: string (nullable = true)\n",
            " |-- types: string (nullable = true)\n",
            " |-- attributes: string (nullable = true)\n",
            " |-- isOriginalTitle: string (nullable = true)\n",
            "\n"
          ],
          "name": "stdout"
        }
      ]
    },
    {
      "cell_type": "markdown",
      "metadata": {
        "id": "7RaaPk0VTwis"
      },
      "source": [
        "Display Rows"
      ]
    },
    {
      "cell_type": "code",
      "metadata": {
        "colab": {
          "base_uri": "https://localhost:8080/"
        },
        "id": "-ep3G942TqbP",
        "outputId": "004ff459-1d14-4ecf-813e-f0d9cfea5293"
      },
      "source": [
        "df_spark.show(10)"
      ],
      "execution_count": null,
      "outputs": [
        {
          "output_type": "stream",
          "text": [
            "+---------+--------+--------------------+------+--------+-----------+-------------+---------------+\n",
            "|  titleId|ordering|               title|region|language|      types|   attributes|isOriginalTitle|\n",
            "+---------+--------+--------------------+------+--------+-----------+-------------+---------------+\n",
            "|tt0000001|       1|          Карменсіта|    UA|      \\N|imdbDisplay|           \\N|              0|\n",
            "|tt0000001|       2|          Carmencita|    DE|      \\N|         \\N|literal title|              0|\n",
            "|tt0000001|       3|Carmencita - span...|    HU|      \\N|imdbDisplay|           \\N|              0|\n",
            "|tt0000001|       4|          Καρμενσίτα|    GR|      \\N|imdbDisplay|           \\N|              0|\n",
            "|tt0000001|       5|          Карменсита|    RU|      \\N|imdbDisplay|           \\N|              0|\n",
            "|tt0000001|       6|          Carmencita|    US|      \\N|         \\N|           \\N|              0|\n",
            "|tt0000001|       7|          Carmencita|    \\N|      \\N|   original|           \\N|              1|\n",
            "|tt0000001|       8|      カルメンチータ|    JP|      ja|imdbDisplay|           \\N|              0|\n",
            "|tt0000002|       1|Le clown et ses c...|    \\N|      \\N|   original|           \\N|              1|\n",
            "|tt0000002|       2|   A bohóc és kutyái|    HU|      \\N|imdbDisplay|           \\N|              0|\n",
            "+---------+--------+--------------------+------+--------+-----------+-------------+---------------+\n",
            "only showing top 10 rows\n",
            "\n"
          ],
          "name": "stdout"
        }
      ]
    },
    {
      "cell_type": "markdown",
      "metadata": {
        "id": "u3aHI8crZc3C"
      },
      "source": [
        "Number of rows in Data Frame"
      ]
    },
    {
      "cell_type": "code",
      "metadata": {
        "colab": {
          "base_uri": "https://localhost:8080/"
        },
        "id": "qJIJOQzOTyvk",
        "outputId": "4100bd51-8848-4c9a-80a0-98f29b4716ce"
      },
      "source": [
        "print(df_spark.count()/1000000, \" Million rows\")"
      ],
      "execution_count": null,
      "outputs": [
        {
          "output_type": "stream",
          "text": [
            "26.506  Million rows\n"
          ],
          "name": "stdout"
        }
      ]
    },
    {
      "cell_type": "markdown",
      "metadata": {
        "id": "Oqpb5sFiZk51"
      },
      "source": [
        "Display specific columns"
      ]
    },
    {
      "cell_type": "code",
      "metadata": {
        "colab": {
          "base_uri": "https://localhost:8080/"
        },
        "id": "a06QwuMYZgbb",
        "outputId": "3b6c0dc9-a55e-4c53-d0ea-21218f2d8a96"
      },
      "source": [
        "df_spark.select(\"titleId\",\"ordering\",\"title\",\"language\").show(5)"
      ],
      "execution_count": null,
      "outputs": [
        {
          "output_type": "stream",
          "text": [
            "+---------+--------+--------------------+--------+\n",
            "|  titleId|ordering|               title|language|\n",
            "+---------+--------+--------------------+--------+\n",
            "|tt0000001|       1|          Карменсіта|      \\N|\n",
            "|tt0000001|       2|          Carmencita|      \\N|\n",
            "|tt0000001|       3|Carmencita - span...|      \\N|\n",
            "|tt0000001|       4|          Καρμενσίτα|      \\N|\n",
            "|tt0000001|       5|          Карменсита|      \\N|\n",
            "+---------+--------+--------------------+--------+\n",
            "only showing top 5 rows\n",
            "\n"
          ],
          "name": "stdout"
        }
      ]
    },
    {
      "cell_type": "markdown",
      "metadata": {
        "id": "dCm_olE7bP6Q"
      },
      "source": [
        "Counting and Removing Null values"
      ]
    },
    {
      "cell_type": "code",
      "metadata": {
        "id": "KoxT7K1A2Xen"
      },
      "source": [
        "from pyspark.sql import functions as F"
      ],
      "execution_count": null,
      "outputs": []
    },
    {
      "cell_type": "code",
      "metadata": {
        "colab": {
          "base_uri": "https://localhost:8080/"
        },
        "id": "FnMt8jq_bBmH",
        "outputId": "ee63b74f-5c22-43f7-d494-00efa5c2ddcd"
      },
      "source": [
        "df_spark.select([F.count(F.when(F.isnull(c), c)).alias(c) for c in df_spark.columns]).show()"
      ],
      "execution_count": null,
      "outputs": [
        {
          "output_type": "stream",
          "text": [
            "+-------+--------+-----+------+--------+-----+----------+---------------+\n",
            "|titleId|ordering|title|region|language|types|attributes|isOriginalTitle|\n",
            "+-------+--------+-----+------+--------+-----+----------+---------------+\n",
            "|      0|       0|    0|     1|       1|    1|         1|              1|\n",
            "+-------+--------+-----+------+--------+-----+----------+---------------+\n",
            "\n"
          ],
          "name": "stdout"
        }
      ]
    },
    {
      "cell_type": "code",
      "metadata": {
        "id": "aCBID_Z1ceay"
      },
      "source": [
        ""
      ],
      "execution_count": null,
      "outputs": []
    }
  ]
}