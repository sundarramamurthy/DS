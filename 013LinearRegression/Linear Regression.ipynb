{
 "cells": [
  {
   "cell_type": "markdown",
   "metadata": {
    "colab_type": "text",
    "id": "XHyuIcRGixQy"
   },
   "source": [
    "# Linear Regression"
   ]
  },
  {
   "cell_type": "markdown",
   "metadata": {
    "colab_type": "text",
    "id": "MetALTTmQKkh"
   },
   "source": [
    "### Importing Libraries"
   ]
  },
  {
   "cell_type": "code",
   "execution_count": 1,
   "metadata": {
    "colab": {},
    "colab_type": "code",
    "collapsed": true,
    "id": "eWchGPfa9xW9"
   },
   "outputs": [],
   "source": [
    "#importing libraries \n",
    "import pandas as pd \n",
    "import numpy as np\n",
    "import matplotlib.pyplot as plt"
   ]
  },
  {
   "cell_type": "markdown",
   "metadata": {
    "colab_type": "text",
    "id": "tHKgifnpjyvh"
   },
   "source": [
    "### Importing the data"
   ]
  },
  {
   "cell_type": "code",
   "execution_count": 3,
   "metadata": {
    "colab": {
     "base_uri": "https://localhost:8080/",
     "height": 241
    },
    "colab_type": "code",
    "executionInfo": {
     "elapsed": 2330,
     "status": "ok",
     "timestamp": 1559646189815,
     "user": {
      "displayName": "Sharoon Saxena",
      "photoUrl": "",
      "userId": "14774175216384036942"
     },
     "user_tz": -330
    },
    "id": "NB5xYyHg9xXA",
    "outputId": "ed177767-16aa-4a49-fde3-800f65de3d18"
   },
   "outputs": [
    {
     "data": {
      "text/html": [
       "<div>\n",
       "<style scoped>\n",
       "    .dataframe tbody tr th:only-of-type {\n",
       "        vertical-align: middle;\n",
       "    }\n",
       "\n",
       "    .dataframe tbody tr th {\n",
       "        vertical-align: top;\n",
       "    }\n",
       "\n",
       "    .dataframe thead th {\n",
       "        text-align: right;\n",
       "    }\n",
       "</style>\n",
       "<table border=\"1\" class=\"dataframe\">\n",
       "  <thead>\n",
       "    <tr style=\"text-align: right;\">\n",
       "      <th></th>\n",
       "      <th>Item_Weight</th>\n",
       "      <th>Item_Visibility</th>\n",
       "      <th>Item_MRP</th>\n",
       "      <th>Outlet_Establishment_Year</th>\n",
       "      <th>Item_Outlet_Sales</th>\n",
       "      <th>Item_Fat_Content_LF</th>\n",
       "      <th>Item_Fat_Content_Low Fat</th>\n",
       "      <th>Item_Fat_Content_Regular</th>\n",
       "      <th>Item_Fat_Content_low fat</th>\n",
       "      <th>Item_Fat_Content_reg</th>\n",
       "      <th>...</th>\n",
       "      <th>Outlet_Size_High</th>\n",
       "      <th>Outlet_Size_Medium</th>\n",
       "      <th>Outlet_Size_Small</th>\n",
       "      <th>Outlet_Location_Type_Tier 1</th>\n",
       "      <th>Outlet_Location_Type_Tier 2</th>\n",
       "      <th>Outlet_Location_Type_Tier 3</th>\n",
       "      <th>Outlet_Type_Grocery Store</th>\n",
       "      <th>Outlet_Type_Supermarket Type1</th>\n",
       "      <th>Outlet_Type_Supermarket Type2</th>\n",
       "      <th>Outlet_Type_Supermarket Type3</th>\n",
       "    </tr>\n",
       "  </thead>\n",
       "  <tbody>\n",
       "    <tr>\n",
       "      <th>0</th>\n",
       "      <td>9.30</td>\n",
       "      <td>0.016047</td>\n",
       "      <td>249.8092</td>\n",
       "      <td>1999</td>\n",
       "      <td>3735.1380</td>\n",
       "      <td>0</td>\n",
       "      <td>1</td>\n",
       "      <td>0</td>\n",
       "      <td>0</td>\n",
       "      <td>0</td>\n",
       "      <td>...</td>\n",
       "      <td>0</td>\n",
       "      <td>1</td>\n",
       "      <td>0</td>\n",
       "      <td>1</td>\n",
       "      <td>0</td>\n",
       "      <td>0</td>\n",
       "      <td>0</td>\n",
       "      <td>1</td>\n",
       "      <td>0</td>\n",
       "      <td>0</td>\n",
       "    </tr>\n",
       "    <tr>\n",
       "      <th>1</th>\n",
       "      <td>5.92</td>\n",
       "      <td>0.019278</td>\n",
       "      <td>48.2692</td>\n",
       "      <td>2009</td>\n",
       "      <td>443.4228</td>\n",
       "      <td>0</td>\n",
       "      <td>0</td>\n",
       "      <td>1</td>\n",
       "      <td>0</td>\n",
       "      <td>0</td>\n",
       "      <td>...</td>\n",
       "      <td>0</td>\n",
       "      <td>1</td>\n",
       "      <td>0</td>\n",
       "      <td>0</td>\n",
       "      <td>0</td>\n",
       "      <td>1</td>\n",
       "      <td>0</td>\n",
       "      <td>0</td>\n",
       "      <td>1</td>\n",
       "      <td>0</td>\n",
       "    </tr>\n",
       "    <tr>\n",
       "      <th>2</th>\n",
       "      <td>17.50</td>\n",
       "      <td>0.016760</td>\n",
       "      <td>141.6180</td>\n",
       "      <td>1999</td>\n",
       "      <td>2097.2700</td>\n",
       "      <td>0</td>\n",
       "      <td>1</td>\n",
       "      <td>0</td>\n",
       "      <td>0</td>\n",
       "      <td>0</td>\n",
       "      <td>...</td>\n",
       "      <td>0</td>\n",
       "      <td>1</td>\n",
       "      <td>0</td>\n",
       "      <td>1</td>\n",
       "      <td>0</td>\n",
       "      <td>0</td>\n",
       "      <td>0</td>\n",
       "      <td>1</td>\n",
       "      <td>0</td>\n",
       "      <td>0</td>\n",
       "    </tr>\n",
       "    <tr>\n",
       "      <th>3</th>\n",
       "      <td>19.20</td>\n",
       "      <td>0.000000</td>\n",
       "      <td>182.0950</td>\n",
       "      <td>1998</td>\n",
       "      <td>732.3800</td>\n",
       "      <td>0</td>\n",
       "      <td>0</td>\n",
       "      <td>1</td>\n",
       "      <td>0</td>\n",
       "      <td>0</td>\n",
       "      <td>...</td>\n",
       "      <td>0</td>\n",
       "      <td>0</td>\n",
       "      <td>0</td>\n",
       "      <td>0</td>\n",
       "      <td>0</td>\n",
       "      <td>1</td>\n",
       "      <td>1</td>\n",
       "      <td>0</td>\n",
       "      <td>0</td>\n",
       "      <td>0</td>\n",
       "    </tr>\n",
       "    <tr>\n",
       "      <th>4</th>\n",
       "      <td>8.93</td>\n",
       "      <td>0.000000</td>\n",
       "      <td>53.8614</td>\n",
       "      <td>1987</td>\n",
       "      <td>994.7052</td>\n",
       "      <td>0</td>\n",
       "      <td>1</td>\n",
       "      <td>0</td>\n",
       "      <td>0</td>\n",
       "      <td>0</td>\n",
       "      <td>...</td>\n",
       "      <td>1</td>\n",
       "      <td>0</td>\n",
       "      <td>0</td>\n",
       "      <td>0</td>\n",
       "      <td>0</td>\n",
       "      <td>1</td>\n",
       "      <td>0</td>\n",
       "      <td>1</td>\n",
       "      <td>0</td>\n",
       "      <td>0</td>\n",
       "    </tr>\n",
       "  </tbody>\n",
       "</table>\n",
       "<p>5 rows × 46 columns</p>\n",
       "</div>"
      ],
      "text/plain": [
       "   Item_Weight  Item_Visibility  Item_MRP  Outlet_Establishment_Year  \\\n",
       "0         9.30         0.016047  249.8092                       1999   \n",
       "1         5.92         0.019278   48.2692                       2009   \n",
       "2        17.50         0.016760  141.6180                       1999   \n",
       "3        19.20         0.000000  182.0950                       1998   \n",
       "4         8.93         0.000000   53.8614                       1987   \n",
       "\n",
       "   Item_Outlet_Sales  Item_Fat_Content_LF  Item_Fat_Content_Low Fat  \\\n",
       "0          3735.1380                    0                         1   \n",
       "1           443.4228                    0                         0   \n",
       "2          2097.2700                    0                         1   \n",
       "3           732.3800                    0                         0   \n",
       "4           994.7052                    0                         1   \n",
       "\n",
       "   Item_Fat_Content_Regular  Item_Fat_Content_low fat  Item_Fat_Content_reg  \\\n",
       "0                         0                         0                     0   \n",
       "1                         1                         0                     0   \n",
       "2                         0                         0                     0   \n",
       "3                         1                         0                     0   \n",
       "4                         0                         0                     0   \n",
       "\n",
       "   ...  Outlet_Size_High  Outlet_Size_Medium  Outlet_Size_Small  \\\n",
       "0  ...                 0                   1                  0   \n",
       "1  ...                 0                   1                  0   \n",
       "2  ...                 0                   1                  0   \n",
       "3  ...                 0                   0                  0   \n",
       "4  ...                 1                   0                  0   \n",
       "\n",
       "   Outlet_Location_Type_Tier 1  Outlet_Location_Type_Tier 2  \\\n",
       "0                            1                            0   \n",
       "1                            0                            0   \n",
       "2                            1                            0   \n",
       "3                            0                            0   \n",
       "4                            0                            0   \n",
       "\n",
       "   Outlet_Location_Type_Tier 3  Outlet_Type_Grocery Store  \\\n",
       "0                            0                          0   \n",
       "1                            1                          0   \n",
       "2                            0                          0   \n",
       "3                            1                          1   \n",
       "4                            1                          0   \n",
       "\n",
       "   Outlet_Type_Supermarket Type1  Outlet_Type_Supermarket Type2  \\\n",
       "0                              1                              0   \n",
       "1                              0                              1   \n",
       "2                              1                              0   \n",
       "3                              0                              0   \n",
       "4                              1                              0   \n",
       "\n",
       "   Outlet_Type_Supermarket Type3  \n",
       "0                              0  \n",
       "1                              0  \n",
       "2                              0  \n",
       "3                              0  \n",
       "4                              0  \n",
       "\n",
       "[5 rows x 46 columns]"
      ]
     },
     "execution_count": 3,
     "metadata": {},
     "output_type": "execute_result"
    }
   ],
   "source": [
    "# Importing Data\n",
    "data = pd.read_csv('train_cleaned.csv')\n",
    "data.head()"
   ]
  },
  {
   "cell_type": "markdown",
   "metadata": {
    "colab_type": "text",
    "id": "hGxgnJmxj3nv"
   },
   "source": [
    "### Segregating variables: Independent and Dependent Variables"
   ]
  },
  {
   "cell_type": "code",
   "execution_count": 4,
   "metadata": {
    "colab": {
     "base_uri": "https://localhost:8080/",
     "height": 34
    },
    "colab_type": "code",
    "executionInfo": {
     "elapsed": 2320,
     "status": "ok",
     "timestamp": 1559646189816,
     "user": {
      "displayName": "Sharoon Saxena",
      "photoUrl": "",
      "userId": "14774175216384036942"
     },
     "user_tz": -330
    },
    "id": "rym4fnPq9xXG",
    "outputId": "e6df4eae-c392-4ebf-d5d0-94d5eca22efe"
   },
   "outputs": [
    {
     "data": {
      "text/plain": [
       "((8523, 45), (8523,))"
      ]
     },
     "execution_count": 4,
     "metadata": {},
     "output_type": "execute_result"
    }
   ],
   "source": [
    "#seperating independent and dependent variables\n",
    "x = data.drop(['Item_Outlet_Sales'], axis=1)\n",
    "y = data['Item_Outlet_Sales']\n",
    "x.shape, y.shape"
   ]
  },
  {
   "cell_type": "markdown",
   "metadata": {
    "colab_type": "text",
    "id": "pAQY_EKnGpZ3"
   },
   "source": [
    "### Splitting the data into train set and the test set"
   ]
  },
  {
   "cell_type": "code",
   "execution_count": 5,
   "metadata": {
    "colab": {},
    "colab_type": "code",
    "collapsed": true,
    "id": "-PcDK1re9xXM"
   },
   "outputs": [],
   "source": [
    "# Importing the train test split function\n",
    "from sklearn.model_selection import train_test_split\n",
    "train_x,test_x,train_y,test_y = train_test_split(x,y, random_state = 56)"
   ]
  },
  {
   "cell_type": "markdown",
   "metadata": {
    "colab_type": "text",
    "id": "WvsDKzjdyNWi"
   },
   "source": [
    "### Implementing Linear Regression"
   ]
  },
  {
   "cell_type": "code",
   "execution_count": 6,
   "metadata": {
    "colab": {},
    "colab_type": "code",
    "collapsed": true,
    "id": "yCG2gM5KyM-1"
   },
   "outputs": [],
   "source": [
    "#importing Linear Regression and metric mean square error\n",
    "from sklearn.linear_model import LinearRegression as LR\n",
    "from sklearn.metrics import mean_absolute_error as mae"
   ]
  },
  {
   "cell_type": "code",
   "execution_count": 7,
   "metadata": {
    "colab": {
     "base_uri": "https://localhost:8080/",
     "height": 34
    },
    "colab_type": "code",
    "executionInfo": {
     "elapsed": 2294,
     "status": "ok",
     "timestamp": 1559646189820,
     "user": {
      "displayName": "Sharoon Saxena",
      "photoUrl": "",
      "userId": "14774175216384036942"
     },
     "user_tz": -330
    },
    "id": "TFrwDTRdybYF",
    "outputId": "f8cf7216-edf8-4009-891e-ac6fee7209cc"
   },
   "outputs": [
    {
     "data": {
      "text/plain": [
       "LinearRegression(copy_X=True, fit_intercept=True, n_jobs=1, normalize=False)"
      ]
     },
     "execution_count": 7,
     "metadata": {},
     "output_type": "execute_result"
    }
   ],
   "source": [
    "# Creating instance of Linear Regresssion\n",
    "lr = LR()\n",
    "\n",
    "# Fitting the model\n",
    "lr.fit(train_x, train_y)"
   ]
  },
  {
   "cell_type": "code",
   "execution_count": 9,
   "metadata": {
    "colab": {
     "base_uri": "https://localhost:8080/",
     "height": 34
    },
    "colab_type": "code",
    "executionInfo": {
     "elapsed": 2282,
     "status": "ok",
     "timestamp": 1559646189820,
     "user": {
      "displayName": "Sharoon Saxena",
      "photoUrl": "",
      "userId": "14774175216384036942"
     },
     "user_tz": -330
    },
    "id": "8lCGfbmBI-kj",
    "outputId": "11c94bcc-2fc2-474e-9da9-ec9db3739a8a"
   },
   "outputs": [
    {
     "name": "stdout",
     "output_type": "stream",
     "text": [
      "Training Mean Absolute Error 821.4206146753693\n"
     ]
    }
   ],
   "source": [
    "# Predicting over the Train Set and calculating error\n",
    "train_predict = lr.predict(train_x)\n",
    "k = mae(train_predict, train_y)\n",
    "print('Training Mean Absolute Error', k )"
   ]
  },
  {
   "cell_type": "code",
   "execution_count": 10,
   "metadata": {
    "colab": {
     "base_uri": "https://localhost:8080/",
     "height": 34
    },
    "colab_type": "code",
    "executionInfo": {
     "elapsed": 2276,
     "status": "ok",
     "timestamp": 1559646189821,
     "user": {
      "displayName": "Sharoon Saxena",
      "photoUrl": "",
      "userId": "14774175216384036942"
     },
     "user_tz": -330
    },
    "id": "Wf4id-DOJCsn",
    "outputId": "a4d602de-4a28-4ca6-e5bd-98649dd41443"
   },
   "outputs": [
    {
     "name": "stdout",
     "output_type": "stream",
     "text": [
      "Test Mean Absolute Error     875.268898298526\n"
     ]
    }
   ],
   "source": [
    "# Predicting over the Test Set and calculating error\n",
    "test_predict = lr.predict(test_x)\n",
    "k = mae(test_predict, test_y)\n",
    "print('Test Mean Absolute Error    ', k )"
   ]
  },
  {
   "cell_type": "markdown",
   "metadata": {
    "colab_type": "text",
    "id": "Tx7pAs3cosaz"
   },
   "source": [
    "### Parameters of Linear Regression"
   ]
  },
  {
   "cell_type": "code",
   "execution_count": 11,
   "metadata": {
    "colab": {
     "base_uri": "https://localhost:8080/",
     "height": 221
    },
    "colab_type": "code",
    "executionInfo": {
     "elapsed": 2271,
     "status": "ok",
     "timestamp": 1559646189822,
     "user": {
      "displayName": "Sharoon Saxena",
      "photoUrl": "",
      "userId": "14774175216384036942"
     },
     "user_tz": -330
    },
    "id": "jjMoVU-VoyVo",
    "outputId": "61159cee-7e0b-410a-ea15-796a7ec8f0d3"
   },
   "outputs": [
    {
     "data": {
      "text/plain": [
       "array([ 1.78450035e-01, -3.84642222e+02,  1.54980674e+01, -1.84444754e+01,\n",
       "       -3.78808067e+01,  3.31502849e+01,  4.06819896e+01,  4.76424149e+01,\n",
       "       -8.35938826e+01,  2.81126002e+00, -1.19848265e+00, -1.57618523e+02,\n",
       "        6.71387323e+01, -5.33492180e+01, -3.06556852e+01,  4.23212148e+01,\n",
       "       -2.30260247e+01, -4.27876198e+01, -7.54301779e+01, -3.65824873e+00,\n",
       "       -7.87129822e+01,  2.60470952e+02,  1.41600650e+01, -1.46932400e+01,\n",
       "        9.42279781e+01, -4.64999137e+02, -5.51947683e+01,  1.53301072e+02,\n",
       "       -4.68181522e+01, -4.71597876e+02,  5.87820902e+02,  1.24396682e+02,\n",
       "       -8.80903933e+01,  3.17298874e+02, -5.61172040e+01, -5.51947683e+01,\n",
       "        4.84885546e+02, -2.99023193e+01, -2.10416205e+02,  1.89607361e+02,\n",
       "        2.08088447e+01, -9.36597012e+02,  3.95594262e+02, -4.68181522e+01,\n",
       "        5.87820902e+02])"
      ]
     },
     "execution_count": 11,
     "metadata": {},
     "output_type": "execute_result"
    }
   ],
   "source": [
    "lr.coef_"
   ]
  },
  {
   "cell_type": "markdown",
   "metadata": {
    "colab_type": "text",
    "id": "JefxBNm_ea_t"
   },
   "source": [
    "### Plotting the coefficients"
   ]
  },
  {
   "cell_type": "code",
   "execution_count": 12,
   "metadata": {
    "colab": {
     "base_uri": "https://localhost:8080/",
     "height": 680
    },
    "colab_type": "code",
    "executionInfo": {
     "elapsed": 3171,
     "status": "ok",
     "timestamp": 1559646190731,
     "user": {
      "displayName": "Sharoon Saxena",
      "photoUrl": "",
      "userId": "14774175216384036942"
     },
     "user_tz": -330
    },
    "id": "wxkPFx7Yp3Du",
    "outputId": "1530ba14-49e7-43ac-ad18-b4c1d2458ae1"
   },
   "outputs": [
    {
     "data": {
      "image/png": "[encoded data removed]",
      "text/plain": [
       "<matplotlib.figure.Figure at 0x26a844e3518>"
      ]
     },
     "metadata": {},
     "output_type": "display_data"
    }
   ],
   "source": [
    "plt.figure(figsize=(8, 6), dpi=120, facecolor='w', edgecolor='b')\n",
    "x = range(len(train_x.columns))\n",
    "y = lr.coef_\n",
    "plt.bar( x, y )\n",
    "plt.xlabel( \"Variables\")\n",
    "plt.ylabel('Coefficients')\n",
    "plt.title('Coefficient plot')\n",
    "plt.show()"
   ]
  },
  {
   "cell_type": "markdown",
   "metadata": {
    "colab_type": "text",
    "id": "THh6jCiHGr1S"
   },
   "source": [
    "Here we can see that the model depends upon some Independent variables too much, But these coefficients are not suitable for interpretation because these are not scaled, therefore we will perform the interpretation in this note book later."
   ]
  },
  {
   "cell_type": "markdown",
   "metadata": {
    "colab_type": "text",
    "id": "6Go_VU3igLFl"
   },
   "source": [
    "## Checking assumptions of Linear Model"
   ]
  },
  {
   "cell_type": "code",
   "execution_count": 13,
   "metadata": {
    "colab": {
     "base_uri": "https://localhost:8080/",
     "height": 204
    },
    "colab_type": "code",
    "executionInfo": {
     "elapsed": 3163,
     "status": "ok",
     "timestamp": 1559646190733,
     "user": {
      "displayName": "Sharoon Saxena",
      "photoUrl": "",
      "userId": "14774175216384036942"
     },
     "user_tz": -330
    },
    "id": "Lx_yVB9Hf9ga",
    "outputId": "126bd569-abf1-4bdc-a70c-e568577b4387"
   },
   "outputs": [
    {
     "data": {
      "text/html": [
       "<div>\n",
       "<style scoped>\n",
       "    .dataframe tbody tr th:only-of-type {\n",
       "        vertical-align: middle;\n",
       "    }\n",
       "\n",
       "    .dataframe tbody tr th {\n",
       "        vertical-align: top;\n",
       "    }\n",
       "\n",
       "    .dataframe thead th {\n",
       "        text-align: right;\n",
       "    }\n",
       "</style>\n",
       "<table border=\"1\" class=\"dataframe\">\n",
       "  <thead>\n",
       "    <tr style=\"text-align: right;\">\n",
       "      <th></th>\n",
       "      <th>fitted values</th>\n",
       "      <th>predicted values</th>\n",
       "      <th>residuals</th>\n",
       "    </tr>\n",
       "  </thead>\n",
       "  <tbody>\n",
       "    <tr>\n",
       "      <th>2172</th>\n",
       "      <td>697.7584</td>\n",
       "      <td>906.204648</td>\n",
       "      <td>-208.446248</td>\n",
       "    </tr>\n",
       "    <tr>\n",
       "      <th>6228</th>\n",
       "      <td>1414.1592</td>\n",
       "      <td>2544.719495</td>\n",
       "      <td>-1130.560295</td>\n",
       "    </tr>\n",
       "    <tr>\n",
       "      <th>2404</th>\n",
       "      <td>3078.6592</td>\n",
       "      <td>3008.957438</td>\n",
       "      <td>69.701762</td>\n",
       "    </tr>\n",
       "    <tr>\n",
       "      <th>99</th>\n",
       "      <td>1314.2892</td>\n",
       "      <td>3045.197114</td>\n",
       "      <td>-1730.907914</td>\n",
       "    </tr>\n",
       "    <tr>\n",
       "      <th>4945</th>\n",
       "      <td>1403.5064</td>\n",
       "      <td>1453.011713</td>\n",
       "      <td>-49.505313</td>\n",
       "    </tr>\n",
       "  </tbody>\n",
       "</table>\n",
       "</div>"
      ],
      "text/plain": [
       "      fitted values  predicted values    residuals\n",
       "2172       697.7584        906.204648  -208.446248\n",
       "6228      1414.1592       2544.719495 -1130.560295\n",
       "2404      3078.6592       3008.957438    69.701762\n",
       "99        1314.2892       3045.197114 -1730.907914\n",
       "4945      1403.5064       1453.011713   -49.505313"
      ]
     },
     "execution_count": 13,
     "metadata": {},
     "output_type": "execute_result"
    }
   ],
   "source": [
    "# Arranging and calculating the Residuals\n",
    "residuals = pd.DataFrame({\n",
    "    'fitted values' : test_y,\n",
    "    'predicted values' : test_predict,\n",
    "})\n",
    "\n",
    "residuals['residuals'] = residuals['fitted values'] - residuals['predicted values']\n",
    "residuals.head()"
   ]
  },
  {
   "cell_type": "markdown",
   "metadata": {
    "colab_type": "text",
    "id": "aCBOM01ghacE"
   },
   "source": [
    "### Plotting residual curve (Is there constant Variance OR Homoscedastic?)"
   ]
  },
  {
   "cell_type": "code",
   "execution_count": 14,
   "metadata": {
    "colab": {
     "base_uri": "https://localhost:8080/",
     "height": 680
    },
    "colab_type": "code",
    "executionInfo": {
     "elapsed": 4993,
     "status": "ok",
     "timestamp": 1559646192572,
     "user": {
      "displayName": "Sharoon Saxena",
      "photoUrl": "",
      "userId": "14774175216384036942"
     },
     "user_tz": -330
    },
    "id": "457Ll3y2g_Qn",
    "outputId": "c8af6074-22b5-4dd3-951b-a5be08455ed6"
   },
   "outputs": [
    {
     "data": {
      "image/png": "[encoded data removed]",
      "text/plain": [
       "<matplotlib.figure.Figure at 0x26a84890438>"
      ]
     },
     "metadata": {},
     "output_type": "display_data"
    }
   ],
   "source": [
    "plt.figure(figsize=(10, 6), dpi=120, facecolor='w', edgecolor='b')\n",
    "f = range(0,2131)\n",
    "k = [0 for i in range(0,2131)]\n",
    "plt.scatter( f, residuals.residuals[:], label = 'residuals')\n",
    "plt.plot( f, k , color = 'red', label = 'regression line' )\n",
    "plt.xlabel('fitted points ')\n",
    "plt.ylabel('residuals')\n",
    "plt.title('Residual plot')\n",
    "plt.ylim(-4000, 4000)\n",
    "plt.legend()\n",
    "plt.show()"
   ]
  },
  {
   "cell_type": "markdown",
   "metadata": {
    "colab_type": "text",
    "id": "dUPGh_txeju7"
   },
   "source": [
    "The Residual plot clearly Looks Homoscedastic, i.e. the the variance of the error across the dataset is nearly constant."
   ]
  },
  {
   "cell_type": "markdown",
   "metadata": {
    "colab_type": "text",
    "id": "KrwCPPdcUfby"
   },
   "source": [
    "### Checking Distribution of Residuals"
   ]
  },
  {
   "cell_type": "code",
   "execution_count": 15,
   "metadata": {
    "colab": {
     "base_uri": "https://localhost:8080/",
     "height": 663
    },
    "colab_type": "code",
    "executionInfo": {
     "elapsed": 4981,
     "status": "ok",
     "timestamp": 1559646192575,
     "user": {
      "displayName": "Sharoon Saxena",
      "photoUrl": "",
      "userId": "14774175216384036942"
     },
     "user_tz": -330
    },
    "id": "kzfrbW3viDdC",
    "outputId": "31513ee6-57db-467f-fbcb-576887d6ba37"
   },
   "outputs": [
    {
     "data": {
      "image/png": "[encoded data removed]",
      "text/plain": [
       "<matplotlib.figure.Figure at 0x26a848aa748>"
      ]
     },
     "metadata": {},
     "output_type": "display_data"
    }
   ],
   "source": [
    "# Histogram for distribution\n",
    "plt.figure(figsize=(10, 6), dpi=120, facecolor='w', edgecolor='b')\n",
    "plt.hist(residuals.residuals, bins = 150)\n",
    "plt.xlabel('Error')\n",
    "plt.ylabel('Frequency')\n",
    "plt.title('Distribution of Error Terms')\n",
    "plt.show()"
   ]
  },
  {
   "cell_type": "markdown",
   "metadata": {
    "colab_type": "text",
    "id": "CmK7C1bte1zU"
   },
   "source": [
    "According to the Histogram, the distribution of error is nearly normal, But there are some outliers on the Higher end of the errors."
   ]
  },
  {
   "cell_type": "markdown",
   "metadata": {
    "colab_type": "text",
    "id": "UTUu_EwTUmf0"
   },
   "source": [
    "### QQ-Plot (Is the data Normally Distributed?)"
   ]
  },
  {
   "cell_type": "code",
   "execution_count": 16,
   "metadata": {
    "colab": {
     "base_uri": "https://localhost:8080/",
     "height": 573
    },
    "colab_type": "code",
    "executionInfo": {
     "elapsed": 6013,
     "status": "ok",
     "timestamp": 1559646193617,
     "user": {
      "displayName": "Sharoon Saxena",
      "photoUrl": "",
      "userId": "14774175216384036942"
     },
     "user_tz": -330
    },
    "id": "PHOiJGUKVE5u",
    "outputId": "ce527013-1585-4833-e4f0-7cbacb5d5a95"
   },
   "outputs": [
    {
     "data": {
      "image/png": "[encoded data removed]",
      "text/plain": [
       "<matplotlib.figure.Figure at 0x26a84968c18>"
      ]
     },
     "metadata": {},
     "output_type": "display_data"
    }
   ],
   "source": [
    "# importing the QQ-plot from the from the statsmodels\n",
    "from statsmodels.graphics.gofplots import qqplot\n",
    "\n",
    "## Plotting the QQ plot\n",
    "fig, ax = plt.subplots(figsize=(5,5) , dpi = 120)\n",
    "qqplot(residuals.residuals, line = 's' , ax = ax)\n",
    "plt.ylabel('Residual Quantiles')\n",
    "plt.xlabel('Ideal Scaled Quantiles')\n",
    "plt.title('Checking distribution of Residual Errors')\n",
    "plt.show()"
   ]
  },
  {
   "cell_type": "markdown",
   "metadata": {
    "colab_type": "text",
    "id": "vv6r1ikegVD4"
   },
   "source": [
    "The QQ-plot clearly verifies our findings from the the histogram of the residuals, the data is mostly normal in nature, but there are some outliers on the higher end of the Residues."
   ]
  },
  {
   "cell_type": "markdown",
   "metadata": {
    "colab_type": "text",
    "id": "-UvB6e0ugqHp"
   },
   "source": [
    "From the ACF plot, we can clearly see that there is almost negligible correlation between the error terms. Hence there is no autocorrelation present in the data."
   ]
  },
  {
   "cell_type": "markdown",
   "metadata": {
    "colab_type": "text",
    "id": "y_ull_aGYPwi"
   },
   "source": [
    "### Variance Inflation Factor (VIF) (Checking for multi collinearity)"
   ]
  },
  {
   "cell_type": "code",
   "execution_count": 17,
   "metadata": {
    "colab": {
     "base_uri": "https://localhost:8080/",
     "height": 850
    },
    "colab_type": "code",
    "executionInfo": {
     "elapsed": 6725,
     "status": "ok",
     "timestamp": 1559646194342,
     "user": {
      "displayName": "Sharoon Saxena",
      "photoUrl": "",
      "userId": "14774175216384036942"
     },
     "user_tz": -330
    },
    "id": "0dkJAXOfRSww",
    "outputId": "cabb509d-c840-4d05-c4e5-187e48d5f83b"
   },
   "outputs": [
    {
     "name": "stderr",
     "output_type": "stream",
     "text": [
      "C:\\ProgramData\\Anaconda3\\lib\\site-packages\\statsmodels\\stats\\outliers_influence.py:185: RuntimeWarning: divide by zero encountered in double_scalars\n",
      "  vif = 1. / (1. - r_squared_i)\n"
     ]
    },
    {
     "data": {
      "text/plain": [
       "Item_Weight                        2.349925\n",
       "Item_Visibility                    1.101456\n",
       "Item_MRP                           1.753170\n",
       "Outlet_Establishment_Year               inf\n",
       "Item_Outlet_Sales                  2.292720\n",
       "Item_Fat_Content_LF                     inf\n",
       "Item_Fat_Content_Low Fat                inf\n",
       "Item_Fat_Content_Regular                inf\n",
       "Item_Fat_Content_low fat                inf\n",
       "Item_Fat_Content_reg                    inf\n",
       "Item_Type_Baking Goods                  inf\n",
       "Item_Type_Breads                        inf\n",
       "Item_Type_Breakfast                     inf\n",
       "Item_Type_Canned                        inf\n",
       "Item_Type_Dairy                         inf\n",
       "Item_Type_Frozen Foods                  inf\n",
       "Item_Type_Fruits and Vegetables         inf\n",
       "Item_Type_Hard Drinks                   inf\n",
       "Item_Type_Health and Hygiene            inf\n",
       "Item_Type_Household                     inf\n",
       "Item_Type_Meat                          inf\n",
       "Item_Type_Others                        inf\n",
       "Item_Type_Seafood                       inf\n",
       "Item_Type_Snack Foods                   inf\n",
       "Item_Type_Soft Drinks                   inf\n",
       "Item_Type_Starchy Foods                 inf\n",
       "Outlet_Identifier_OUT010                inf\n",
       "Outlet_Identifier_OUT013                inf\n",
       "Outlet_Identifier_OUT017                inf\n",
       "Outlet_Identifier_OUT018                inf\n",
       "Outlet_Identifier_OUT019                inf\n",
       "Outlet_Identifier_OUT027                inf\n",
       "Outlet_Identifier_OUT035                inf\n",
       "Outlet_Identifier_OUT045                inf\n",
       "Outlet_Identifier_OUT046                inf\n",
       "Outlet_Identifier_OUT049                inf\n",
       "Outlet_Size_High                        inf\n",
       "Outlet_Size_Medium                      inf\n",
       "Outlet_Size_Small                       inf\n",
       "Outlet_Location_Type_Tier 1             inf\n",
       "Outlet_Location_Type_Tier 2             inf\n",
       "Outlet_Location_Type_Tier 3             inf\n",
       "Outlet_Type_Grocery Store               inf\n",
       "Outlet_Type_Supermarket Type1           inf\n",
       "Outlet_Type_Supermarket Type2           inf\n",
       "Outlet_Type_Supermarket Type3           inf\n",
       "dtype: float64"
      ]
     },
     "execution_count": 17,
     "metadata": {},
     "output_type": "execute_result"
    }
   ],
   "source": [
    "# Importing Variance_inflation_Factor funtion from the Statsmodels\n",
    "from statsmodels.stats.outliers_influence import variance_inflation_factor\n",
    "from statsmodels.tools.tools import add_constant\n",
    "\n",
    "# Calculating VIF for every column (only works for the not Catagorical)\n",
    "VIF = pd.Series([variance_inflation_factor(data.values, i) for i in range(data.shape[1])], index =data.columns)\n",
    "VIF"
   ]
  },
  {
   "cell_type": "markdown",
   "metadata": {
    "colab_type": "text",
    "id": "C3Wmd2YWhCf4"
   },
   "source": [
    "From this list, we clearly see that there happens to be no Independent Variable over the value of 5, which means that there are no features that exhibit the Multicollinearity in the dataset. Note that VIF only works for the Continuous Variables. "
   ]
  },
  {
   "cell_type": "markdown",
   "metadata": {
    "colab_type": "text",
    "id": "k7-N6WuyGXSy"
   },
   "source": [
    "## Model Interpretability\n",
    "\n",
    "So far we have simply been predicting the values using the linear regression, But in order to Interpret the model, the normalising of the data is essential."
   ]
  },
  {
   "cell_type": "code",
   "execution_count": 18,
   "metadata": {
    "colab": {
     "base_uri": "https://localhost:8080/",
     "height": 34
    },
    "colab_type": "code",
    "executionInfo": {
     "elapsed": 6719,
     "status": "ok",
     "timestamp": 1559646194343,
     "user": {
      "displayName": "Sharoon Saxena",
      "photoUrl": "",
      "userId": "14774175216384036942"
     },
     "user_tz": -330
    },
    "id": "rS_vN2OkhjT6",
    "outputId": "3686ac86-9664-4095-a872-bd69afc7458a"
   },
   "outputs": [
    {
     "data": {
      "text/plain": [
       "LinearRegression(copy_X=True, fit_intercept=True, n_jobs=1, normalize=True)"
      ]
     },
     "execution_count": 18,
     "metadata": {},
     "output_type": "execute_result"
    }
   ],
   "source": [
    "# Creating instance of Linear Regresssion\n",
    "lr = LR(normalize = True)\n",
    "\n",
    "# Fitting the model\n",
    "lr.fit(train_x, train_y)"
   ]
  },
  {
   "cell_type": "code",
   "execution_count": 19,
   "metadata": {
    "colab": {
     "base_uri": "https://localhost:8080/",
     "height": 34
    },
    "colab_type": "code",
    "executionInfo": {
     "elapsed": 6710,
     "status": "ok",
     "timestamp": 1559646194344,
     "user": {
      "displayName": "Sharoon Saxena",
      "photoUrl": "",
      "userId": "14774175216384036942"
     },
     "user_tz": -330
    },
    "id": "bQUV6sq_H281",
    "outputId": "d6cdd12b-2d33-4666-ad6e-f8f12feb7141"
   },
   "outputs": [
    {
     "name": "stdout",
     "output_type": "stream",
     "text": [
      "Training Mean Absolute Error 822.5183026282853\n"
     ]
    }
   ],
   "source": [
    "# Predicting over the Train Set and calculating error\n",
    "train_predict = lr.predict(train_x)\n",
    "k = mae(train_predict, train_y)\n",
    "print('Training Mean Absolute Error', k )"
   ]
  },
  {
   "cell_type": "code",
   "execution_count": 20,
   "metadata": {
    "colab": {
     "base_uri": "https://localhost:8080/",
     "height": 34
    },
    "colab_type": "code",
    "executionInfo": {
     "elapsed": 6704,
     "status": "ok",
     "timestamp": 1559646194345,
     "user": {
      "displayName": "Sharoon Saxena",
      "photoUrl": "",
      "userId": "14774175216384036942"
     },
     "user_tz": -330
    },
    "id": "3mCEp-QOH286",
    "outputId": "9840234c-822b-4485-d3d2-6a1fe81cdd8e"
   },
   "outputs": [
    {
     "name": "stdout",
     "output_type": "stream",
     "text": [
      "Test Mean Absolute Error     876.191747536368\n"
     ]
    }
   ],
   "source": [
    "# Predicting over the Test Set and calculating error\n",
    "test_predict = lr.predict(test_x)\n",
    "k = mae(test_predict, test_y)\n",
    "print('Test Mean Absolute Error    ', k )"
   ]
  },
  {
   "cell_type": "code",
   "execution_count": 22,
   "metadata": {},
   "outputs": [
    {
     "data": {
      "text/plain": [
       "-2.4330988582990925e+17"
      ]
     },
     "execution_count": 22,
     "metadata": {},
     "output_type": "execute_result"
    }
   ],
   "source": [
    "lr.intercept_"
   ]
  },
  {
   "cell_type": "code",
   "execution_count": 21,
   "metadata": {
    "colab": {
     "base_uri": "https://localhost:8080/",
     "height": 680
    },
    "colab_type": "code",
    "executionInfo": {
     "elapsed": 7672,
     "status": "ok",
     "timestamp": 1559646195326,
     "user": {
      "displayName": "Sharoon Saxena",
      "photoUrl": "",
      "userId": "14774175216384036942"
     },
     "user_tz": -330
    },
    "id": "IwJUupk4H40S",
    "outputId": "7ba2b350-9994-493b-fc51-c4e69fe735ed"
   },
   "outputs": [
    {
     "data": {
      "image/png": "[encoded data removed]",
      "text/plain": [
       "<matplotlib.figure.Figure at 0x26a86e44240>"
      ]
     },
     "metadata": {},
     "output_type": "display_data"
    }
   ],
   "source": [
    "plt.figure(figsize=(8, 6), dpi=120, facecolor='w', edgecolor='b')\n",
    "x = range(len(train_x.columns))\n",
    "y = lr.coef_\n",
    "plt.bar( x, y )\n",
    "plt.xlabel( \"Variables\")\n",
    "plt.ylabel('Coefficients')\n",
    "plt.title('Normalized Coefficient plot')\n",
    "plt.show()"
   ]
  },
  {
   "cell_type": "markdown",
   "metadata": {
    "colab_type": "text",
    "id": "96zBnTnYIOYs"
   },
   "source": [
    "Now the coefficients we see are normalised and we can easily make final inferences out of it.\n",
    "\n",
    "Here we can see that there are a lot of Coefficients which are near to zero and not Significant.\n",
    "So let us try removing them and build the model again."
   ]
  },
  {
   "cell_type": "markdown",
   "metadata": {
    "colab_type": "text",
    "id": "T3qFZlh3M52j"
   },
   "source": [
    "#### Creating new subsets of data"
   ]
  },
  {
   "cell_type": "code",
   "execution_count": 23,
   "metadata": {
    "colab": {
     "base_uri": "https://localhost:8080/",
     "height": 34
    },
    "colab_type": "code",
    "executionInfo": {
     "elapsed": 1807,
     "status": "ok",
     "timestamp": 1559646231383,
     "user": {
      "displayName": "Sharoon Saxena",
      "photoUrl": "",
      "userId": "14774175216384036942"
     },
     "user_tz": -330
    },
    "id": "693ZFEkvKMsh",
    "outputId": "f3568382-7958-4b7d-ff5c-c5b39eb501c0"
   },
   "outputs": [
    {
     "data": {
      "text/plain": [
       "((8523, 45), (8523,))"
      ]
     },
     "execution_count": 23,
     "metadata": {},
     "output_type": "execute_result"
    }
   ],
   "source": [
    "#seperating independent and dependent variables\n",
    "x = data.drop(['Item_Outlet_Sales'], axis=1)\n",
    "y = data['Item_Outlet_Sales']\n",
    "x.shape, y.shape"
   ]
  },
  {
   "cell_type": "markdown",
   "metadata": {
    "colab_type": "text",
    "id": "pGIXHPaiNAda"
   },
   "source": [
    "#### Arranging coefficients with features"
   ]
  },
  {
   "cell_type": "code",
   "execution_count": 24,
   "metadata": {
    "colab": {
     "base_uri": "https://localhost:8080/",
     "height": 204
    },
    "colab_type": "code",
    "executionInfo": {
     "elapsed": 866,
     "status": "ok",
     "timestamp": 1559646246404,
     "user": {
      "displayName": "Sharoon Saxena",
      "photoUrl": "",
      "userId": "14774175216384036942"
     },
     "user_tz": -330
    },
    "id": "eYqVO5oZICzq",
    "outputId": "11d33a84-c2a0-493b-de88-5199a9607e54"
   },
   "outputs": [
    {
     "data": {
      "text/html": [
       "<div>\n",
       "<style scoped>\n",
       "    .dataframe tbody tr th:only-of-type {\n",
       "        vertical-align: middle;\n",
       "    }\n",
       "\n",
       "    .dataframe tbody tr th {\n",
       "        vertical-align: top;\n",
       "    }\n",
       "\n",
       "    .dataframe thead th {\n",
       "        text-align: right;\n",
       "    }\n",
       "</style>\n",
       "<table border=\"1\" class=\"dataframe\">\n",
       "  <thead>\n",
       "    <tr style=\"text-align: right;\">\n",
       "      <th></th>\n",
       "      <th>Variable</th>\n",
       "      <th>coefficient</th>\n",
       "    </tr>\n",
       "  </thead>\n",
       "  <tbody>\n",
       "    <tr>\n",
       "      <th>0</th>\n",
       "      <td>Item_Weight</td>\n",
       "      <td>5.018571e-01</td>\n",
       "    </tr>\n",
       "    <tr>\n",
       "      <th>1</th>\n",
       "      <td>Item_Visibility</td>\n",
       "      <td>-1.474182e+02</td>\n",
       "    </tr>\n",
       "    <tr>\n",
       "      <th>2</th>\n",
       "      <td>Item_MRP</td>\n",
       "      <td>1.553379e+01</td>\n",
       "    </tr>\n",
       "    <tr>\n",
       "      <th>3</th>\n",
       "      <td>Outlet_Establishment_Year</td>\n",
       "      <td>9.630478e+13</td>\n",
       "    </tr>\n",
       "    <tr>\n",
       "      <th>4</th>\n",
       "      <td>Item_Fat_Content_LF</td>\n",
       "      <td>-7.989318e+14</td>\n",
       "    </tr>\n",
       "  </tbody>\n",
       "</table>\n",
       "</div>"
      ],
      "text/plain": [
       "                    Variable   coefficient\n",
       "0                Item_Weight  5.018571e-01\n",
       "1            Item_Visibility -1.474182e+02\n",
       "2                   Item_MRP  1.553379e+01\n",
       "3  Outlet_Establishment_Year  9.630478e+13\n",
       "4        Item_Fat_Content_LF -7.989318e+14"
      ]
     },
     "execution_count": 24,
     "metadata": {},
     "output_type": "execute_result"
    }
   ],
   "source": [
    "Coefficients = pd.DataFrame({\n",
    "    'Variable'    : x.columns,\n",
    "    'coefficient' : lr.coef_\n",
    "})\n",
    "Coefficients.head()"
   ]
  },
  {
   "cell_type": "markdown",
   "metadata": {
    "colab_type": "text",
    "id": "BUCtDApgNM6X"
   },
   "source": [
    "#### Chossing variables with sigificance greater than 0.5 ( Filtering Significant Features)"
   ]
  },
  {
   "cell_type": "code",
   "execution_count": 25,
   "metadata": {
    "colab": {},
    "colab_type": "code",
    "collapsed": true,
    "id": "e1aLhGv1JE7e"
   },
   "outputs": [],
   "source": [
    "sig_var = Coefficients[Coefficients.coefficient > 0.5]"
   ]
  },
  {
   "cell_type": "markdown",
   "metadata": {
    "colab_type": "text",
    "id": "nsfBK1cwNYeS"
   },
   "source": [
    "#### Extracting the significant subset do independent Variables"
   ]
  },
  {
   "cell_type": "code",
   "execution_count": 26,
   "metadata": {
    "colab": {
     "base_uri": "https://localhost:8080/",
     "height": 241
    },
    "colab_type": "code",
    "executionInfo": {
     "elapsed": 1146,
     "status": "ok",
     "timestamp": 1559646654608,
     "user": {
      "displayName": "Sharoon Saxena",
      "photoUrl": "",
      "userId": "14774175216384036942"
     },
     "user_tz": -330
    },
    "id": "W7WNJQ-5Lncx",
    "outputId": "5d2702bb-07a4-4652-b850-e51e800e3368"
   },
   "outputs": [
    {
     "data": {
      "text/html": [
       "<div>\n",
       "<style scoped>\n",
       "    .dataframe tbody tr th:only-of-type {\n",
       "        vertical-align: middle;\n",
       "    }\n",
       "\n",
       "    .dataframe tbody tr th {\n",
       "        vertical-align: top;\n",
       "    }\n",
       "\n",
       "    .dataframe thead th {\n",
       "        text-align: right;\n",
       "    }\n",
       "</style>\n",
       "<table border=\"1\" class=\"dataframe\">\n",
       "  <thead>\n",
       "    <tr style=\"text-align: right;\">\n",
       "      <th></th>\n",
       "      <th>Item_Weight</th>\n",
       "      <th>Item_MRP</th>\n",
       "      <th>Outlet_Establishment_Year</th>\n",
       "      <th>Item_Type_Baking Goods</th>\n",
       "      <th>Item_Type_Breads</th>\n",
       "      <th>Item_Type_Breakfast</th>\n",
       "      <th>Item_Type_Canned</th>\n",
       "      <th>Item_Type_Dairy</th>\n",
       "      <th>Item_Type_Frozen Foods</th>\n",
       "      <th>Item_Type_Fruits and Vegetables</th>\n",
       "      <th>...</th>\n",
       "      <th>Outlet_Identifier_OUT018</th>\n",
       "      <th>Outlet_Identifier_OUT027</th>\n",
       "      <th>Outlet_Identifier_OUT045</th>\n",
       "      <th>Outlet_Identifier_OUT046</th>\n",
       "      <th>Outlet_Identifier_OUT049</th>\n",
       "      <th>Outlet_Size_High</th>\n",
       "      <th>Outlet_Size_Small</th>\n",
       "      <th>Outlet_Location_Type_Tier 1</th>\n",
       "      <th>Outlet_Location_Type_Tier 2</th>\n",
       "      <th>Outlet_Type_Supermarket Type3</th>\n",
       "    </tr>\n",
       "  </thead>\n",
       "  <tbody>\n",
       "    <tr>\n",
       "      <th>0</th>\n",
       "      <td>9.30</td>\n",
       "      <td>249.8092</td>\n",
       "      <td>1999</td>\n",
       "      <td>0</td>\n",
       "      <td>0</td>\n",
       "      <td>0</td>\n",
       "      <td>0</td>\n",
       "      <td>1</td>\n",
       "      <td>0</td>\n",
       "      <td>0</td>\n",
       "      <td>...</td>\n",
       "      <td>0</td>\n",
       "      <td>0</td>\n",
       "      <td>0</td>\n",
       "      <td>0</td>\n",
       "      <td>1</td>\n",
       "      <td>0</td>\n",
       "      <td>0</td>\n",
       "      <td>1</td>\n",
       "      <td>0</td>\n",
       "      <td>0</td>\n",
       "    </tr>\n",
       "    <tr>\n",
       "      <th>1</th>\n",
       "      <td>5.92</td>\n",
       "      <td>48.2692</td>\n",
       "      <td>2009</td>\n",
       "      <td>0</td>\n",
       "      <td>0</td>\n",
       "      <td>0</td>\n",
       "      <td>0</td>\n",
       "      <td>0</td>\n",
       "      <td>0</td>\n",
       "      <td>0</td>\n",
       "      <td>...</td>\n",
       "      <td>1</td>\n",
       "      <td>0</td>\n",
       "      <td>0</td>\n",
       "      <td>0</td>\n",
       "      <td>0</td>\n",
       "      <td>0</td>\n",
       "      <td>0</td>\n",
       "      <td>0</td>\n",
       "      <td>0</td>\n",
       "      <td>0</td>\n",
       "    </tr>\n",
       "    <tr>\n",
       "      <th>2</th>\n",
       "      <td>17.50</td>\n",
       "      <td>141.6180</td>\n",
       "      <td>1999</td>\n",
       "      <td>0</td>\n",
       "      <td>0</td>\n",
       "      <td>0</td>\n",
       "      <td>0</td>\n",
       "      <td>0</td>\n",
       "      <td>0</td>\n",
       "      <td>0</td>\n",
       "      <td>...</td>\n",
       "      <td>0</td>\n",
       "      <td>0</td>\n",
       "      <td>0</td>\n",
       "      <td>0</td>\n",
       "      <td>1</td>\n",
       "      <td>0</td>\n",
       "      <td>0</td>\n",
       "      <td>1</td>\n",
       "      <td>0</td>\n",
       "      <td>0</td>\n",
       "    </tr>\n",
       "    <tr>\n",
       "      <th>3</th>\n",
       "      <td>19.20</td>\n",
       "      <td>182.0950</td>\n",
       "      <td>1998</td>\n",
       "      <td>0</td>\n",
       "      <td>0</td>\n",
       "      <td>0</td>\n",
       "      <td>0</td>\n",
       "      <td>0</td>\n",
       "      <td>0</td>\n",
       "      <td>1</td>\n",
       "      <td>...</td>\n",
       "      <td>0</td>\n",
       "      <td>0</td>\n",
       "      <td>0</td>\n",
       "      <td>0</td>\n",
       "      <td>0</td>\n",
       "      <td>0</td>\n",
       "      <td>0</td>\n",
       "      <td>0</td>\n",
       "      <td>0</td>\n",
       "      <td>0</td>\n",
       "    </tr>\n",
       "    <tr>\n",
       "      <th>4</th>\n",
       "      <td>8.93</td>\n",
       "      <td>53.8614</td>\n",
       "      <td>1987</td>\n",
       "      <td>0</td>\n",
       "      <td>0</td>\n",
       "      <td>0</td>\n",
       "      <td>0</td>\n",
       "      <td>0</td>\n",
       "      <td>0</td>\n",
       "      <td>0</td>\n",
       "      <td>...</td>\n",
       "      <td>0</td>\n",
       "      <td>0</td>\n",
       "      <td>0</td>\n",
       "      <td>0</td>\n",
       "      <td>0</td>\n",
       "      <td>1</td>\n",
       "      <td>0</td>\n",
       "      <td>0</td>\n",
       "      <td>0</td>\n",
       "      <td>0</td>\n",
       "    </tr>\n",
       "  </tbody>\n",
       "</table>\n",
       "<p>5 rows × 32 columns</p>\n",
       "</div>"
      ],
      "text/plain": [
       "   Item_Weight  Item_MRP  Outlet_Establishment_Year  Item_Type_Baking Goods  \\\n",
       "0         9.30  249.8092                       1999                       0   \n",
       "1         5.92   48.2692                       2009                       0   \n",
       "2        17.50  141.6180                       1999                       0   \n",
       "3        19.20  182.0950                       1998                       0   \n",
       "4         8.93   53.8614                       1987                       0   \n",
       "\n",
       "   Item_Type_Breads  Item_Type_Breakfast  Item_Type_Canned  Item_Type_Dairy  \\\n",
       "0                 0                    0                 0                1   \n",
       "1                 0                    0                 0                0   \n",
       "2                 0                    0                 0                0   \n",
       "3                 0                    0                 0                0   \n",
       "4                 0                    0                 0                0   \n",
       "\n",
       "   Item_Type_Frozen Foods  Item_Type_Fruits and Vegetables  ...  \\\n",
       "0                       0                                0  ...   \n",
       "1                       0                                0  ...   \n",
       "2                       0                                0  ...   \n",
       "3                       0                                1  ...   \n",
       "4                       0                                0  ...   \n",
       "\n",
       "   Outlet_Identifier_OUT018  Outlet_Identifier_OUT027  \\\n",
       "0                         0                         0   \n",
       "1                         1                         0   \n",
       "2                         0                         0   \n",
       "3                         0                         0   \n",
       "4                         0                         0   \n",
       "\n",
       "   Outlet_Identifier_OUT045  Outlet_Identifier_OUT046  \\\n",
       "0                         0                         0   \n",
       "1                         0                         0   \n",
       "2                         0                         0   \n",
       "3                         0                         0   \n",
       "4                         0                         0   \n",
       "\n",
       "   Outlet_Identifier_OUT049  Outlet_Size_High  Outlet_Size_Small  \\\n",
       "0                         1                 0                  0   \n",
       "1                         0                 0                  0   \n",
       "2                         1                 0                  0   \n",
       "3                         0                 0                  0   \n",
       "4                         0                 1                  0   \n",
       "\n",
       "   Outlet_Location_Type_Tier 1  Outlet_Location_Type_Tier 2  \\\n",
       "0                            1                            0   \n",
       "1                            0                            0   \n",
       "2                            1                            0   \n",
       "3                            0                            0   \n",
       "4                            0                            0   \n",
       "\n",
       "   Outlet_Type_Supermarket Type3  \n",
       "0                              0  \n",
       "1                              0  \n",
       "2                              0  \n",
       "3                              0  \n",
       "4                              0  \n",
       "\n",
       "[5 rows x 32 columns]"
      ]
     },
     "execution_count": 26,
     "metadata": {},
     "output_type": "execute_result"
    }
   ],
   "source": [
    "subset = data[sig_var['Variable'].values]\n",
    "subset.head()"
   ]
  },
  {
   "cell_type": "markdown",
   "metadata": {
    "colab_type": "text",
    "id": "U8JPAMHKKutz"
   },
   "source": [
    "#### Splitting the data into train set and the test set"
   ]
  },
  {
   "cell_type": "code",
   "execution_count": 27,
   "metadata": {
    "colab": {},
    "colab_type": "code",
    "collapsed": true,
    "id": "IgW8nm99Kut1"
   },
   "outputs": [],
   "source": [
    "# Importing the train test split function\n",
    "from sklearn.model_selection import train_test_split\n",
    "train_x,test_x,train_y,test_y = train_test_split(subset, y , random_state = 56)"
   ]
  },
  {
   "cell_type": "markdown",
   "metadata": {
    "colab_type": "text",
    "id": "vxgz_jCMKut4"
   },
   "source": [
    "#### Implementing Linear Regression"
   ]
  },
  {
   "cell_type": "code",
   "execution_count": 28,
   "metadata": {
    "colab": {},
    "colab_type": "code",
    "collapsed": true,
    "id": "Ju8gCMxZKut5"
   },
   "outputs": [],
   "source": [
    "#importing Linear Regression and metric mean square error\n",
    "from sklearn.linear_model import LinearRegression as LR\n",
    "from sklearn.metrics import mean_absolute_error as mae"
   ]
  },
  {
   "cell_type": "markdown",
   "metadata": {
    "colab_type": "text",
    "id": "lMRLnpT9NimN"
   },
   "source": [
    "#### Training Model"
   ]
  },
  {
   "cell_type": "code",
   "execution_count": 29,
   "metadata": {
    "colab": {
     "base_uri": "https://localhost:8080/",
     "height": 34
    },
    "colab_type": "code",
    "executionInfo": {
     "elapsed": 1286,
     "status": "ok",
     "timestamp": 1559646833678,
     "user": {
      "displayName": "Sharoon Saxena",
      "photoUrl": "",
      "userId": "14774175216384036942"
     },
     "user_tz": -330
    },
    "id": "yLeVFA7tMehg",
    "outputId": "10b68000-c11e-4f0d-abc0-a56805ff67e3"
   },
   "outputs": [
    {
     "data": {
      "text/plain": [
       "LinearRegression(copy_X=True, fit_intercept=True, n_jobs=1, normalize=True)"
      ]
     },
     "execution_count": 29,
     "metadata": {},
     "output_type": "execute_result"
    }
   ],
   "source": [
    "# Creating instance of Linear Regresssion with Normalised Data\n",
    "lr = LR(normalize = True)\n",
    "\n",
    "# Fitting the model\n",
    "lr.fit(train_x, train_y)"
   ]
  },
  {
   "cell_type": "markdown",
   "metadata": {
    "colab_type": "text",
    "id": "ubHMF3B_Nk0X"
   },
   "source": [
    "#### Predicting over the train set"
   ]
  },
  {
   "cell_type": "code",
   "execution_count": 30,
   "metadata": {
    "colab": {
     "base_uri": "https://localhost:8080/",
     "height": 34
    },
    "colab_type": "code",
    "executionInfo": {
     "elapsed": 1369,
     "status": "ok",
     "timestamp": 1559646835869,
     "user": {
      "displayName": "Sharoon Saxena",
      "photoUrl": "",
      "userId": "14774175216384036942"
     },
     "user_tz": -330
    },
    "id": "C7i0e7PlMPjK",
    "outputId": "cb0babd4-6bf4-4536-fe2b-761ce31a5e89"
   },
   "outputs": [
    {
     "name": "stdout",
     "output_type": "stream",
     "text": [
      "Training Mean Absolute Error 823.8470904255319\n"
     ]
    }
   ],
   "source": [
    "# Predicting over the Train Set and calculating error\n",
    "train_predict = lr.predict(train_x)\n",
    "k = mae(train_predict, train_y)\n",
    "print('Training Mean Absolute Error', k )"
   ]
  },
  {
   "cell_type": "markdown",
   "metadata": {
    "colab_type": "text",
    "id": "UEdgX_PYNnui"
   },
   "source": [
    "#### Predicting over the test set"
   ]
  },
  {
   "cell_type": "code",
   "execution_count": 31,
   "metadata": {
    "colab": {
     "base_uri": "https://localhost:8080/",
     "height": 34
    },
    "colab_type": "code",
    "executionInfo": {
     "elapsed": 1234,
     "status": "ok",
     "timestamp": 1559646837430,
     "user": {
      "displayName": "Sharoon Saxena",
      "photoUrl": "",
      "userId": "14774175216384036942"
     },
     "user_tz": -330
    },
    "id": "OnqWeXvGMPjN",
    "outputId": "affca6a7-01bf-4fc6-ef4b-882be7bc1353"
   },
   "outputs": [
    {
     "name": "stdout",
     "output_type": "stream",
     "text": [
      "Test Mean Absolute Error     876.7468735804786\n"
     ]
    }
   ],
   "source": [
    "# Predicting over the Test Set and calculating error\n",
    "test_predict = lr.predict(test_x)\n",
    "k = mae(test_predict, test_y)\n",
    "print('Test Mean Absolute Error    ', k )"
   ]
  },
  {
   "cell_type": "markdown",
   "metadata": {
    "colab_type": "text",
    "id": "4hH6SeJnNryh"
   },
   "source": [
    "#### Plotting the coefficients"
   ]
  },
  {
   "cell_type": "code",
   "execution_count": 32,
   "metadata": {
    "colab": {
     "base_uri": "https://localhost:8080/",
     "height": 680
    },
    "colab_type": "code",
    "executionInfo": {
     "elapsed": 1745,
     "status": "ok",
     "timestamp": 1559646840777,
     "user": {
      "displayName": "Sharoon Saxena",
      "photoUrl": "",
      "userId": "14774175216384036942"
     },
     "user_tz": -330
    },
    "id": "wfa5P4tUMPjR",
    "outputId": "fdbed822-0fcf-4f7a-88fb-b18047793384"
   },
   "outputs": [
    {
     "data": {
      "image/png": "[encoded data removed]",
      "text/plain": [
       "<matplotlib.figure.Figure at 0x26a87002eb8>"
      ]
     },
     "metadata": {},
     "output_type": "display_data"
    }
   ],
   "source": [
    "plt.figure(figsize=(8, 6), dpi=120, facecolor='w', edgecolor='b')\n",
    "x = range(len(train_x.columns))\n",
    "y = lr.coef_\n",
    "plt.bar( x, y )\n",
    "plt.xlabel( \"Variables\")\n",
    "plt.ylabel('Coefficients')\n",
    "plt.title('Normalized Coefficient plot')\n",
    "plt.show()"
   ]
  },
  {
   "cell_type": "code",
   "execution_count": null,
   "metadata": {
    "colab": {},
    "colab_type": "code",
    "collapsed": true,
    "id": "ukKOCOSfOKd2"
   },
   "outputs": [],
   "source": []
  }
 ],
 "metadata": {
  "colab": {
   "collapsed_sections": [],
   "name": "Linear Regression.ipynb",
   "provenance": [],
   "version": "0.3.2"
  },
  "kernelspec": {
   "display_name": "Python 3",
   "language": "python",
   "name": "python3"
  },
  "language_info": {
   "codemirror_mode": {
    "name": "ipython",
    "version": 3
   },
   "file_extension": ".py",
   "mimetype": "text/x-python",
   "name": "python",
   "nbconvert_exporter": "python",
   "pygments_lexer": "ipython3",
   "version": "3.6.3"
  }
 },
 "nbformat": 4,
 "nbformat_minor": 1
}
