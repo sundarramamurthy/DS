{
  "nbformat": 4,
  "nbformat_minor": 0,
  "metadata": {
    "colab": {
      "name": "Spark and Pandas.ipynb",
      "provenance": [],
      "collapsed_sections": [],
      "authorship_tag": "ABX9TyP8zKgm4ykdlCOXBBnca88J",
      "include_colab_link": true
    },
    "kernelspec": {
      "name": "python3",
      "display_name": "Python 3"
    },
    "language_info": {
      "name": "python"
    }
  },
  "cells": [
    {
      "cell_type": "markdown",
      "metadata": {
        "id": "view-in-github",
        "colab_type": "text"
      },
      "source": [
        "<a href=\"https://colab.research.google.com/github/sundarramamurthy/DS/blob/master/Spark_and_Pandas.ipynb\" target=\"_parent\"><img src=\"https://colab.research.google.com/assets/colab-badge.svg\" alt=\"Open In Colab\"/></a>"
      ]
    },
    {
      "cell_type": "markdown",
      "metadata": {
        "id": "61RR4YrbnYAS"
      },
      "source": [
        "# Install Py Spark"
      ]
    },
    {
      "cell_type": "code",
      "metadata": {
        "colab": {
          "base_uri": "https://localhost:8080/"
        },
        "id": "eipRbOl8nQmh",
        "outputId": "d62f1ccc-1628-45fb-81d4-9aac9082629d"
      },
      "source": [
        "!pip install pyspark"
      ],
      "execution_count": null,
      "outputs": [
        {
          "output_type": "stream",
          "text": [
            "Requirement already satisfied: pyspark in /usr/local/lib/python3.7/dist-packages (3.1.2)\n",
            "Requirement already satisfied: py4j==0.10.9 in /usr/local/lib/python3.7/dist-packages (from pyspark) (0.10.9)\n"
          ],
          "name": "stdout"
        }
      ]
    },
    {
      "cell_type": "markdown",
      "metadata": {
        "id": "p9tpSkn2nvtj"
      },
      "source": [
        "# Load required libraries"
      ]
    },
    {
      "cell_type": "code",
      "metadata": {
        "colab": {
          "base_uri": "https://localhost:8080/"
        },
        "id": "K-4t_mb1m5p9",
        "outputId": "45ab336e-30d1-4738-9d32-d284ec9885b9"
      },
      "source": [
        "import numpy as np\n",
        "import pandas as pd\n",
        "import matplotlib.pyplot as plt\n",
        "%matplotlib inline\n",
        "from pyspark import SparkContext\n",
        "\n",
        "try:\n",
        "    sc = SparkContext('local', 'my_context')\n",
        "except ValueError:\n",
        "    print('Spark_Context already exists!')\n",
        "\n",
        "from pyspark.sql import SparkSession\n",
        "try:\n",
        "    spark = SparkSession.builder.appName('pyspark_session_2').getOrCreate()\n",
        "except ValueError:\n",
        "    print('Spark_Session already exists!')"
      ],
      "execution_count": null,
      "outputs": [
        {
          "output_type": "stream",
          "text": [
            "Spark_Context already exists!\n"
          ],
          "name": "stdout"
        }
      ]
    },
    {
      "cell_type": "markdown",
      "metadata": {
        "id": "F2-zFW-CsOJ-"
      },
      "source": [
        "# Mount your Google Drive to read the CSV file data"
      ]
    },
    {
      "cell_type": "code",
      "metadata": {
        "colab": {
          "base_uri": "https://localhost:8080/"
        },
        "id": "uA0KO9_dsMJ-",
        "outputId": "c2358c91-01c6-4a4c-cb76-796338092107"
      },
      "source": [
        "from google.colab import drive\n",
        "drive.mount('/content/drive/')"
      ],
      "execution_count": null,
      "outputs": [
        {
          "output_type": "stream",
          "text": [
            "Drive already mounted at /content/drive/; to attempt to forcibly remount, call drive.mount(\"/content/drive/\", force_remount=True).\n"
          ],
          "name": "stdout"
        }
      ]
    },
    {
      "cell_type": "markdown",
      "metadata": {
        "id": "j9SU8f27oGwh"
      },
      "source": [
        "# Load CSV in Pandas"
      ]
    },
    {
      "cell_type": "code",
      "metadata": {
        "colab": {
          "base_uri": "https://localhost:8080/",
          "height": 238
        },
        "id": "KIytXNNZnKwX",
        "outputId": "604db7fc-53af-4b55-bd6f-d4fa8a00e8c3"
      },
      "source": [
        "%time\n",
        "pandas_dataframe = pd.read_csv(\"/content/drive/MyDrive/Data/stock_price.csv\")\n",
        "pandas_dataframe.head()"
      ],
      "execution_count": null,
      "outputs": [
        {
          "output_type": "stream",
          "text": [
            "CPU times: user 4 µs, sys: 0 ns, total: 4 µs\n",
            "Wall time: 8.34 µs\n"
          ],
          "name": "stdout"
        },
        {
          "output_type": "execute_result",
          "data": {
            "text/html": [
              "<div>\n",
              "<style scoped>\n",
              "    .dataframe tbody tr th:only-of-type {\n",
              "        vertical-align: middle;\n",
              "    }\n",
              "\n",
              "    .dataframe tbody tr th {\n",
              "        vertical-align: top;\n",
              "    }\n",
              "\n",
              "    .dataframe thead th {\n",
              "        text-align: right;\n",
              "    }\n",
              "</style>\n",
              "<table border=\"1\" class=\"dataframe\">\n",
              "  <thead>\n",
              "    <tr style=\"text-align: right;\">\n",
              "      <th></th>\n",
              "      <th>Date</th>\n",
              "      <th>Open</th>\n",
              "      <th>High</th>\n",
              "      <th>Low</th>\n",
              "      <th>Close</th>\n",
              "      <th>Volume</th>\n",
              "      <th>ExDividend</th>\n",
              "      <th>SplitRatio</th>\n",
              "      <th>AdjOpen</th>\n",
              "      <th>AdjHigh</th>\n",
              "      <th>AdjLow</th>\n",
              "      <th>AdjClose</th>\n",
              "      <th>AdjVolume</th>\n",
              "      <th>Symbol</th>\n",
              "    </tr>\n",
              "  </thead>\n",
              "  <tbody>\n",
              "    <tr>\n",
              "      <th>0</th>\n",
              "      <td>2018-03-27</td>\n",
              "      <td>173.68</td>\n",
              "      <td>175.15</td>\n",
              "      <td>166.92</td>\n",
              "      <td>168.340</td>\n",
              "      <td>38962839.0</td>\n",
              "      <td>0.0</td>\n",
              "      <td>1.0</td>\n",
              "      <td>173.68</td>\n",
              "      <td>175.15</td>\n",
              "      <td>166.92</td>\n",
              "      <td>168.340</td>\n",
              "      <td>38962839.0</td>\n",
              "      <td>AAPL</td>\n",
              "    </tr>\n",
              "    <tr>\n",
              "      <th>1</th>\n",
              "      <td>2018-03-26</td>\n",
              "      <td>168.07</td>\n",
              "      <td>173.10</td>\n",
              "      <td>166.44</td>\n",
              "      <td>172.770</td>\n",
              "      <td>36272617.0</td>\n",
              "      <td>0.0</td>\n",
              "      <td>1.0</td>\n",
              "      <td>168.07</td>\n",
              "      <td>173.10</td>\n",
              "      <td>166.44</td>\n",
              "      <td>172.770</td>\n",
              "      <td>36272617.0</td>\n",
              "      <td>AAPL</td>\n",
              "    </tr>\n",
              "    <tr>\n",
              "      <th>2</th>\n",
              "      <td>2018-03-23</td>\n",
              "      <td>168.39</td>\n",
              "      <td>169.92</td>\n",
              "      <td>164.94</td>\n",
              "      <td>164.940</td>\n",
              "      <td>40248954.0</td>\n",
              "      <td>0.0</td>\n",
              "      <td>1.0</td>\n",
              "      <td>168.39</td>\n",
              "      <td>169.92</td>\n",
              "      <td>164.94</td>\n",
              "      <td>164.940</td>\n",
              "      <td>40248954.0</td>\n",
              "      <td>AAPL</td>\n",
              "    </tr>\n",
              "    <tr>\n",
              "      <th>3</th>\n",
              "      <td>2018-03-22</td>\n",
              "      <td>170.00</td>\n",
              "      <td>172.68</td>\n",
              "      <td>168.60</td>\n",
              "      <td>168.845</td>\n",
              "      <td>41051076.0</td>\n",
              "      <td>0.0</td>\n",
              "      <td>1.0</td>\n",
              "      <td>170.00</td>\n",
              "      <td>172.68</td>\n",
              "      <td>168.60</td>\n",
              "      <td>168.845</td>\n",
              "      <td>41051076.0</td>\n",
              "      <td>AAPL</td>\n",
              "    </tr>\n",
              "    <tr>\n",
              "      <th>4</th>\n",
              "      <td>2018-03-21</td>\n",
              "      <td>175.04</td>\n",
              "      <td>175.09</td>\n",
              "      <td>171.26</td>\n",
              "      <td>171.270</td>\n",
              "      <td>35247358.0</td>\n",
              "      <td>0.0</td>\n",
              "      <td>1.0</td>\n",
              "      <td>175.04</td>\n",
              "      <td>175.09</td>\n",
              "      <td>171.26</td>\n",
              "      <td>171.270</td>\n",
              "      <td>35247358.0</td>\n",
              "      <td>AAPL</td>\n",
              "    </tr>\n",
              "  </tbody>\n",
              "</table>\n",
              "</div>"
            ],
            "text/plain": [
              "         Date    Open    High     Low  ...  AdjLow  AdjClose   AdjVolume  Symbol\n",
              "0  2018-03-27  173.68  175.15  166.92  ...  166.92   168.340  38962839.0    AAPL\n",
              "1  2018-03-26  168.07  173.10  166.44  ...  166.44   172.770  36272617.0    AAPL\n",
              "2  2018-03-23  168.39  169.92  164.94  ...  164.94   164.940  40248954.0    AAPL\n",
              "3  2018-03-22  170.00  172.68  168.60  ...  168.60   168.845  41051076.0    AAPL\n",
              "4  2018-03-21  175.04  175.09  171.26  ...  171.26   171.270  35247358.0    AAPL\n",
              "\n",
              "[5 rows x 14 columns]"
            ]
          },
          "metadata": {
            "tags": []
          },
          "execution_count": 92
        }
      ]
    },
    {
      "cell_type": "markdown",
      "metadata": {
        "id": "gFLrYbkatGGD"
      },
      "source": [
        "# Load Data using Spark"
      ]
    },
    {
      "cell_type": "code",
      "metadata": {
        "colab": {
          "base_uri": "https://localhost:8080/"
        },
        "id": "4AApkEfCoNPx",
        "outputId": "4bdc0b50-aabb-4b15-ccfa-5f560fe7ea59"
      },
      "source": [
        "%time\n",
        "spark_dataframe = spark.read.csv(\"/content/drive/MyDrive/Data/stock_price.csv\", header=True, inferSchema=True)\n",
        "print(spark_dataframe.show(5))"
      ],
      "execution_count": null,
      "outputs": [
        {
          "output_type": "stream",
          "text": [
            "CPU times: user 2 µs, sys: 0 ns, total: 2 µs\n",
            "Wall time: 5.25 µs\n",
            "+----------+------+------+------+-------+-----------+----------+----------+-------+-------+------+--------+-----------+------+\n",
            "|      Date|  Open|  High|   Low|  Close|     Volume|ExDividend|SplitRatio|AdjOpen|AdjHigh|AdjLow|AdjClose|  AdjVolume|Symbol|\n",
            "+----------+------+------+------+-------+-----------+----------+----------+-------+-------+------+--------+-----------+------+\n",
            "|2018-03-27|173.68|175.15|166.92| 168.34|3.8962839E7|       0.0|       1.0| 173.68| 175.15|166.92|  168.34|3.8962839E7|  AAPL|\n",
            "|2018-03-26|168.07| 173.1|166.44| 172.77|3.6272617E7|       0.0|       1.0| 168.07|  173.1|166.44|  172.77|3.6272617E7|  AAPL|\n",
            "|2018-03-23|168.39|169.92|164.94| 164.94|4.0248954E7|       0.0|       1.0| 168.39| 169.92|164.94|  164.94|4.0248954E7|  AAPL|\n",
            "|2018-03-22| 170.0|172.68| 168.6|168.845|4.1051076E7|       0.0|       1.0|  170.0| 172.68| 168.6| 168.845|4.1051076E7|  AAPL|\n",
            "|2018-03-21|175.04|175.09|171.26| 171.27|3.5247358E7|       0.0|       1.0| 175.04| 175.09|171.26|  171.27|3.5247358E7|  AAPL|\n",
            "+----------+------+------+------+-------+-----------+----------+----------+-------+-------+------+--------+-----------+------+\n",
            "only showing top 5 rows\n",
            "\n",
            "None\n"
          ],
          "name": "stdout"
        }
      ]
    },
    {
      "cell_type": "markdown",
      "metadata": {
        "id": "ym0Kp810uF38"
      },
      "source": [
        "#  Summary Statistics"
      ]
    },
    {
      "cell_type": "markdown",
      "metadata": {
        "id": "mZuhrzB8uLNt"
      },
      "source": [
        "## In Pandas"
      ]
    },
    {
      "cell_type": "code",
      "metadata": {
        "colab": {
          "base_uri": "https://localhost:8080/",
          "height": 297
        },
        "id": "TPPMpjFgtp57",
        "outputId": "096b4579-f9b7-44b2-e83b-6f1c02d69995"
      },
      "source": [
        "pandas_dataframe.describe()"
      ],
      "execution_count": null,
      "outputs": [
        {
          "output_type": "execute_result",
          "data": {
            "text/html": [
              "<div>\n",
              "<style scoped>\n",
              "    .dataframe tbody tr th:only-of-type {\n",
              "        vertical-align: middle;\n",
              "    }\n",
              "\n",
              "    .dataframe tbody tr th {\n",
              "        vertical-align: top;\n",
              "    }\n",
              "\n",
              "    .dataframe thead th {\n",
              "        text-align: right;\n",
              "    }\n",
              "</style>\n",
              "<table border=\"1\" class=\"dataframe\">\n",
              "  <thead>\n",
              "    <tr style=\"text-align: right;\">\n",
              "      <th></th>\n",
              "      <th>Open</th>\n",
              "      <th>High</th>\n",
              "      <th>Low</th>\n",
              "      <th>Close</th>\n",
              "      <th>Volume</th>\n",
              "      <th>ExDividend</th>\n",
              "      <th>SplitRatio</th>\n",
              "      <th>AdjOpen</th>\n",
              "      <th>AdjHigh</th>\n",
              "      <th>AdjLow</th>\n",
              "      <th>AdjClose</th>\n",
              "      <th>AdjVolume</th>\n",
              "    </tr>\n",
              "  </thead>\n",
              "  <tbody>\n",
              "    <tr>\n",
              "      <th>count</th>\n",
              "      <td>5148.000000</td>\n",
              "      <td>5148.000000</td>\n",
              "      <td>5148.000000</td>\n",
              "      <td>5148.000000</td>\n",
              "      <td>5.148000e+03</td>\n",
              "      <td>5148.000000</td>\n",
              "      <td>5148.000000</td>\n",
              "      <td>5148.000000</td>\n",
              "      <td>5148.000000</td>\n",
              "      <td>5148.000000</td>\n",
              "      <td>5148.000000</td>\n",
              "      <td>5.148000e+03</td>\n",
              "    </tr>\n",
              "    <tr>\n",
              "      <th>mean</th>\n",
              "      <td>277.859215</td>\n",
              "      <td>280.151335</td>\n",
              "      <td>275.311379</td>\n",
              "      <td>277.804104</td>\n",
              "      <td>2.881661e+07</td>\n",
              "      <td>0.007576</td>\n",
              "      <td>1.001166</td>\n",
              "      <td>194.893137</td>\n",
              "      <td>196.432051</td>\n",
              "      <td>193.218033</td>\n",
              "      <td>194.880789</td>\n",
              "      <td>5.141651e+07</td>\n",
              "    </tr>\n",
              "    <tr>\n",
              "      <th>std</th>\n",
              "      <td>287.739104</td>\n",
              "      <td>289.991700</td>\n",
              "      <td>285.233359</td>\n",
              "      <td>287.688769</td>\n",
              "      <td>2.443281e+07</td>\n",
              "      <td>0.120849</td>\n",
              "      <td>0.083624</td>\n",
              "      <td>280.713119</td>\n",
              "      <td>282.844677</td>\n",
              "      <td>278.389845</td>\n",
              "      <td>280.704504</td>\n",
              "      <td>5.150666e+07</td>\n",
              "    </tr>\n",
              "    <tr>\n",
              "      <th>min</th>\n",
              "      <td>23.090000</td>\n",
              "      <td>23.320000</td>\n",
              "      <td>22.730000</td>\n",
              "      <td>23.010000</td>\n",
              "      <td>7.900000e+03</td>\n",
              "      <td>0.000000</td>\n",
              "      <td>1.000000</td>\n",
              "      <td>18.937293</td>\n",
              "      <td>19.125928</td>\n",
              "      <td>18.642039</td>\n",
              "      <td>18.871681</td>\n",
              "      <td>7.900000e+03</td>\n",
              "    </tr>\n",
              "    <tr>\n",
              "      <th>25%</th>\n",
              "      <td>45.387500</td>\n",
              "      <td>45.695000</td>\n",
              "      <td>45.002600</td>\n",
              "      <td>45.347500</td>\n",
              "      <td>1.146849e+07</td>\n",
              "      <td>0.000000</td>\n",
              "      <td>1.000000</td>\n",
              "      <td>36.907849</td>\n",
              "      <td>37.243491</td>\n",
              "      <td>36.512462</td>\n",
              "      <td>36.924263</td>\n",
              "      <td>2.021791e+07</td>\n",
              "    </tr>\n",
              "    <tr>\n",
              "      <th>50%</th>\n",
              "      <td>117.945000</td>\n",
              "      <td>119.180000</td>\n",
              "      <td>116.860000</td>\n",
              "      <td>118.240000</td>\n",
              "      <td>2.477530e+07</td>\n",
              "      <td>0.000000</td>\n",
              "      <td>1.000000</td>\n",
              "      <td>66.676592</td>\n",
              "      <td>67.214047</td>\n",
              "      <td>66.034707</td>\n",
              "      <td>66.607403</td>\n",
              "      <td>3.756888e+07</td>\n",
              "    </tr>\n",
              "    <tr>\n",
              "      <th>75%</th>\n",
              "      <td>525.000000</td>\n",
              "      <td>529.674925</td>\n",
              "      <td>519.837500</td>\n",
              "      <td>525.182500</td>\n",
              "      <td>4.129263e+07</td>\n",
              "      <td>0.000000</td>\n",
              "      <td>1.000000</td>\n",
              "      <td>131.540800</td>\n",
              "      <td>132.081385</td>\n",
              "      <td>131.153959</td>\n",
              "      <td>131.563117</td>\n",
              "      <td>6.682210e+07</td>\n",
              "    </tr>\n",
              "    <tr>\n",
              "      <th>max</th>\n",
              "      <td>1177.330000</td>\n",
              "      <td>1186.890000</td>\n",
              "      <td>1171.980000</td>\n",
              "      <td>1175.840000</td>\n",
              "      <td>3.193179e+08</td>\n",
              "      <td>3.290000</td>\n",
              "      <td>7.000000</td>\n",
              "      <td>1177.330000</td>\n",
              "      <td>1186.890000</td>\n",
              "      <td>1171.980000</td>\n",
              "      <td>1175.840000</td>\n",
              "      <td>4.702495e+08</td>\n",
              "    </tr>\n",
              "  </tbody>\n",
              "</table>\n",
              "</div>"
            ],
            "text/plain": [
              "              Open         High  ...     AdjClose     AdjVolume\n",
              "count  5148.000000  5148.000000  ...  5148.000000  5.148000e+03\n",
              "mean    277.859215   280.151335  ...   194.880789  5.141651e+07\n",
              "std     287.739104   289.991700  ...   280.704504  5.150666e+07\n",
              "min      23.090000    23.320000  ...    18.871681  7.900000e+03\n",
              "25%      45.387500    45.695000  ...    36.924263  2.021791e+07\n",
              "50%     117.945000   119.180000  ...    66.607403  3.756888e+07\n",
              "75%     525.000000   529.674925  ...   131.563117  6.682210e+07\n",
              "max    1177.330000  1186.890000  ...  1175.840000  4.702495e+08\n",
              "\n",
              "[8 rows x 12 columns]"
            ]
          },
          "metadata": {
            "tags": []
          },
          "execution_count": 93
        }
      ]
    },
    {
      "cell_type": "markdown",
      "metadata": {
        "id": "foxXptWgua3u"
      },
      "source": [
        "## In Spark"
      ]
    },
    {
      "cell_type": "code",
      "metadata": {
        "colab": {
          "base_uri": "https://localhost:8080/"
        },
        "id": "k2BoLhqGuSEo",
        "outputId": "6d6f3707-3ee6-47b1-e7f2-3dfbca77f09b"
      },
      "source": [
        "spark_dataframe.describe().show(truncate=True)"
      ],
      "execution_count": null,
      "outputs": [
        {
          "output_type": "stream",
          "text": [
            "+-------+----------+------------------+-----------------+------------------+-----------------+--------------------+--------------------+-------------------+------------------+------------------+------------------+------------------+--------------------+------+\n",
            "|summary|      Date|              Open|             High|               Low|            Close|              Volume|          ExDividend|         SplitRatio|           AdjOpen|           AdjHigh|            AdjLow|          AdjClose|           AdjVolume|Symbol|\n",
            "+-------+----------+------------------+-----------------+------------------+-----------------+--------------------+--------------------+-------------------+------------------+------------------+------------------+------------------+--------------------+------+\n",
            "|  count|      5148|              5148|             5148|              5148|             5148|                5148|                5148|               5148|              5148|              5148|              5148|              5148|                5148|  5148|\n",
            "|   mean|      null| 277.8592147047397|280.1513347902095|275.31137861305535|277.8041042929301| 2.881660953263403E7|0.007575757575757576| 1.0011655011655012|194.89313725705966|196.43205094141487|193.21803273539186|194.88078883033927|5.1416512796037294E7|  null|\n",
            "| stddev|      null|287.73910351780575|289.9916997858945|285.23335884071236|287.6887686042249|2.4432813463515982E7| 0.12084938807348435|0.08362420100070915| 280.7131194132054|282.84467683636456| 278.3898446517073| 280.7045042148496| 5.150665587518289E7|  null|\n",
            "|    min|2010-01-04|             23.09|            23.32|             22.73|            23.01|              7900.0|                 0.0|                1.0|18.937293203139998|   19.125927999014|18.642038740032998|   18.871681100227|              7900.0|  AAPL|\n",
            "|    max|2018-03-27|           1177.33|          1186.89|           1171.98|          1175.84|          3.193179E8|                3.29|                7.0|           1177.33|           1186.89|           1171.98|           1175.84|          4.702495E8|  MSFT|\n",
            "+-------+----------+------------------+-----------------+------------------+-----------------+--------------------+--------------------+-------------------+------------------+------------------+------------------+------------------+--------------------+------+\n",
            "\n"
          ],
          "name": "stdout"
        }
      ]
    },
    {
      "cell_type": "markdown",
      "metadata": {
        "id": "V54TFbCTu8Om"
      },
      "source": [
        "# Correlation among different columns in a DataFrame"
      ]
    },
    {
      "cell_type": "markdown",
      "metadata": {
        "id": "sIrLr5bpznge"
      },
      "source": [
        "## In Pandas"
      ]
    },
    {
      "cell_type": "code",
      "metadata": {
        "colab": {
          "base_uri": "https://localhost:8080/",
          "height": 142
        },
        "id": "IEGO7zIKugW2",
        "outputId": "1a118256-1975-4eec-ee33-0e45aaaa69af"
      },
      "source": [
        "pandas_dataframe[['Open','Close', 'Volume']].corr()"
      ],
      "execution_count": null,
      "outputs": [
        {
          "output_type": "execute_result",
          "data": {
            "text/html": [
              "<div>\n",
              "<style scoped>\n",
              "    .dataframe tbody tr th:only-of-type {\n",
              "        vertical-align: middle;\n",
              "    }\n",
              "\n",
              "    .dataframe tbody tr th {\n",
              "        vertical-align: top;\n",
              "    }\n",
              "\n",
              "    .dataframe thead th {\n",
              "        text-align: right;\n",
              "    }\n",
              "</style>\n",
              "<table border=\"1\" class=\"dataframe\">\n",
              "  <thead>\n",
              "    <tr style=\"text-align: right;\">\n",
              "      <th></th>\n",
              "      <th>Open</th>\n",
              "      <th>Close</th>\n",
              "      <th>Volume</th>\n",
              "    </tr>\n",
              "  </thead>\n",
              "  <tbody>\n",
              "    <tr>\n",
              "      <th>Open</th>\n",
              "      <td>1.000000</td>\n",
              "      <td>0.999862</td>\n",
              "      <td>-0.656712</td>\n",
              "    </tr>\n",
              "    <tr>\n",
              "      <th>Close</th>\n",
              "      <td>0.999862</td>\n",
              "      <td>1.000000</td>\n",
              "      <td>-0.656984</td>\n",
              "    </tr>\n",
              "    <tr>\n",
              "      <th>Volume</th>\n",
              "      <td>-0.656712</td>\n",
              "      <td>-0.656984</td>\n",
              "      <td>1.000000</td>\n",
              "    </tr>\n",
              "  </tbody>\n",
              "</table>\n",
              "</div>"
            ],
            "text/plain": [
              "            Open     Close    Volume\n",
              "Open    1.000000  0.999862 -0.656712\n",
              "Close   0.999862  1.000000 -0.656984\n",
              "Volume -0.656712 -0.656984  1.000000"
            ]
          },
          "metadata": {
            "tags": []
          },
          "execution_count": 95
        }
      ]
    },
    {
      "cell_type": "markdown",
      "metadata": {
        "id": "aLu4U5Ibzpy2"
      },
      "source": [
        "## In Spark"
      ]
    },
    {
      "cell_type": "code",
      "metadata": {
        "colab": {
          "base_uri": "https://localhost:8080/"
        },
        "id": "ZnFGm2bFzOHi",
        "outputId": "e661e581-101f-4e59-e66b-db4112aa3c1f"
      },
      "source": [
        "from pyspark.sql.functions import corr\n",
        "spark_dataframe.select(corr(\"Open\",\"Volume\")).show()"
      ],
      "execution_count": null,
      "outputs": [
        {
          "output_type": "stream",
          "text": [
            "+-------------------+\n",
            "| corr(Open, Volume)|\n",
            "+-------------------+\n",
            "|-0.6567115900695651|\n",
            "+-------------------+\n",
            "\n"
          ],
          "name": "stdout"
        }
      ]
    },
    {
      "cell_type": "markdown",
      "metadata": {
        "id": "s3Q4IPCB0Ihu"
      },
      "source": [
        "# Aggregation & Grouping"
      ]
    },
    {
      "cell_type": "markdown",
      "metadata": {
        "id": "kR8dSSEX1LJN"
      },
      "source": [
        "## In Pandas"
      ]
    },
    {
      "cell_type": "code",
      "metadata": {
        "colab": {
          "base_uri": "https://localhost:8080/",
          "height": 207
        },
        "id": "cSxuTIfpzueO",
        "outputId": "dae73f27-df8b-401a-b799-4f40d2998cda"
      },
      "source": [
        "pandas_dataframe.groupby('Symbol')['Open','Close'].min()"
      ],
      "execution_count": null,
      "outputs": [
        {
          "output_type": "stream",
          "text": [
            "/usr/local/lib/python3.7/dist-packages/ipykernel_launcher.py:1: FutureWarning: Indexing with multiple keys (implicitly converted to a tuple of keys) will be deprecated, use a list instead.\n",
            "  \"\"\"Entry point for launching an IPython kernel.\n"
          ],
          "name": "stderr"
        },
        {
          "output_type": "execute_result",
          "data": {
            "text/html": [
              "<div>\n",
              "<style scoped>\n",
              "    .dataframe tbody tr th:only-of-type {\n",
              "        vertical-align: middle;\n",
              "    }\n",
              "\n",
              "    .dataframe tbody tr th {\n",
              "        vertical-align: top;\n",
              "    }\n",
              "\n",
              "    .dataframe thead th {\n",
              "        text-align: right;\n",
              "    }\n",
              "</style>\n",
              "<table border=\"1\" class=\"dataframe\">\n",
              "  <thead>\n",
              "    <tr style=\"text-align: right;\">\n",
              "      <th></th>\n",
              "      <th>Open</th>\n",
              "      <th>Close</th>\n",
              "    </tr>\n",
              "    <tr>\n",
              "      <th>Symbol</th>\n",
              "      <th></th>\n",
              "      <th></th>\n",
              "    </tr>\n",
              "  </thead>\n",
              "  <tbody>\n",
              "    <tr>\n",
              "      <th>AAPL</th>\n",
              "      <td>90.00</td>\n",
              "      <td>90.28</td>\n",
              "    </tr>\n",
              "    <tr>\n",
              "      <th>GOOG</th>\n",
              "      <td>494.65</td>\n",
              "      <td>492.55</td>\n",
              "    </tr>\n",
              "    <tr>\n",
              "      <th>MSFT</th>\n",
              "      <td>23.09</td>\n",
              "      <td>23.01</td>\n",
              "    </tr>\n",
              "  </tbody>\n",
              "</table>\n",
              "</div>"
            ],
            "text/plain": [
              "          Open   Close\n",
              "Symbol                \n",
              "AAPL     90.00   90.28\n",
              "GOOG    494.65  492.55\n",
              "MSFT     23.09   23.01"
            ]
          },
          "metadata": {
            "tags": []
          },
          "execution_count": 97
        }
      ]
    },
    {
      "cell_type": "markdown",
      "metadata": {
        "id": "9uKJINTH1NwL"
      },
      "source": [
        "## In Spark"
      ]
    },
    {
      "cell_type": "code",
      "metadata": {
        "colab": {
          "base_uri": "https://localhost:8080/"
        },
        "id": "aTLxFIki0SqF",
        "outputId": "ddb4c06b-c676-4450-916b-ceaadbede539"
      },
      "source": [
        "from pyspark.sql import functions as F\n",
        "spark_dataframe.groupBy(\"Symbol\").agg(F.max(\"Open\"),F.max(\"Close\")).show()"
      ],
      "execution_count": null,
      "outputs": [
        {
          "output_type": "stream",
          "text": [
            "+------+---------+----------+\n",
            "|Symbol|max(Open)|max(Close)|\n",
            "+------+---------+----------+\n",
            "|  AAPL|   702.41|     702.1|\n",
            "|  GOOG|  1177.33|   1175.84|\n",
            "|  MSFT|     97.0|     96.77|\n",
            "+------+---------+----------+\n",
            "\n"
          ],
          "name": "stdout"
        }
      ]
    },
    {
      "cell_type": "markdown",
      "metadata": {
        "id": "CrfxIac42Eqy"
      },
      "source": [
        ""
      ]
    },
    {
      "cell_type": "markdown",
      "metadata": {
        "id": "gL4VcqTM2L91"
      },
      "source": [
        "# Missing Data Imputation"
      ]
    },
    {
      "cell_type": "markdown",
      "metadata": {
        "id": "G7xibCDr2N9q"
      },
      "source": [
        "## In Pandas"
      ]
    },
    {
      "cell_type": "markdown",
      "metadata": {
        "id": "QKoEg-jW27GJ"
      },
      "source": [
        "Pandas DataFrame provides a fillna() function that can fill missing data items with any string or number. \n",
        "\n",
        "Spark DataFrames provide a similar function, but they only allow a value that matches the data type of the corresponding column."
      ]
    },
    {
      "cell_type": "code",
      "metadata": {
        "id": "L93YSaI-1YI5"
      },
      "source": [
        "pandas_dataframe.fillna('NA', inplace = True)\n",
        "pandas_dataframe.fillna(0, inplace = True)"
      ],
      "execution_count": null,
      "outputs": []
    },
    {
      "cell_type": "markdown",
      "metadata": {
        "id": "FFlKISkz3Ldz"
      },
      "source": [
        "## In Spark"
      ]
    },
    {
      "cell_type": "code",
      "metadata": {
        "id": "5K1e6Yib2KKA"
      },
      "source": [
        "spark_dataframe = spark_dataframe.na.fill(0)"
      ],
      "execution_count": null,
      "outputs": []
    },
    {
      "cell_type": "markdown",
      "metadata": {
        "id": "BETG7c0f3b-W"
      },
      "source": [
        "# Data Filtering"
      ]
    },
    {
      "cell_type": "code",
      "metadata": {
        "colab": {
          "base_uri": "https://localhost:8080/",
          "height": 204
        },
        "id": "P4o3PPuV3QuC",
        "outputId": "9fe70115-f457-4e42-c21a-7f995ff4f348"
      },
      "source": [
        "pandas_dataframe.loc[pandas_dataframe['Symbol'] == 'AAPL', ['Open','Close']].head()\n"
      ],
      "execution_count": null,
      "outputs": [
        {
          "output_type": "execute_result",
          "data": {
            "text/html": [
              "<div>\n",
              "<style scoped>\n",
              "    .dataframe tbody tr th:only-of-type {\n",
              "        vertical-align: middle;\n",
              "    }\n",
              "\n",
              "    .dataframe tbody tr th {\n",
              "        vertical-align: top;\n",
              "    }\n",
              "\n",
              "    .dataframe thead th {\n",
              "        text-align: right;\n",
              "    }\n",
              "</style>\n",
              "<table border=\"1\" class=\"dataframe\">\n",
              "  <thead>\n",
              "    <tr style=\"text-align: right;\">\n",
              "      <th></th>\n",
              "      <th>Open</th>\n",
              "      <th>Close</th>\n",
              "    </tr>\n",
              "  </thead>\n",
              "  <tbody>\n",
              "    <tr>\n",
              "      <th>0</th>\n",
              "      <td>173.68</td>\n",
              "      <td>168.340</td>\n",
              "    </tr>\n",
              "    <tr>\n",
              "      <th>1</th>\n",
              "      <td>168.07</td>\n",
              "      <td>172.770</td>\n",
              "    </tr>\n",
              "    <tr>\n",
              "      <th>2</th>\n",
              "      <td>168.39</td>\n",
              "      <td>164.940</td>\n",
              "    </tr>\n",
              "    <tr>\n",
              "      <th>3</th>\n",
              "      <td>170.00</td>\n",
              "      <td>168.845</td>\n",
              "    </tr>\n",
              "    <tr>\n",
              "      <th>4</th>\n",
              "      <td>175.04</td>\n",
              "      <td>171.270</td>\n",
              "    </tr>\n",
              "  </tbody>\n",
              "</table>\n",
              "</div>"
            ],
            "text/plain": [
              "     Open    Close\n",
              "0  173.68  168.340\n",
              "1  168.07  172.770\n",
              "2  168.39  164.940\n",
              "3  170.00  168.845\n",
              "4  175.04  171.270"
            ]
          },
          "metadata": {
            "tags": []
          },
          "execution_count": 101
        }
      ]
    },
    {
      "cell_type": "code",
      "metadata": {
        "colab": {
          "base_uri": "https://localhost:8080/"
        },
        "id": "W6XBcPOQ3rcO",
        "outputId": "7c17d7b5-9d2e-4fb9-a7fa-af1750d3d330"
      },
      "source": [
        "spark_dataframe.filter(\"Symbol == 'GOOG'\").select(\"Open\",\"Close\").show(5)"
      ],
      "execution_count": null,
      "outputs": [
        {
          "output_type": "stream",
          "text": [
            "+-------+-------+\n",
            "|   Open|  Close|\n",
            "+-------+-------+\n",
            "| 1063.0| 1005.1|\n",
            "| 1046.0|1053.21|\n",
            "|1047.03|1021.57|\n",
            "|1081.88|1049.08|\n",
            "|1092.74|1090.88|\n",
            "+-------+-------+\n",
            "only showing top 5 rows\n",
            "\n"
          ],
          "name": "stdout"
        }
      ]
    },
    {
      "cell_type": "markdown",
      "metadata": {
        "id": "NVWMJ3Ta6N7M"
      },
      "source": [
        "# Features Engineering"
      ]
    },
    {
      "cell_type": "markdown",
      "metadata": {
        "id": "DDzr1RbL6Vsq"
      },
      "source": [
        "### Column Selection"
      ]
    },
    {
      "cell_type": "code",
      "metadata": {
        "id": "N4CAFZji3vLZ"
      },
      "source": [
        "pdf=pandas_dataframe[['Symbol', 'Close']]\n",
        "sdf=spark_dataframe.select('Symbol', 'Close')"
      ],
      "execution_count": null,
      "outputs": []
    },
    {
      "cell_type": "code",
      "metadata": {
        "colab": {
          "base_uri": "https://localhost:8080/",
          "height": 204
        },
        "id": "Zm39_pfr6mgq",
        "outputId": "4859d3db-c7ee-439c-e0d2-4a17ade4406d"
      },
      "source": [
        "pdf.head()"
      ],
      "execution_count": null,
      "outputs": [
        {
          "output_type": "execute_result",
          "data": {
            "text/html": [
              "<div>\n",
              "<style scoped>\n",
              "    .dataframe tbody tr th:only-of-type {\n",
              "        vertical-align: middle;\n",
              "    }\n",
              "\n",
              "    .dataframe tbody tr th {\n",
              "        vertical-align: top;\n",
              "    }\n",
              "\n",
              "    .dataframe thead th {\n",
              "        text-align: right;\n",
              "    }\n",
              "</style>\n",
              "<table border=\"1\" class=\"dataframe\">\n",
              "  <thead>\n",
              "    <tr style=\"text-align: right;\">\n",
              "      <th></th>\n",
              "      <th>Symbol</th>\n",
              "      <th>Close</th>\n",
              "    </tr>\n",
              "  </thead>\n",
              "  <tbody>\n",
              "    <tr>\n",
              "      <th>0</th>\n",
              "      <td>AAPL</td>\n",
              "      <td>168.340</td>\n",
              "    </tr>\n",
              "    <tr>\n",
              "      <th>1</th>\n",
              "      <td>AAPL</td>\n",
              "      <td>172.770</td>\n",
              "    </tr>\n",
              "    <tr>\n",
              "      <th>2</th>\n",
              "      <td>AAPL</td>\n",
              "      <td>164.940</td>\n",
              "    </tr>\n",
              "    <tr>\n",
              "      <th>3</th>\n",
              "      <td>AAPL</td>\n",
              "      <td>168.845</td>\n",
              "    </tr>\n",
              "    <tr>\n",
              "      <th>4</th>\n",
              "      <td>AAPL</td>\n",
              "      <td>171.270</td>\n",
              "    </tr>\n",
              "  </tbody>\n",
              "</table>\n",
              "</div>"
            ],
            "text/plain": [
              "  Symbol    Close\n",
              "0   AAPL  168.340\n",
              "1   AAPL  172.770\n",
              "2   AAPL  164.940\n",
              "3   AAPL  168.845\n",
              "4   AAPL  171.270"
            ]
          },
          "metadata": {
            "tags": []
          },
          "execution_count": 104
        }
      ]
    },
    {
      "cell_type": "code",
      "metadata": {
        "colab": {
          "base_uri": "https://localhost:8080/"
        },
        "id": "5d9d-nGC6uwx",
        "outputId": "d047ba6c-c254-41fe-b132-be1efa1d6714"
      },
      "source": [
        "sdf.show(5)"
      ],
      "execution_count": null,
      "outputs": [
        {
          "output_type": "stream",
          "text": [
            "+------+-------+\n",
            "|Symbol|  Close|\n",
            "+------+-------+\n",
            "|  AAPL| 168.34|\n",
            "|  AAPL| 172.77|\n",
            "|  AAPL| 164.94|\n",
            "|  AAPL|168.845|\n",
            "|  AAPL| 171.27|\n",
            "+------+-------+\n",
            "only showing top 5 rows\n",
            "\n"
          ],
          "name": "stdout"
        }
      ]
    },
    {
      "cell_type": "markdown",
      "metadata": {
        "id": "wSpuzzRV671E"
      },
      "source": [
        "### Renaming Columns"
      ]
    },
    {
      "cell_type": "code",
      "metadata": {
        "id": "EnSkfGbI6wax"
      },
      "source": [
        "pandas_dataframe.rename(columns = {\"Open\": \"open\"}, inplace = True)\n",
        "spark_dataframe = spark_dataframe.withColumnRenamed(\"Close\", \"close\")"
      ],
      "execution_count": null,
      "outputs": []
    },
    {
      "cell_type": "code",
      "metadata": {
        "colab": {
          "base_uri": "https://localhost:8080/"
        },
        "id": "0lfdH1vL7IEA",
        "outputId": "eeb2f496-f4d2-4848-bec5-1d081ca8e15e"
      },
      "source": [
        "pandas_dataframe.info()"
      ],
      "execution_count": null,
      "outputs": [
        {
          "output_type": "stream",
          "text": [
            "<class 'pandas.core.frame.DataFrame'>\n",
            "RangeIndex: 5148 entries, 0 to 5147\n",
            "Data columns (total 14 columns):\n",
            " #   Column      Non-Null Count  Dtype  \n",
            "---  ------      --------------  -----  \n",
            " 0   Date        5148 non-null   object \n",
            " 1   open        5148 non-null   float64\n",
            " 2   High        5148 non-null   float64\n",
            " 3   Low         5148 non-null   float64\n",
            " 4   Close       5148 non-null   float64\n",
            " 5   Volume      5148 non-null   float64\n",
            " 6   ExDividend  5148 non-null   float64\n",
            " 7   SplitRatio  5148 non-null   float64\n",
            " 8   AdjOpen     5148 non-null   float64\n",
            " 9   AdjHigh     5148 non-null   float64\n",
            " 10  AdjLow      5148 non-null   float64\n",
            " 11  AdjClose    5148 non-null   float64\n",
            " 12  AdjVolume   5148 non-null   float64\n",
            " 13  Symbol      5148 non-null   object \n",
            "dtypes: float64(12), object(2)\n",
            "memory usage: 563.2+ KB\n"
          ],
          "name": "stdout"
        }
      ]
    },
    {
      "cell_type": "code",
      "metadata": {
        "colab": {
          "base_uri": "https://localhost:8080/"
        },
        "id": "0C9UF0zJ7Vdw",
        "outputId": "bb966f58-1d55-425c-91f6-70235d6f4223"
      },
      "source": [
        "spark_dataframe.printSchema()"
      ],
      "execution_count": null,
      "outputs": [
        {
          "output_type": "stream",
          "text": [
            "root\n",
            " |-- Date: string (nullable = true)\n",
            " |-- Open: double (nullable = false)\n",
            " |-- High: double (nullable = false)\n",
            " |-- Low: double (nullable = false)\n",
            " |-- close: double (nullable = false)\n",
            " |-- Volume: double (nullable = false)\n",
            " |-- ExDividend: double (nullable = false)\n",
            " |-- SplitRatio: double (nullable = false)\n",
            " |-- AdjOpen: double (nullable = false)\n",
            " |-- AdjHigh: double (nullable = false)\n",
            " |-- AdjLow: double (nullable = false)\n",
            " |-- AdjClose: double (nullable = false)\n",
            " |-- AdjVolume: double (nullable = false)\n",
            " |-- Symbol: string (nullable = true)\n",
            "\n"
          ],
          "name": "stdout"
        }
      ]
    },
    {
      "cell_type": "markdown",
      "metadata": {
        "id": "6mNvvTzB7n_I"
      },
      "source": [
        "### New feature creation"
      ]
    },
    {
      "cell_type": "markdown",
      "metadata": {
        "id": "WCC9xcpY8oxN"
      },
      "source": [
        "### In Pandas"
      ]
    },
    {
      "cell_type": "code",
      "metadata": {
        "id": "uFhZBI9h7bcv"
      },
      "source": [
        "pandas_dataframe['diff'] = pandas_dataframe['Close'] - pandas_dataframe['open']\n"
      ],
      "execution_count": null,
      "outputs": []
    },
    {
      "cell_type": "code",
      "metadata": {
        "colab": {
          "base_uri": "https://localhost:8080/",
          "height": 204
        },
        "id": "Jw39k8N29ODW",
        "outputId": "6347d10a-eabd-472b-c9b3-8c3e37fd67aa"
      },
      "source": [
        "pandas_dataframe.head()"
      ],
      "execution_count": null,
      "outputs": [
        {
          "output_type": "execute_result",
          "data": {
            "text/html": [
              "<div>\n",
              "<style scoped>\n",
              "    .dataframe tbody tr th:only-of-type {\n",
              "        vertical-align: middle;\n",
              "    }\n",
              "\n",
              "    .dataframe tbody tr th {\n",
              "        vertical-align: top;\n",
              "    }\n",
              "\n",
              "    .dataframe thead th {\n",
              "        text-align: right;\n",
              "    }\n",
              "</style>\n",
              "<table border=\"1\" class=\"dataframe\">\n",
              "  <thead>\n",
              "    <tr style=\"text-align: right;\">\n",
              "      <th></th>\n",
              "      <th>Date</th>\n",
              "      <th>open</th>\n",
              "      <th>High</th>\n",
              "      <th>Low</th>\n",
              "      <th>Close</th>\n",
              "      <th>Volume</th>\n",
              "      <th>AdjOpen</th>\n",
              "      <th>AdjHigh</th>\n",
              "      <th>AdjLow</th>\n",
              "      <th>AdjClose</th>\n",
              "      <th>AdjVolume</th>\n",
              "      <th>Symbol</th>\n",
              "      <th>diff</th>\n",
              "      <th>open_scaled</th>\n",
              "    </tr>\n",
              "  </thead>\n",
              "  <tbody>\n",
              "    <tr>\n",
              "      <th>0</th>\n",
              "      <td>2018-03-27</td>\n",
              "      <td>173.68</td>\n",
              "      <td>175.15</td>\n",
              "      <td>166.92</td>\n",
              "      <td>168.340</td>\n",
              "      <td>38962839.0</td>\n",
              "      <td>173.68</td>\n",
              "      <td>175.15</td>\n",
              "      <td>166.92</td>\n",
              "      <td>168.340</td>\n",
              "      <td>38962839.0</td>\n",
              "      <td>AAPL</td>\n",
              "      <td>-5.340</td>\n",
              "      <td>0.130467</td>\n",
              "    </tr>\n",
              "    <tr>\n",
              "      <th>1</th>\n",
              "      <td>2018-03-26</td>\n",
              "      <td>168.07</td>\n",
              "      <td>173.10</td>\n",
              "      <td>166.44</td>\n",
              "      <td>172.770</td>\n",
              "      <td>36272617.0</td>\n",
              "      <td>168.07</td>\n",
              "      <td>173.10</td>\n",
              "      <td>166.44</td>\n",
              "      <td>172.770</td>\n",
              "      <td>36272617.0</td>\n",
              "      <td>AAPL</td>\n",
              "      <td>4.700</td>\n",
              "      <td>0.125606</td>\n",
              "    </tr>\n",
              "    <tr>\n",
              "      <th>2</th>\n",
              "      <td>2018-03-23</td>\n",
              "      <td>168.39</td>\n",
              "      <td>169.92</td>\n",
              "      <td>164.94</td>\n",
              "      <td>164.940</td>\n",
              "      <td>40248954.0</td>\n",
              "      <td>168.39</td>\n",
              "      <td>169.92</td>\n",
              "      <td>164.94</td>\n",
              "      <td>164.940</td>\n",
              "      <td>40248954.0</td>\n",
              "      <td>AAPL</td>\n",
              "      <td>-3.450</td>\n",
              "      <td>0.125884</td>\n",
              "    </tr>\n",
              "    <tr>\n",
              "      <th>3</th>\n",
              "      <td>2018-03-22</td>\n",
              "      <td>170.00</td>\n",
              "      <td>172.68</td>\n",
              "      <td>168.60</td>\n",
              "      <td>168.845</td>\n",
              "      <td>41051076.0</td>\n",
              "      <td>170.00</td>\n",
              "      <td>172.68</td>\n",
              "      <td>168.60</td>\n",
              "      <td>168.845</td>\n",
              "      <td>41051076.0</td>\n",
              "      <td>AAPL</td>\n",
              "      <td>-1.155</td>\n",
              "      <td>0.127279</td>\n",
              "    </tr>\n",
              "    <tr>\n",
              "      <th>4</th>\n",
              "      <td>2018-03-21</td>\n",
              "      <td>175.04</td>\n",
              "      <td>175.09</td>\n",
              "      <td>171.26</td>\n",
              "      <td>171.270</td>\n",
              "      <td>35247358.0</td>\n",
              "      <td>175.04</td>\n",
              "      <td>175.09</td>\n",
              "      <td>171.26</td>\n",
              "      <td>171.270</td>\n",
              "      <td>35247358.0</td>\n",
              "      <td>AAPL</td>\n",
              "      <td>-3.770</td>\n",
              "      <td>0.131645</td>\n",
              "    </tr>\n",
              "  </tbody>\n",
              "</table>\n",
              "</div>"
            ],
            "text/plain": [
              "         Date    open    High     Low  ...   AdjVolume  Symbol   diff  open_scaled\n",
              "0  2018-03-27  173.68  175.15  166.92  ...  38962839.0    AAPL -5.340     0.130467\n",
              "1  2018-03-26  168.07  173.10  166.44  ...  36272617.0    AAPL  4.700     0.125606\n",
              "2  2018-03-23  168.39  169.92  164.94  ...  40248954.0    AAPL -3.450     0.125884\n",
              "3  2018-03-22  170.00  172.68  168.60  ...  41051076.0    AAPL -1.155     0.127279\n",
              "4  2018-03-21  175.04  175.09  171.26  ...  35247358.0    AAPL -3.770     0.131645\n",
              "\n",
              "[5 rows x 14 columns]"
            ]
          },
          "metadata": {
            "tags": []
          },
          "execution_count": 129
        }
      ]
    },
    {
      "cell_type": "markdown",
      "metadata": {
        "id": "HOgwKNY880Ft"
      },
      "source": [
        "### In Spark"
      ]
    },
    {
      "cell_type": "code",
      "metadata": {
        "id": "Vo80dY7z81xo"
      },
      "source": [
        "from pyspark.sql.functions import col\n",
        "spark_dataframe = spark_dataframe.withColumn(\"diff\", col(\"close\") - col(\"Open\"))"
      ],
      "execution_count": null,
      "outputs": []
    },
    {
      "cell_type": "code",
      "metadata": {
        "colab": {
          "base_uri": "https://localhost:8080/"
        },
        "id": "9snyxcey9T75",
        "outputId": "222669d6-3efa-4d09-b0ed-4bb64aca143c"
      },
      "source": [
        "spark_dataframe.show(5)"
      ],
      "execution_count": null,
      "outputs": [
        {
          "output_type": "stream",
          "text": [
            "+----------+------+------+------+-------+-----------+-------+-------+------+--------+-----------+------+-------------------+-----------+-----------+-----------+\n",
            "|      Date|  Open|  High|   Low|  close|     Volume|AdjOpen|AdjHigh|AdjLow|AdjClose|  AdjVolume|Symbol|               diff|Symbol_AAPL|Symbol_GOOG|Symbol_MSFT|\n",
            "+----------+------+------+------+-------+-----------+-------+-------+------+--------+-----------+------+-------------------+-----------+-----------+-----------+\n",
            "|2018-03-27|173.68|175.15|166.92| 168.34|3.8962839E7| 173.68| 175.15|166.92|  168.34|3.8962839E7|  AAPL| -5.340000000000003|          1|          0|          0|\n",
            "|2018-03-26|168.07| 173.1|166.44| 172.77|3.6272617E7| 168.07|  173.1|166.44|  172.77|3.6272617E7|  AAPL|  4.700000000000017|          1|          0|          0|\n",
            "|2018-03-23|168.39|169.92|164.94| 164.94|4.0248954E7| 168.39| 169.92|164.94|  164.94|4.0248954E7|  AAPL|-3.4499999999999886|          1|          0|          0|\n",
            "|2018-03-22| 170.0|172.68| 168.6|168.845|4.1051076E7|  170.0| 172.68| 168.6| 168.845|4.1051076E7|  AAPL|-1.1550000000000011|          1|          0|          0|\n",
            "|2018-03-21|175.04|175.09|171.26| 171.27|3.5247358E7| 175.04| 175.09|171.26|  171.27|3.5247358E7|  AAPL| -3.769999999999982|          1|          0|          0|\n",
            "+----------+------+------+------+-------+-----------+-------+-------+------+--------+-----------+------+-------------------+-----------+-----------+-----------+\n",
            "only showing top 5 rows\n",
            "\n"
          ],
          "name": "stdout"
        }
      ]
    },
    {
      "cell_type": "markdown",
      "metadata": {
        "id": "HDHo9Y649t7Q"
      },
      "source": [
        "# Removing unwanted features"
      ]
    },
    {
      "cell_type": "markdown",
      "metadata": {
        "id": "Ax95PNe190bW"
      },
      "source": [
        "### In Pandas"
      ]
    },
    {
      "cell_type": "code",
      "metadata": {
        "id": "0jYDyIjd9W_x"
      },
      "source": [
        "pandas_dataframe = pandas_dataframe.drop(['ExDividend', 'SplitRatio'], axis=1)\n"
      ],
      "execution_count": null,
      "outputs": []
    },
    {
      "cell_type": "code",
      "metadata": {
        "colab": {
          "base_uri": "https://localhost:8080/",
          "height": 204
        },
        "id": "Ldlr6aPf-Pz2",
        "outputId": "67c9e56d-e288-4413-f342-dd8db9d7d3a6"
      },
      "source": [
        "pandas_dataframe.head()"
      ],
      "execution_count": null,
      "outputs": [
        {
          "output_type": "execute_result",
          "data": {
            "text/html": [
              "<div>\n",
              "<style scoped>\n",
              "    .dataframe tbody tr th:only-of-type {\n",
              "        vertical-align: middle;\n",
              "    }\n",
              "\n",
              "    .dataframe tbody tr th {\n",
              "        vertical-align: top;\n",
              "    }\n",
              "\n",
              "    .dataframe thead th {\n",
              "        text-align: right;\n",
              "    }\n",
              "</style>\n",
              "<table border=\"1\" class=\"dataframe\">\n",
              "  <thead>\n",
              "    <tr style=\"text-align: right;\">\n",
              "      <th></th>\n",
              "      <th>Date</th>\n",
              "      <th>open</th>\n",
              "      <th>High</th>\n",
              "      <th>Low</th>\n",
              "      <th>Close</th>\n",
              "      <th>Volume</th>\n",
              "      <th>AdjOpen</th>\n",
              "      <th>AdjHigh</th>\n",
              "      <th>AdjLow</th>\n",
              "      <th>AdjClose</th>\n",
              "      <th>AdjVolume</th>\n",
              "      <th>Symbol</th>\n",
              "      <th>diff</th>\n",
              "    </tr>\n",
              "  </thead>\n",
              "  <tbody>\n",
              "    <tr>\n",
              "      <th>0</th>\n",
              "      <td>2018-03-27</td>\n",
              "      <td>173.68</td>\n",
              "      <td>175.15</td>\n",
              "      <td>166.92</td>\n",
              "      <td>168.340</td>\n",
              "      <td>38962839.0</td>\n",
              "      <td>173.68</td>\n",
              "      <td>175.15</td>\n",
              "      <td>166.92</td>\n",
              "      <td>168.340</td>\n",
              "      <td>38962839.0</td>\n",
              "      <td>AAPL</td>\n",
              "      <td>342.020</td>\n",
              "    </tr>\n",
              "    <tr>\n",
              "      <th>1</th>\n",
              "      <td>2018-03-26</td>\n",
              "      <td>168.07</td>\n",
              "      <td>173.10</td>\n",
              "      <td>166.44</td>\n",
              "      <td>172.770</td>\n",
              "      <td>36272617.0</td>\n",
              "      <td>168.07</td>\n",
              "      <td>173.10</td>\n",
              "      <td>166.44</td>\n",
              "      <td>172.770</td>\n",
              "      <td>36272617.0</td>\n",
              "      <td>AAPL</td>\n",
              "      <td>340.840</td>\n",
              "    </tr>\n",
              "    <tr>\n",
              "      <th>2</th>\n",
              "      <td>2018-03-23</td>\n",
              "      <td>168.39</td>\n",
              "      <td>169.92</td>\n",
              "      <td>164.94</td>\n",
              "      <td>164.940</td>\n",
              "      <td>40248954.0</td>\n",
              "      <td>168.39</td>\n",
              "      <td>169.92</td>\n",
              "      <td>164.94</td>\n",
              "      <td>164.940</td>\n",
              "      <td>40248954.0</td>\n",
              "      <td>AAPL</td>\n",
              "      <td>333.330</td>\n",
              "    </tr>\n",
              "    <tr>\n",
              "      <th>3</th>\n",
              "      <td>2018-03-22</td>\n",
              "      <td>170.00</td>\n",
              "      <td>172.68</td>\n",
              "      <td>168.60</td>\n",
              "      <td>168.845</td>\n",
              "      <td>41051076.0</td>\n",
              "      <td>170.00</td>\n",
              "      <td>172.68</td>\n",
              "      <td>168.60</td>\n",
              "      <td>168.845</td>\n",
              "      <td>41051076.0</td>\n",
              "      <td>AAPL</td>\n",
              "      <td>338.845</td>\n",
              "    </tr>\n",
              "    <tr>\n",
              "      <th>4</th>\n",
              "      <td>2018-03-21</td>\n",
              "      <td>175.04</td>\n",
              "      <td>175.09</td>\n",
              "      <td>171.26</td>\n",
              "      <td>171.270</td>\n",
              "      <td>35247358.0</td>\n",
              "      <td>175.04</td>\n",
              "      <td>175.09</td>\n",
              "      <td>171.26</td>\n",
              "      <td>171.270</td>\n",
              "      <td>35247358.0</td>\n",
              "      <td>AAPL</td>\n",
              "      <td>346.310</td>\n",
              "    </tr>\n",
              "  </tbody>\n",
              "</table>\n",
              "</div>"
            ],
            "text/plain": [
              "         Date    open    High     Low  ...  AdjClose   AdjVolume  Symbol     diff\n",
              "0  2018-03-27  173.68  175.15  166.92  ...   168.340  38962839.0    AAPL  342.020\n",
              "1  2018-03-26  168.07  173.10  166.44  ...   172.770  36272617.0    AAPL  340.840\n",
              "2  2018-03-23  168.39  169.92  164.94  ...   164.940  40248954.0    AAPL  333.330\n",
              "3  2018-03-22  170.00  172.68  168.60  ...   168.845  41051076.0    AAPL  338.845\n",
              "4  2018-03-21  175.04  175.09  171.26  ...   171.270  35247358.0    AAPL  346.310\n",
              "\n",
              "[5 rows x 13 columns]"
            ]
          },
          "metadata": {
            "tags": []
          },
          "execution_count": 114
        }
      ]
    },
    {
      "cell_type": "markdown",
      "metadata": {
        "id": "p3fazEHA93pP"
      },
      "source": [
        "### In Spark"
      ]
    },
    {
      "cell_type": "code",
      "metadata": {
        "id": "IW5iUMLd96MV"
      },
      "source": [
        "spark_dataframe = spark_dataframe.drop('ExDividend', 'SplitRatio')"
      ],
      "execution_count": null,
      "outputs": []
    },
    {
      "cell_type": "code",
      "metadata": {
        "colab": {
          "base_uri": "https://localhost:8080/"
        },
        "id": "3SaNYHx5-TFG",
        "outputId": "90bbe047-7e9a-4375-bb6c-0d16165cb798"
      },
      "source": [
        "spark_dataframe.show(5)"
      ],
      "execution_count": null,
      "outputs": [
        {
          "output_type": "stream",
          "text": [
            "+----------+------+------+------+-------+-----------+-------+-------+------+--------+-----------+------+------------------+\n",
            "|      Date|  Open|  High|   Low|  close|     Volume|AdjOpen|AdjHigh|AdjLow|AdjClose|  AdjVolume|Symbol|              diff|\n",
            "+----------+------+------+------+-------+-----------+-------+-------+------+--------+-----------+------+------------------+\n",
            "|2018-03-27|173.68|175.15|166.92| 168.34|3.8962839E7| 173.68| 175.15|166.92|  168.34|3.8962839E7|  AAPL|            342.02|\n",
            "|2018-03-26|168.07| 173.1|166.44| 172.77|3.6272617E7| 168.07|  173.1|166.44|  172.77|3.6272617E7|  AAPL|340.84000000000003|\n",
            "|2018-03-23|168.39|169.92|164.94| 164.94|4.0248954E7| 168.39| 169.92|164.94|  164.94|4.0248954E7|  AAPL|            333.33|\n",
            "|2018-03-22| 170.0|172.68| 168.6|168.845|4.1051076E7|  170.0| 172.68| 168.6| 168.845|4.1051076E7|  AAPL|           338.845|\n",
            "|2018-03-21|175.04|175.09|171.26| 171.27|3.5247358E7| 175.04| 175.09|171.26|  171.27|3.5247358E7|  AAPL|            346.31|\n",
            "+----------+------+------+------+-------+-----------+-------+-------+------+--------+-----------+------+------------------+\n",
            "only showing top 5 rows\n",
            "\n"
          ],
          "name": "stdout"
        }
      ]
    },
    {
      "cell_type": "markdown",
      "metadata": {
        "id": "x6JhE7pD-m-u"
      },
      "source": [
        "### Feature Scaling"
      ]
    },
    {
      "cell_type": "markdown",
      "metadata": {
        "id": "uT1mhtwdA4k0"
      },
      "source": [
        "### In Pandas"
      ]
    },
    {
      "cell_type": "code",
      "metadata": {
        "id": "qbr9mzdyA33m"
      },
      "source": [
        "from sklearn.preprocessing import MinMaxScaler"
      ],
      "execution_count": null,
      "outputs": []
    },
    {
      "cell_type": "code",
      "metadata": {
        "id": "q9AS-yBdA3fG"
      },
      "source": [
        "scaler = MinMaxScaler()"
      ],
      "execution_count": null,
      "outputs": []
    },
    {
      "cell_type": "code",
      "metadata": {
        "id": "b3yn-xq5BCAk"
      },
      "source": [
        "pandas_dataframe['open_scaled'] = scaler.fit_transform(pandas_dataframe['open'].values.reshape(-1,1))"
      ],
      "execution_count": null,
      "outputs": []
    },
    {
      "cell_type": "code",
      "metadata": {
        "colab": {
          "base_uri": "https://localhost:8080/",
          "height": 204
        },
        "id": "A-_97njOBBrB",
        "outputId": "dfc6b53f-a9e0-4606-c749-343fec34fa20"
      },
      "source": [
        "pandas_dataframe.head()"
      ],
      "execution_count": null,
      "outputs": [
        {
          "output_type": "execute_result",
          "data": {
            "text/html": [
              "<div>\n",
              "<style scoped>\n",
              "    .dataframe tbody tr th:only-of-type {\n",
              "        vertical-align: middle;\n",
              "    }\n",
              "\n",
              "    .dataframe tbody tr th {\n",
              "        vertical-align: top;\n",
              "    }\n",
              "\n",
              "    .dataframe thead th {\n",
              "        text-align: right;\n",
              "    }\n",
              "</style>\n",
              "<table border=\"1\" class=\"dataframe\">\n",
              "  <thead>\n",
              "    <tr style=\"text-align: right;\">\n",
              "      <th></th>\n",
              "      <th>Date</th>\n",
              "      <th>open</th>\n",
              "      <th>High</th>\n",
              "      <th>Low</th>\n",
              "      <th>Close</th>\n",
              "      <th>Volume</th>\n",
              "      <th>AdjOpen</th>\n",
              "      <th>AdjHigh</th>\n",
              "      <th>AdjLow</th>\n",
              "      <th>AdjClose</th>\n",
              "      <th>AdjVolume</th>\n",
              "      <th>Symbol</th>\n",
              "      <th>diff</th>\n",
              "      <th>open_scaled</th>\n",
              "    </tr>\n",
              "  </thead>\n",
              "  <tbody>\n",
              "    <tr>\n",
              "      <th>0</th>\n",
              "      <td>2018-03-27</td>\n",
              "      <td>173.68</td>\n",
              "      <td>175.15</td>\n",
              "      <td>166.92</td>\n",
              "      <td>168.340</td>\n",
              "      <td>38962839.0</td>\n",
              "      <td>173.68</td>\n",
              "      <td>175.15</td>\n",
              "      <td>166.92</td>\n",
              "      <td>168.340</td>\n",
              "      <td>38962839.0</td>\n",
              "      <td>AAPL</td>\n",
              "      <td>342.020</td>\n",
              "      <td>0.130467</td>\n",
              "    </tr>\n",
              "    <tr>\n",
              "      <th>1</th>\n",
              "      <td>2018-03-26</td>\n",
              "      <td>168.07</td>\n",
              "      <td>173.10</td>\n",
              "      <td>166.44</td>\n",
              "      <td>172.770</td>\n",
              "      <td>36272617.0</td>\n",
              "      <td>168.07</td>\n",
              "      <td>173.10</td>\n",
              "      <td>166.44</td>\n",
              "      <td>172.770</td>\n",
              "      <td>36272617.0</td>\n",
              "      <td>AAPL</td>\n",
              "      <td>340.840</td>\n",
              "      <td>0.125606</td>\n",
              "    </tr>\n",
              "    <tr>\n",
              "      <th>2</th>\n",
              "      <td>2018-03-23</td>\n",
              "      <td>168.39</td>\n",
              "      <td>169.92</td>\n",
              "      <td>164.94</td>\n",
              "      <td>164.940</td>\n",
              "      <td>40248954.0</td>\n",
              "      <td>168.39</td>\n",
              "      <td>169.92</td>\n",
              "      <td>164.94</td>\n",
              "      <td>164.940</td>\n",
              "      <td>40248954.0</td>\n",
              "      <td>AAPL</td>\n",
              "      <td>333.330</td>\n",
              "      <td>0.125884</td>\n",
              "    </tr>\n",
              "    <tr>\n",
              "      <th>3</th>\n",
              "      <td>2018-03-22</td>\n",
              "      <td>170.00</td>\n",
              "      <td>172.68</td>\n",
              "      <td>168.60</td>\n",
              "      <td>168.845</td>\n",
              "      <td>41051076.0</td>\n",
              "      <td>170.00</td>\n",
              "      <td>172.68</td>\n",
              "      <td>168.60</td>\n",
              "      <td>168.845</td>\n",
              "      <td>41051076.0</td>\n",
              "      <td>AAPL</td>\n",
              "      <td>338.845</td>\n",
              "      <td>0.127279</td>\n",
              "    </tr>\n",
              "    <tr>\n",
              "      <th>4</th>\n",
              "      <td>2018-03-21</td>\n",
              "      <td>175.04</td>\n",
              "      <td>175.09</td>\n",
              "      <td>171.26</td>\n",
              "      <td>171.270</td>\n",
              "      <td>35247358.0</td>\n",
              "      <td>175.04</td>\n",
              "      <td>175.09</td>\n",
              "      <td>171.26</td>\n",
              "      <td>171.270</td>\n",
              "      <td>35247358.0</td>\n",
              "      <td>AAPL</td>\n",
              "      <td>346.310</td>\n",
              "      <td>0.131645</td>\n",
              "    </tr>\n",
              "  </tbody>\n",
              "</table>\n",
              "</div>"
            ],
            "text/plain": [
              "         Date    open    High     Low  ...   AdjVolume  Symbol     diff  open_scaled\n",
              "0  2018-03-27  173.68  175.15  166.92  ...  38962839.0    AAPL  342.020     0.130467\n",
              "1  2018-03-26  168.07  173.10  166.44  ...  36272617.0    AAPL  340.840     0.125606\n",
              "2  2018-03-23  168.39  169.92  164.94  ...  40248954.0    AAPL  333.330     0.125884\n",
              "3  2018-03-22  170.00  172.68  168.60  ...  41051076.0    AAPL  338.845     0.127279\n",
              "4  2018-03-21  175.04  175.09  171.26  ...  35247358.0    AAPL  346.310     0.131645\n",
              "\n",
              "[5 rows x 14 columns]"
            ]
          },
          "metadata": {
            "tags": []
          },
          "execution_count": 120
        }
      ]
    },
    {
      "cell_type": "code",
      "metadata": {
        "id": "kmdgZK5M-aKO"
      },
      "source": [
        "from pyspark.ml.feature import MinMaxScaler\n",
        "from pyspark.ml import Pipeline\n",
        "from pyspark.ml.feature import VectorAssembler\n",
        "\n"
      ],
      "execution_count": null,
      "outputs": []
    },
    {
      "cell_type": "code",
      "metadata": {
        "id": "SzvWg9z2AIhy"
      },
      "source": [
        "# VectorAssembler Transformation - Converting column to vector type\n",
        "assembler = VectorAssembler(inputCols=['Open'], outputCol=\"open_vec\")\n",
        "scaler = MinMaxScaler(inputCol=\"open_vec\", outputCol=\"open_scaled\")\n",
        "# Pipeline of VectorAssembler and MinMaxScaler\n",
        "pipeline = Pipeline(stages=[assembler, scaler])\n",
        "# Fitting pipeline on dataframe\n",
        "spark_df_scaled = pipeline.fit(spark_dataframe).transform(spark_dataframe).drop(\"open_vec\")"
      ],
      "execution_count": null,
      "outputs": []
    },
    {
      "cell_type": "code",
      "metadata": {
        "colab": {
          "base_uri": "https://localhost:8080/"
        },
        "id": "NufKEuI3_xGP",
        "outputId": "6f3f80b1-380e-476f-c387-33ae122d7be3"
      },
      "source": [
        "spark_df_scaled.show(5)"
      ],
      "execution_count": null,
      "outputs": [
        {
          "output_type": "stream",
          "text": [
            "+----------+------+------+------+-------+-----------+-------+-------+------+--------+-----------+------+------------------+--------------------+\n",
            "|      Date|  Open|  High|   Low|  close|     Volume|AdjOpen|AdjHigh|AdjLow|AdjClose|  AdjVolume|Symbol|              diff|         open_scaled|\n",
            "+----------+------+------+------+-------+-----------+-------+-------+------+--------+-----------+------+------------------+--------------------+\n",
            "|2018-03-27|173.68|175.15|166.92| 168.34|3.8962839E7| 173.68| 175.15|166.92|  168.34|3.8962839E7|  AAPL|            342.02|[0.1304668006653729]|\n",
            "|2018-03-26|168.07| 173.1|166.44| 172.77|3.6272617E7| 168.07|  173.1|166.44|  172.77|3.6272617E7|  AAPL|340.84000000000003|[0.12560645966176...|\n",
            "|2018-03-23|168.39|169.92|164.94| 164.94|4.0248954E7| 168.39| 169.92|164.94|  164.94|4.0248954E7|  AAPL|            333.33|[0.12588369836429...|\n",
            "|2018-03-22| 170.0|172.68| 168.6|168.845|4.1051076E7|  170.0| 172.68| 168.6| 168.845|4.1051076E7|  AAPL|           338.845|[0.12727855558635...|\n",
            "|2018-03-21|175.04|175.09|171.26| 171.27|3.5247358E7| 175.04| 175.09|171.26|  171.27|3.5247358E7|  AAPL|            346.31|[0.1316450651510951]|\n",
            "+----------+------+------+------+-------+-----------+-------+-------+------+--------+-----------+------+------------------+--------------------+\n",
            "only showing top 5 rows\n",
            "\n"
          ],
          "name": "stdout"
        }
      ]
    },
    {
      "cell_type": "markdown",
      "metadata": {
        "id": "HBbMq76fB7As"
      },
      "source": [
        "#One Hot Encoding"
      ]
    },
    {
      "cell_type": "markdown",
      "metadata": {
        "id": "VYtxmKYICASZ"
      },
      "source": [
        "###In Pandas"
      ]
    },
    {
      "cell_type": "code",
      "metadata": {
        "id": "JQX2b9Ya_3Ea"
      },
      "source": [
        "pandas_dataframe_ohe = pd.get_dummies(pandas_dataframe)"
      ],
      "execution_count": null,
      "outputs": []
    },
    {
      "cell_type": "code",
      "metadata": {
        "colab": {
          "base_uri": "https://localhost:8080/",
          "height": 270
        },
        "id": "VyVmLYaFCKaS",
        "outputId": "b8a40704-68d0-4e6b-d88b-283634e6345e"
      },
      "source": [
        "pandas_dataframe_ohe.head()"
      ],
      "execution_count": null,
      "outputs": [
        {
          "output_type": "execute_result",
          "data": {
            "text/html": [
              "<div>\n",
              "<style scoped>\n",
              "    .dataframe tbody tr th:only-of-type {\n",
              "        vertical-align: middle;\n",
              "    }\n",
              "\n",
              "    .dataframe tbody tr th {\n",
              "        vertical-align: top;\n",
              "    }\n",
              "\n",
              "    .dataframe thead th {\n",
              "        text-align: right;\n",
              "    }\n",
              "</style>\n",
              "<table border=\"1\" class=\"dataframe\">\n",
              "  <thead>\n",
              "    <tr style=\"text-align: right;\">\n",
              "      <th></th>\n",
              "      <th>open</th>\n",
              "      <th>High</th>\n",
              "      <th>Low</th>\n",
              "      <th>Close</th>\n",
              "      <th>Volume</th>\n",
              "      <th>AdjOpen</th>\n",
              "      <th>AdjHigh</th>\n",
              "      <th>AdjLow</th>\n",
              "      <th>AdjClose</th>\n",
              "      <th>AdjVolume</th>\n",
              "      <th>diff</th>\n",
              "      <th>open_scaled</th>\n",
              "      <th>Date_2010-01-04</th>\n",
              "      <th>Date_2010-01-05</th>\n",
              "      <th>Date_2010-01-06</th>\n",
              "      <th>Date_2010-01-07</th>\n",
              "      <th>Date_2010-01-08</th>\n",
              "      <th>Date_2010-01-11</th>\n",
              "      <th>Date_2010-01-12</th>\n",
              "      <th>Date_2010-01-13</th>\n",
              "      <th>Date_2010-01-14</th>\n",
              "      <th>Date_2010-01-15</th>\n",
              "      <th>Date_2010-01-19</th>\n",
              "      <th>Date_2010-01-20</th>\n",
              "      <th>Date_2010-01-21</th>\n",
              "      <th>Date_2010-01-22</th>\n",
              "      <th>Date_2010-01-25</th>\n",
              "      <th>Date_2010-01-26</th>\n",
              "      <th>Date_2010-01-27</th>\n",
              "      <th>Date_2010-01-28</th>\n",
              "      <th>Date_2010-01-29</th>\n",
              "      <th>Date_2010-02-01</th>\n",
              "      <th>Date_2010-02-02</th>\n",
              "      <th>Date_2010-02-03</th>\n",
              "      <th>Date_2010-02-04</th>\n",
              "      <th>Date_2010-02-05</th>\n",
              "      <th>Date_2010-02-08</th>\n",
              "      <th>Date_2010-02-09</th>\n",
              "      <th>Date_2010-02-10</th>\n",
              "      <th>Date_2010-02-11</th>\n",
              "      <th>...</th>\n",
              "      <th>Date_2018-02-02</th>\n",
              "      <th>Date_2018-02-05</th>\n",
              "      <th>Date_2018-02-06</th>\n",
              "      <th>Date_2018-02-07</th>\n",
              "      <th>Date_2018-02-08</th>\n",
              "      <th>Date_2018-02-09</th>\n",
              "      <th>Date_2018-02-12</th>\n",
              "      <th>Date_2018-02-13</th>\n",
              "      <th>Date_2018-02-14</th>\n",
              "      <th>Date_2018-02-15</th>\n",
              "      <th>Date_2018-02-16</th>\n",
              "      <th>Date_2018-02-20</th>\n",
              "      <th>Date_2018-02-21</th>\n",
              "      <th>Date_2018-02-22</th>\n",
              "      <th>Date_2018-02-23</th>\n",
              "      <th>Date_2018-02-26</th>\n",
              "      <th>Date_2018-02-27</th>\n",
              "      <th>Date_2018-02-28</th>\n",
              "      <th>Date_2018-03-01</th>\n",
              "      <th>Date_2018-03-02</th>\n",
              "      <th>Date_2018-03-05</th>\n",
              "      <th>Date_2018-03-06</th>\n",
              "      <th>Date_2018-03-07</th>\n",
              "      <th>Date_2018-03-08</th>\n",
              "      <th>Date_2018-03-09</th>\n",
              "      <th>Date_2018-03-12</th>\n",
              "      <th>Date_2018-03-13</th>\n",
              "      <th>Date_2018-03-14</th>\n",
              "      <th>Date_2018-03-15</th>\n",
              "      <th>Date_2018-03-16</th>\n",
              "      <th>Date_2018-03-19</th>\n",
              "      <th>Date_2018-03-20</th>\n",
              "      <th>Date_2018-03-21</th>\n",
              "      <th>Date_2018-03-22</th>\n",
              "      <th>Date_2018-03-23</th>\n",
              "      <th>Date_2018-03-26</th>\n",
              "      <th>Date_2018-03-27</th>\n",
              "      <th>Symbol_AAPL</th>\n",
              "      <th>Symbol_GOOG</th>\n",
              "      <th>Symbol_MSFT</th>\n",
              "    </tr>\n",
              "  </thead>\n",
              "  <tbody>\n",
              "    <tr>\n",
              "      <th>0</th>\n",
              "      <td>173.68</td>\n",
              "      <td>175.15</td>\n",
              "      <td>166.92</td>\n",
              "      <td>168.340</td>\n",
              "      <td>38962839.0</td>\n",
              "      <td>173.68</td>\n",
              "      <td>175.15</td>\n",
              "      <td>166.92</td>\n",
              "      <td>168.340</td>\n",
              "      <td>38962839.0</td>\n",
              "      <td>342.020</td>\n",
              "      <td>0.130467</td>\n",
              "      <td>0</td>\n",
              "      <td>0</td>\n",
              "      <td>0</td>\n",
              "      <td>0</td>\n",
              "      <td>0</td>\n",
              "      <td>0</td>\n",
              "      <td>0</td>\n",
              "      <td>0</td>\n",
              "      <td>0</td>\n",
              "      <td>0</td>\n",
              "      <td>0</td>\n",
              "      <td>0</td>\n",
              "      <td>0</td>\n",
              "      <td>0</td>\n",
              "      <td>0</td>\n",
              "      <td>0</td>\n",
              "      <td>0</td>\n",
              "      <td>0</td>\n",
              "      <td>0</td>\n",
              "      <td>0</td>\n",
              "      <td>0</td>\n",
              "      <td>0</td>\n",
              "      <td>0</td>\n",
              "      <td>0</td>\n",
              "      <td>0</td>\n",
              "      <td>0</td>\n",
              "      <td>0</td>\n",
              "      <td>0</td>\n",
              "      <td>...</td>\n",
              "      <td>0</td>\n",
              "      <td>0</td>\n",
              "      <td>0</td>\n",
              "      <td>0</td>\n",
              "      <td>0</td>\n",
              "      <td>0</td>\n",
              "      <td>0</td>\n",
              "      <td>0</td>\n",
              "      <td>0</td>\n",
              "      <td>0</td>\n",
              "      <td>0</td>\n",
              "      <td>0</td>\n",
              "      <td>0</td>\n",
              "      <td>0</td>\n",
              "      <td>0</td>\n",
              "      <td>0</td>\n",
              "      <td>0</td>\n",
              "      <td>0</td>\n",
              "      <td>0</td>\n",
              "      <td>0</td>\n",
              "      <td>0</td>\n",
              "      <td>0</td>\n",
              "      <td>0</td>\n",
              "      <td>0</td>\n",
              "      <td>0</td>\n",
              "      <td>0</td>\n",
              "      <td>0</td>\n",
              "      <td>0</td>\n",
              "      <td>0</td>\n",
              "      <td>0</td>\n",
              "      <td>0</td>\n",
              "      <td>0</td>\n",
              "      <td>0</td>\n",
              "      <td>0</td>\n",
              "      <td>0</td>\n",
              "      <td>0</td>\n",
              "      <td>1</td>\n",
              "      <td>1</td>\n",
              "      <td>0</td>\n",
              "      <td>0</td>\n",
              "    </tr>\n",
              "    <tr>\n",
              "      <th>1</th>\n",
              "      <td>168.07</td>\n",
              "      <td>173.10</td>\n",
              "      <td>166.44</td>\n",
              "      <td>172.770</td>\n",
              "      <td>36272617.0</td>\n",
              "      <td>168.07</td>\n",
              "      <td>173.10</td>\n",
              "      <td>166.44</td>\n",
              "      <td>172.770</td>\n",
              "      <td>36272617.0</td>\n",
              "      <td>340.840</td>\n",
              "      <td>0.125606</td>\n",
              "      <td>0</td>\n",
              "      <td>0</td>\n",
              "      <td>0</td>\n",
              "      <td>0</td>\n",
              "      <td>0</td>\n",
              "      <td>0</td>\n",
              "      <td>0</td>\n",
              "      <td>0</td>\n",
              "      <td>0</td>\n",
              "      <td>0</td>\n",
              "      <td>0</td>\n",
              "      <td>0</td>\n",
              "      <td>0</td>\n",
              "      <td>0</td>\n",
              "      <td>0</td>\n",
              "      <td>0</td>\n",
              "      <td>0</td>\n",
              "      <td>0</td>\n",
              "      <td>0</td>\n",
              "      <td>0</td>\n",
              "      <td>0</td>\n",
              "      <td>0</td>\n",
              "      <td>0</td>\n",
              "      <td>0</td>\n",
              "      <td>0</td>\n",
              "      <td>0</td>\n",
              "      <td>0</td>\n",
              "      <td>0</td>\n",
              "      <td>...</td>\n",
              "      <td>0</td>\n",
              "      <td>0</td>\n",
              "      <td>0</td>\n",
              "      <td>0</td>\n",
              "      <td>0</td>\n",
              "      <td>0</td>\n",
              "      <td>0</td>\n",
              "      <td>0</td>\n",
              "      <td>0</td>\n",
              "      <td>0</td>\n",
              "      <td>0</td>\n",
              "      <td>0</td>\n",
              "      <td>0</td>\n",
              "      <td>0</td>\n",
              "      <td>0</td>\n",
              "      <td>0</td>\n",
              "      <td>0</td>\n",
              "      <td>0</td>\n",
              "      <td>0</td>\n",
              "      <td>0</td>\n",
              "      <td>0</td>\n",
              "      <td>0</td>\n",
              "      <td>0</td>\n",
              "      <td>0</td>\n",
              "      <td>0</td>\n",
              "      <td>0</td>\n",
              "      <td>0</td>\n",
              "      <td>0</td>\n",
              "      <td>0</td>\n",
              "      <td>0</td>\n",
              "      <td>0</td>\n",
              "      <td>0</td>\n",
              "      <td>0</td>\n",
              "      <td>0</td>\n",
              "      <td>0</td>\n",
              "      <td>1</td>\n",
              "      <td>0</td>\n",
              "      <td>1</td>\n",
              "      <td>0</td>\n",
              "      <td>0</td>\n",
              "    </tr>\n",
              "    <tr>\n",
              "      <th>2</th>\n",
              "      <td>168.39</td>\n",
              "      <td>169.92</td>\n",
              "      <td>164.94</td>\n",
              "      <td>164.940</td>\n",
              "      <td>40248954.0</td>\n",
              "      <td>168.39</td>\n",
              "      <td>169.92</td>\n",
              "      <td>164.94</td>\n",
              "      <td>164.940</td>\n",
              "      <td>40248954.0</td>\n",
              "      <td>333.330</td>\n",
              "      <td>0.125884</td>\n",
              "      <td>0</td>\n",
              "      <td>0</td>\n",
              "      <td>0</td>\n",
              "      <td>0</td>\n",
              "      <td>0</td>\n",
              "      <td>0</td>\n",
              "      <td>0</td>\n",
              "      <td>0</td>\n",
              "      <td>0</td>\n",
              "      <td>0</td>\n",
              "      <td>0</td>\n",
              "      <td>0</td>\n",
              "      <td>0</td>\n",
              "      <td>0</td>\n",
              "      <td>0</td>\n",
              "      <td>0</td>\n",
              "      <td>0</td>\n",
              "      <td>0</td>\n",
              "      <td>0</td>\n",
              "      <td>0</td>\n",
              "      <td>0</td>\n",
              "      <td>0</td>\n",
              "      <td>0</td>\n",
              "      <td>0</td>\n",
              "      <td>0</td>\n",
              "      <td>0</td>\n",
              "      <td>0</td>\n",
              "      <td>0</td>\n",
              "      <td>...</td>\n",
              "      <td>0</td>\n",
              "      <td>0</td>\n",
              "      <td>0</td>\n",
              "      <td>0</td>\n",
              "      <td>0</td>\n",
              "      <td>0</td>\n",
              "      <td>0</td>\n",
              "      <td>0</td>\n",
              "      <td>0</td>\n",
              "      <td>0</td>\n",
              "      <td>0</td>\n",
              "      <td>0</td>\n",
              "      <td>0</td>\n",
              "      <td>0</td>\n",
              "      <td>0</td>\n",
              "      <td>0</td>\n",
              "      <td>0</td>\n",
              "      <td>0</td>\n",
              "      <td>0</td>\n",
              "      <td>0</td>\n",
              "      <td>0</td>\n",
              "      <td>0</td>\n",
              "      <td>0</td>\n",
              "      <td>0</td>\n",
              "      <td>0</td>\n",
              "      <td>0</td>\n",
              "      <td>0</td>\n",
              "      <td>0</td>\n",
              "      <td>0</td>\n",
              "      <td>0</td>\n",
              "      <td>0</td>\n",
              "      <td>0</td>\n",
              "      <td>0</td>\n",
              "      <td>0</td>\n",
              "      <td>1</td>\n",
              "      <td>0</td>\n",
              "      <td>0</td>\n",
              "      <td>1</td>\n",
              "      <td>0</td>\n",
              "      <td>0</td>\n",
              "    </tr>\n",
              "    <tr>\n",
              "      <th>3</th>\n",
              "      <td>170.00</td>\n",
              "      <td>172.68</td>\n",
              "      <td>168.60</td>\n",
              "      <td>168.845</td>\n",
              "      <td>41051076.0</td>\n",
              "      <td>170.00</td>\n",
              "      <td>172.68</td>\n",
              "      <td>168.60</td>\n",
              "      <td>168.845</td>\n",
              "      <td>41051076.0</td>\n",
              "      <td>338.845</td>\n",
              "      <td>0.127279</td>\n",
              "      <td>0</td>\n",
              "      <td>0</td>\n",
              "      <td>0</td>\n",
              "      <td>0</td>\n",
              "      <td>0</td>\n",
              "      <td>0</td>\n",
              "      <td>0</td>\n",
              "      <td>0</td>\n",
              "      <td>0</td>\n",
              "      <td>0</td>\n",
              "      <td>0</td>\n",
              "      <td>0</td>\n",
              "      <td>0</td>\n",
              "      <td>0</td>\n",
              "      <td>0</td>\n",
              "      <td>0</td>\n",
              "      <td>0</td>\n",
              "      <td>0</td>\n",
              "      <td>0</td>\n",
              "      <td>0</td>\n",
              "      <td>0</td>\n",
              "      <td>0</td>\n",
              "      <td>0</td>\n",
              "      <td>0</td>\n",
              "      <td>0</td>\n",
              "      <td>0</td>\n",
              "      <td>0</td>\n",
              "      <td>0</td>\n",
              "      <td>...</td>\n",
              "      <td>0</td>\n",
              "      <td>0</td>\n",
              "      <td>0</td>\n",
              "      <td>0</td>\n",
              "      <td>0</td>\n",
              "      <td>0</td>\n",
              "      <td>0</td>\n",
              "      <td>0</td>\n",
              "      <td>0</td>\n",
              "      <td>0</td>\n",
              "      <td>0</td>\n",
              "      <td>0</td>\n",
              "      <td>0</td>\n",
              "      <td>0</td>\n",
              "      <td>0</td>\n",
              "      <td>0</td>\n",
              "      <td>0</td>\n",
              "      <td>0</td>\n",
              "      <td>0</td>\n",
              "      <td>0</td>\n",
              "      <td>0</td>\n",
              "      <td>0</td>\n",
              "      <td>0</td>\n",
              "      <td>0</td>\n",
              "      <td>0</td>\n",
              "      <td>0</td>\n",
              "      <td>0</td>\n",
              "      <td>0</td>\n",
              "      <td>0</td>\n",
              "      <td>0</td>\n",
              "      <td>0</td>\n",
              "      <td>0</td>\n",
              "      <td>0</td>\n",
              "      <td>1</td>\n",
              "      <td>0</td>\n",
              "      <td>0</td>\n",
              "      <td>0</td>\n",
              "      <td>1</td>\n",
              "      <td>0</td>\n",
              "      <td>0</td>\n",
              "    </tr>\n",
              "    <tr>\n",
              "      <th>4</th>\n",
              "      <td>175.04</td>\n",
              "      <td>175.09</td>\n",
              "      <td>171.26</td>\n",
              "      <td>171.270</td>\n",
              "      <td>35247358.0</td>\n",
              "      <td>175.04</td>\n",
              "      <td>175.09</td>\n",
              "      <td>171.26</td>\n",
              "      <td>171.270</td>\n",
              "      <td>35247358.0</td>\n",
              "      <td>346.310</td>\n",
              "      <td>0.131645</td>\n",
              "      <td>0</td>\n",
              "      <td>0</td>\n",
              "      <td>0</td>\n",
              "      <td>0</td>\n",
              "      <td>0</td>\n",
              "      <td>0</td>\n",
              "      <td>0</td>\n",
              "      <td>0</td>\n",
              "      <td>0</td>\n",
              "      <td>0</td>\n",
              "      <td>0</td>\n",
              "      <td>0</td>\n",
              "      <td>0</td>\n",
              "      <td>0</td>\n",
              "      <td>0</td>\n",
              "      <td>0</td>\n",
              "      <td>0</td>\n",
              "      <td>0</td>\n",
              "      <td>0</td>\n",
              "      <td>0</td>\n",
              "      <td>0</td>\n",
              "      <td>0</td>\n",
              "      <td>0</td>\n",
              "      <td>0</td>\n",
              "      <td>0</td>\n",
              "      <td>0</td>\n",
              "      <td>0</td>\n",
              "      <td>0</td>\n",
              "      <td>...</td>\n",
              "      <td>0</td>\n",
              "      <td>0</td>\n",
              "      <td>0</td>\n",
              "      <td>0</td>\n",
              "      <td>0</td>\n",
              "      <td>0</td>\n",
              "      <td>0</td>\n",
              "      <td>0</td>\n",
              "      <td>0</td>\n",
              "      <td>0</td>\n",
              "      <td>0</td>\n",
              "      <td>0</td>\n",
              "      <td>0</td>\n",
              "      <td>0</td>\n",
              "      <td>0</td>\n",
              "      <td>0</td>\n",
              "      <td>0</td>\n",
              "      <td>0</td>\n",
              "      <td>0</td>\n",
              "      <td>0</td>\n",
              "      <td>0</td>\n",
              "      <td>0</td>\n",
              "      <td>0</td>\n",
              "      <td>0</td>\n",
              "      <td>0</td>\n",
              "      <td>0</td>\n",
              "      <td>0</td>\n",
              "      <td>0</td>\n",
              "      <td>0</td>\n",
              "      <td>0</td>\n",
              "      <td>0</td>\n",
              "      <td>0</td>\n",
              "      <td>1</td>\n",
              "      <td>0</td>\n",
              "      <td>0</td>\n",
              "      <td>0</td>\n",
              "      <td>0</td>\n",
              "      <td>1</td>\n",
              "      <td>0</td>\n",
              "      <td>0</td>\n",
              "    </tr>\n",
              "  </tbody>\n",
              "</table>\n",
              "<p>5 rows × 2086 columns</p>\n",
              "</div>"
            ],
            "text/plain": [
              "     open    High     Low  ...  Symbol_AAPL  Symbol_GOOG  Symbol_MSFT\n",
              "0  173.68  175.15  166.92  ...            1            0            0\n",
              "1  168.07  173.10  166.44  ...            1            0            0\n",
              "2  168.39  169.92  164.94  ...            1            0            0\n",
              "3  170.00  172.68  168.60  ...            1            0            0\n",
              "4  175.04  175.09  171.26  ...            1            0            0\n",
              "\n",
              "[5 rows x 2086 columns]"
            ]
          },
          "metadata": {
            "tags": []
          },
          "execution_count": 125
        }
      ]
    },
    {
      "cell_type": "markdown",
      "metadata": {
        "id": "Ijipxi5dClrd"
      },
      "source": [
        "###In Spark\n"
      ]
    },
    {
      "cell_type": "code",
      "metadata": {
        "id": "s_aTCxayCPb7"
      },
      "source": [
        "from pyspark.sql.functions import udf,col\n",
        "from pyspark.sql.types import IntegerType\n",
        "\n",
        "categories = spark_dataframe.select('Symbol').distinct().rdd.flatMap(lambda x : x).collect()\n",
        "\n",
        "categories.sort()\n",
        "\n",
        "for category in categories:\n",
        "    function = udf(lambda item: 1 if item == category else 0, IntegerType())\n",
        "    new_column_name = 'Symbol'+'_'+category\n",
        "    spark_dataframe = spark_dataframe.withColumn(new_column_name, function(col('Symbol')))"
      ],
      "execution_count": null,
      "outputs": []
    },
    {
      "cell_type": "code",
      "metadata": {
        "colab": {
          "base_uri": "https://localhost:8080/"
        },
        "id": "vu5V750jJdRd",
        "outputId": "eb4fe62a-73bc-4cbf-b112-4b64d5ba40e8"
      },
      "source": [
        "spark_dataframe.show()"
      ],
      "execution_count": null,
      "outputs": [
        {
          "output_type": "stream",
          "text": [
            "+----------+------+-------+--------+-------+-----------+-------+-------+--------+--------+-----------+------+------------------+-----------+-----------+-----------+\n",
            "|      Date|  Open|   High|     Low|  close|     Volume|AdjOpen|AdjHigh|  AdjLow|AdjClose|  AdjVolume|Symbol|              diff|Symbol_AAPL|Symbol_GOOG|Symbol_MSFT|\n",
            "+----------+------+-------+--------+-------+-----------+-------+-------+--------+--------+-----------+------+------------------+-----------+-----------+-----------+\n",
            "|2018-03-27|173.68| 175.15|  166.92| 168.34|3.8962839E7| 173.68| 175.15|  166.92|  168.34|3.8962839E7|  AAPL|            342.02|          1|          0|          0|\n",
            "|2018-03-26|168.07|  173.1|  166.44| 172.77|3.6272617E7| 168.07|  173.1|  166.44|  172.77|3.6272617E7|  AAPL|340.84000000000003|          1|          0|          0|\n",
            "|2018-03-23|168.39| 169.92|  164.94| 164.94|4.0248954E7| 168.39| 169.92|  164.94|  164.94|4.0248954E7|  AAPL|            333.33|          1|          0|          0|\n",
            "|2018-03-22| 170.0| 172.68|   168.6|168.845|4.1051076E7|  170.0| 172.68|   168.6| 168.845|4.1051076E7|  AAPL|           338.845|          1|          0|          0|\n",
            "|2018-03-21|175.04| 175.09|  171.26| 171.27|3.5247358E7| 175.04| 175.09|  171.26|  171.27|3.5247358E7|  AAPL|            346.31|          1|          0|          0|\n",
            "|2018-03-20|175.24|  176.8|  174.94| 175.24|1.9314039E7| 175.24|  176.8|  174.94|  175.24|1.9314039E7|  AAPL|            350.48|          1|          0|          0|\n",
            "|2018-03-19|177.32| 177.47|  173.66|  175.3|3.2804695E7| 177.32| 177.47|  173.66|   175.3|3.2804695E7|  AAPL|            352.62|          1|          0|          0|\n",
            "|2018-03-16|178.65| 179.12|  177.62| 178.02|3.6836456E7| 178.65| 179.12|  177.62|  178.02|3.6836456E7|  AAPL|            356.67|          1|          0|          0|\n",
            "|2018-03-15| 178.5| 180.24|178.0701| 178.65|2.2584565E7|  178.5| 180.24|178.0701|  178.65|2.2584565E7|  AAPL|            357.15|          1|          0|          0|\n",
            "|2018-03-14|180.32| 180.52|  177.81| 178.44|2.9075469E7| 180.32| 180.52|  177.81|  178.44|2.9075469E7|  AAPL|            358.76|          1|          0|          0|\n",
            "|2018-03-13|182.59|  183.5|  179.24| 179.97|3.1168404E7| 182.59|  183.5|  179.24|  179.97|3.1168404E7|  AAPL|            362.56|          1|          0|          0|\n",
            "|2018-03-12|180.29| 182.39|  180.21| 181.72|3.2055405E7| 180.29| 182.39|  180.21|  181.72|3.2055405E7|  AAPL|            362.01|          1|          0|          0|\n",
            "|2018-03-09|177.96|  180.0|  177.39| 179.98|3.1385134E7| 177.96|  180.0|  177.39|  179.98|3.1385134E7|  AAPL|            357.94|          1|          0|          0|\n",
            "|2018-03-08|175.48| 177.12|  175.07| 176.94|2.3163767E7| 175.48| 177.12|  175.07|  176.94|2.3163767E7|  AAPL|352.41999999999996|          1|          0|          0|\n",
            "|2018-03-07|174.94| 175.85|  174.27| 175.03|3.1703462E7| 174.94| 175.85|  174.27|  175.03|3.1703462E7|  AAPL|            349.97|          1|          0|          0|\n",
            "|2018-03-06|177.91| 178.25|  176.13| 176.67|2.3788506E7| 177.91| 178.25|  176.13|  176.67|2.3788506E7|  AAPL|            354.58|          1|          0|          0|\n",
            "|2018-03-05|175.21| 177.74|  174.52| 176.82|2.8401366E7| 175.21| 177.74|  174.52|  176.82|2.8401366E7|  AAPL|            352.03|          1|          0|          0|\n",
            "|2018-03-02| 172.8|  176.3|  172.45| 176.21| 3.845395E7|  172.8|  176.3|  172.45|  176.21| 3.845395E7|  AAPL|            349.01|          1|          0|          0|\n",
            "|2018-03-01|178.54|179.775|  172.66|  175.0| 4.880197E7| 178.54|179.775|  172.66|   175.0| 4.880197E7|  AAPL|353.53999999999996|          1|          0|          0|\n",
            "|2018-02-28|179.26|180.615|  178.05| 178.12|3.3604574E7| 179.26|180.615|  178.05|  178.12|3.3604574E7|  AAPL|            357.38|          1|          0|          0|\n",
            "+----------+------+-------+--------+-------+-----------+-------+-------+--------+--------+-----------+------+------------------+-----------+-----------+-----------+\n",
            "only showing top 20 rows\n",
            "\n"
          ],
          "name": "stdout"
        }
      ]
    },
    {
      "cell_type": "code",
      "metadata": {
        "id": "EpEyRDysJuGJ"
      },
      "source": [
        ""
      ],
      "execution_count": null,
      "outputs": []
    }
  ]
}