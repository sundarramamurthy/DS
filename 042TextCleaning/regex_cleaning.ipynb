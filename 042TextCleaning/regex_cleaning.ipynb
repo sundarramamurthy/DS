{
 "cells": [
  {
   "cell_type": "markdown",
   "metadata": {},
   "source": [
    "# Regular Expressions for Text Cleaning"
   ]
  },
  {
   "cell_type": "markdown",
   "metadata": {},
   "source": [
    "Load the twitter dataset"
   ]
  },
  {
   "cell_type": "code",
   "execution_count": 13,
   "metadata": {},
   "outputs": [],
   "source": [
    "import re\n",
    "import pandas as pd\n",
    "tweets = pd.read_csv(\"tweets.csv\")\n",
    "pd.set_option('display.max_colwidth', 300)"
   ]
  },
  {
   "cell_type": "code",
   "execution_count": 14,
   "metadata": {},
   "outputs": [
    {
     "data": {
      "text/plain": [
       "0       #fingerprint #Pregnancy Test https://goo.gl/h1MfQV #android #apps #beautiful #cute #health #igers #iphoneonly #iphonesia #iphone\n",
       "1    Finally a transparant silicon case ^^ Thanks to my uncle :) #yay #Sony #Xperia #S #sonyexperias… http://instagram.com/p/YGEt5JC6JM/\n",
       "2            We love this! Would you go? #talk #makememories #unplug #relax #iphone #smartphone #wifi #connect... http://fb.me/6N3LsUpCu\n",
       "3                       I'm wired I know I'm George I was made that way ;) #iphone #cute #daventry #home http://instagr.am/p/Li_5_ujS4k/\n",
       "4           What amazing service! Apple won't even talk to me about a question I have unless I pay them $19.95 for their stupid support!\n",
       "Name: tweet, dtype: object"
      ]
     },
     "execution_count": 14,
     "metadata": {},
     "output_type": "execute_result"
    }
   ],
   "source": [
    "tweets['tweet'].head()"
   ]
  },
  {
   "cell_type": "markdown",
   "metadata": {},
   "source": [
    "#### 1. Remove URLs\n",
    "\n",
    "We will use ```re.sub()``` function for removing unwanted elements from the text."
   ]
  },
  {
   "cell_type": "code",
   "execution_count": 15,
   "metadata": {},
   "outputs": [
    {
     "data": {
      "text/plain": [
       "'Finally I got a 4K #samsung #4k #3d #7100series #tv #65inch #gamer #gamerlife https://www.instagram.com/p/BCvXqOypZw3/'"
      ]
     },
     "execution_count": 15,
     "metadata": {},
     "output_type": "execute_result"
    }
   ],
   "source": [
    "# select a tweet with URL\n",
    "twt = tweets['tweet'][6257]\n",
    "twt"
   ]
  },
  {
   "cell_type": "code",
   "execution_count": 16,
   "metadata": {},
   "outputs": [
    {
     "name": "stdout",
     "output_type": "stream",
     "text": [
      "Finally I got a 4K #samsung #4k #3d #7100series #tv #65inch #gamer #gamerlife \n"
     ]
    }
   ],
   "source": [
    "# remove URL\n",
    "twt = re.sub(r'http\\S+', '', twt)\n",
    "\n",
    "# print tweet without any URL\n",
    "print(twt)"
   ]
  },
  {
   "cell_type": "markdown",
   "metadata": {},
   "source": [
    "#### 2. Remove Special Characters"
   ]
  },
  {
   "cell_type": "code",
   "execution_count": 17,
   "metadata": {},
   "outputs": [
    {
     "data": {
      "text/plain": [
       "'Get 6% off Apple iTunes Gift Card 100 USD now $94.48 #BlackFriday #CyberMonday #amazon #Deals #iosdev #gifts #movies #gaming #discounts #music #songs #apps #ios #iphone #ipad http://crwd.fr/2zvl24g pic.twitter.com/BiQeqLchz6'"
      ]
     },
     "execution_count": 17,
     "metadata": {},
     "output_type": "execute_result"
    }
   ],
   "source": [
    "# select a tweet with special characters\n",
    "twt2 = tweets['tweet'][1018]\n",
    "twt2"
   ]
  },
  {
   "cell_type": "code",
   "execution_count": 18,
   "metadata": {},
   "outputs": [
    {
     "data": {
      "text/plain": [
       "'Get 6 off Apple iTunes Gift Card 100 USD now 94.48 BlackFriday CyberMonday amazon Deals iosdev gifts movies gaming discounts music songs apps ios iphone ipad http://crwd.fr/2zvl24g pic.twitter.com/BiQeqLchz6'"
      ]
     },
     "execution_count": 18,
     "metadata": {},
     "output_type": "execute_result"
    }
   ],
   "source": [
    "# remove special characters (%,$ and #)\n",
    "re.sub(r'[%$#]', '', twt2)"
   ]
  },
  {
   "cell_type": "markdown",
   "metadata": {},
   "source": [
    "#### 3. Remove Punctuation Marks"
   ]
  },
  {
   "cell_type": "code",
   "execution_count": 19,
   "metadata": {},
   "outputs": [
    {
     "data": {
      "text/plain": [
       "'Thanks #apple for your #floodalert safe in my bed, I cannot go back to sleep. #killme #iphone #ihavetobeupsoon'"
      ]
     },
     "execution_count": 19,
     "metadata": {},
     "output_type": "execute_result"
    }
   ],
   "source": [
    "# select a tweet with punctuation marks\n",
    "twt3 = tweets['tweet'][2342]\n",
    "twt3"
   ]
  },
  {
   "cell_type": "code",
   "execution_count": 20,
   "metadata": {},
   "outputs": [
    {
     "data": {
      "text/plain": [
       "'Thanks #apple for your #floodalert safe in my bed I cannot go back to sleep #killme #iphone #ihavetobeupsoon'"
      ]
     },
     "execution_count": 20,
     "metadata": {},
     "output_type": "execute_result"
    }
   ],
   "source": [
    "# remove punctuation marks\n",
    "re.sub(r'[.,]', '', twt3)"
   ]
  },
  {
   "cell_type": "code",
   "execution_count": null,
   "metadata": {},
   "outputs": [],
   "source": []
  }
 ],
 "metadata": {
  "kernelspec": {
   "display_name": "Python 3",
   "language": "python",
   "name": "python3"
  },
  "language_info": {
   "codemirror_mode": {
    "name": "ipython",
    "version": 3
   },
   "file_extension": ".py",
   "mimetype": "text/x-python",
   "name": "python",
   "nbconvert_exporter": "python",
   "pygments_lexer": "ipython3",
   "version": "3.7.3"
  }
 },
 "nbformat": 4,
 "nbformat_minor": 2
}
